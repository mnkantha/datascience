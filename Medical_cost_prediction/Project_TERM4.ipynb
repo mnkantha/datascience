{
 "cells": [
  {
   "cell_type": "markdown",
   "metadata": {
    "id": "qhJ5eXRDdAm4"
   },
   "source": [
    "<center><img src=\"https://github.com/insaid2018/Term-1/blob/master/Images/INSAID_Full%20Logo.png?raw=true\" width=\"240\" height=\"100\" /></center>\n",
    "\n",
    "\n",
    "## **<center>MEDICAL COST PREDICTION</center>**"
   ]
  },
  {
   "cell_type": "markdown",
   "metadata": {
    "id": "7hppoilS4-By"
   },
   "source": [
    "---\n",
    "# **Table of Contents**\n",
    "---\n",
    "\n",
    "**1.** [**Introduction**](#Section1)<br>\n",
    "**2.** [**Problem Statement**](#Section2)<br>\n",
    "**3.** [**Installing & Importing Libraries**](#Section3)<br>\n",
    "  - **3.1** [**Installing Libraries**](#Section31)\n",
    "  - **3.2** [**Upgrading Libraries**](#Section32)\n",
    "  - **3.3** [**Importing Libraries**](#Section33)\n",
    "\n",
    "**4.** [**Data Acquisition & Description**](#Section4)<br>\n",
    "  - **4.1** [**Data Description**](#Section41)<br>\n",
    "\n",
    "**5.** [**Data Pre-processing**](#Section5)<br>\n",
    "  - **5.1** [**Pre-Profiling Report**](#Section51)<br>\n",
    "  - **5.2** [**Post-Profiling Report**](#Section52)<br>\n",
    "\n",
    "**6.** [**Exploratory Data Analysis**](#Section6)<br>\n",
    "**7.** [**Data Post-Processing**](#Section7)<br>\n",
    "  - **7.1** [**Feature Extraction**](#Section71)<br>\n",
    "  - **7.2** [**Feature Transformation**](#Section72)<br>\n",
    "  - **7.3** [**Feature Scaling**](#Section73)<br>\n",
    "  - **7.4** [**Data Preparation**](#Section74)<br>\n",
    "\n",
    "**8.** [**Model Development & Evaluation**](#Section8)<br>\n",
    "**9.** [**Conclusion**](#Section9)<br>\n"
   ]
  },
  {
   "cell_type": "markdown",
   "metadata": {
    "id": "KYzWJySpdAm6"
   },
   "source": [
    "---\n",
    "<a name = Section1></a>\n",
    "# **1. Introduction**\n",
    "---\n",
    "\n",
    "- **XYZ Health Insurance Co. Ltd** . is one of the prominent insurance providers in the country.\n",
    "\n",
    "- They offer impressive health plans and services to cater to the needs of different people..\n",
    "\n",
    "- The insurance company also provides access to fitness assessment centers, wellness centers, diagnostic centers in addition to hospitalization centers."
   ]
  },
  {
   "cell_type": "markdown",
   "metadata": {
    "id": "IFoG0ClP_pNu"
   },
   "source": [
    "---\n",
    "<a name = Section2></a>\n",
    "# **2. Problem Statement**\n",
    "---\n",
    "\n",
    "The company is planning to introduce a **new system** that will help to easily **monitor and predict** the **medical insurance prices of their customers**."
   ]
  },
  {
   "cell_type": "markdown",
   "metadata": {
    "id": "XtlrwPAnTw9v"
   },
   "source": [
    "---\n",
    "<a name = Section3></a>\n",
    "# **3. Installing & Importing Libraries**\n",
    "---"
   ]
  },
  {
   "cell_type": "markdown",
   "metadata": {
    "id": "PEDodd4RTzwQ"
   },
   "source": [
    "<a name = Section31></a>\n",
    "### **3.1 Installing Libraries**"
   ]
  },
  {
   "cell_type": "code",
   "execution_count": 1,
   "metadata": {
    "executionInfo": {
     "elapsed": 1,
     "status": "ok",
     "timestamp": 1625569237072,
     "user": {
      "displayName": "Hiren Rupchandani",
      "photoUrl": "https://lh3.googleusercontent.com/a-/AOh14GhgU4n1VRWoxNACyzwiLFFnL3xL6qH1xJchHFekUbI=s64",
      "userId": "16888644812809569435"
     },
     "user_tz": -330
    },
    "id": "uReYv3Q0Tfbq"
   },
   "outputs": [
    {
     "name": "stderr",
     "output_type": "stream",
     "text": [
      "ERROR: Invalid requirement: '#'\n"
     ]
    },
    {
     "name": "stdout",
     "output_type": "stream",
     "text": [
      "Requirement already satisfied: sweetviz in c:\\users\\mani\\anaconda3\\lib\\site-packages (2.1.3)\n",
      "Requirement already satisfied: jinja2>=2.11.1 in c:\\users\\mani\\anaconda3\\lib\\site-packages (from sweetviz) (2.11.3)\n",
      "Requirement already satisfied: pandas!=1.0.0,!=1.0.1,!=1.0.2,>=0.25.3 in c:\\users\\mani\\anaconda3\\lib\\site-packages (from sweetviz) (1.2.4)\n",
      "Requirement already satisfied: numpy>=1.16.0 in c:\\users\\mani\\anaconda3\\lib\\site-packages (from sweetviz) (1.19.5)\n",
      "Requirement already satisfied: scipy>=1.3.2 in c:\\users\\mani\\anaconda3\\lib\\site-packages (from sweetviz) (1.6.2)\n",
      "Requirement already satisfied: importlib-resources>=1.2.0 in c:\\users\\mani\\anaconda3\\lib\\site-packages (from sweetviz) (5.4.0)\n",
      "Requirement already satisfied: tqdm>=4.43.0 in c:\\users\\mani\\anaconda3\\lib\\site-packages (from sweetviz) (4.59.0)\n",
      "Requirement already satisfied: matplotlib>=3.1.3 in c:\\users\\mani\\anaconda3\\lib\\site-packages (from sweetviz) (3.3.4)\n",
      "Requirement already satisfied: zipp>=3.1.0 in c:\\users\\mani\\anaconda3\\lib\\site-packages (from importlib-resources>=1.2.0->sweetviz) (3.4.1)\n",
      "Requirement already satisfied: MarkupSafe>=0.23 in c:\\users\\mani\\anaconda3\\lib\\site-packages (from jinja2>=2.11.1->sweetviz) (2.0.1)\n",
      "Requirement already satisfied: cycler>=0.10 in c:\\users\\mani\\anaconda3\\lib\\site-packages (from matplotlib>=3.1.3->sweetviz) (0.10.0)\n",
      "Requirement already satisfied: kiwisolver>=1.0.1 in c:\\users\\mani\\anaconda3\\lib\\site-packages (from matplotlib>=3.1.3->sweetviz) (1.3.1)\n",
      "Requirement already satisfied: pyparsing!=2.0.4,!=2.1.2,!=2.1.6,>=2.0.3 in c:\\users\\mani\\anaconda3\\lib\\site-packages (from matplotlib>=3.1.3->sweetviz) (2.4.7)\n",
      "Requirement already satisfied: python-dateutil>=2.1 in c:\\users\\mani\\anaconda3\\lib\\site-packages (from matplotlib>=3.1.3->sweetviz) (2.8.1)\n",
      "Requirement already satisfied: pillow>=6.2.0 in c:\\users\\mani\\anaconda3\\lib\\site-packages (from matplotlib>=3.1.3->sweetviz) (8.2.0)\n",
      "Requirement already satisfied: six in c:\\users\\mani\\anaconda3\\lib\\site-packages (from cycler>=0.10->matplotlib>=3.1.3->sweetviz) (1.15.0)\n",
      "Requirement already satisfied: pytz>=2017.3 in c:\\users\\mani\\anaconda3\\lib\\site-packages (from pandas!=1.0.0,!=1.0.1,!=1.0.2,>=0.25.3->sweetviz) (2021.1)\n"
     ]
    }
   ],
   "source": [
    "!pip install -q datascience                                                       # Package that is required by pandas profiling\n",
    "!pip install -q pandas-profiling  \n",
    "!pip install sweetviz"
   ]
  },
  {
   "cell_type": "markdown",
   "metadata": {
    "id": "iCixNz_JT4v-"
   },
   "source": [
    "<a name = Section32></a>\n",
    "### **3.2 Upgrading Libraries**\n",
    "\n",
    "- **After upgrading** the libraries, you need to **restart the runtime** to make the libraries in sync. \n",
    "\n",
    "- Make sure not to execute the cell above (3.1) and below (3.2) again after restarting the runtime.\n",
    "\n"
   ]
  },
  {
   "cell_type": "code",
   "execution_count": 2,
   "metadata": {
    "executionInfo": {
     "elapsed": 24,
     "status": "ok",
     "timestamp": 1625569239237,
     "user": {
      "displayName": "Hiren Rupchandani",
      "photoUrl": "https://lh3.googleusercontent.com/a-/AOh14GhgU4n1VRWoxNACyzwiLFFnL3xL6qH1xJchHFekUbI=s64",
      "userId": "16888644812809569435"
     },
     "user_tz": -330
    },
    "id": "fbVAp6P2T2FA"
   },
   "outputs": [],
   "source": [
    "# !pip install -q --upgrade pandas-profiling"
   ]
  },
  {
   "cell_type": "markdown",
   "metadata": {
    "id": "7cNbpwUyT98F"
   },
   "source": [
    "<a name = Section33></a>\n",
    "### **3.3 Importing Libraries**"
   ]
  },
  {
   "cell_type": "code",
   "execution_count": 5,
   "metadata": {
    "executionInfo": {
     "elapsed": 25,
     "status": "ok",
     "timestamp": 1625569239238,
     "user": {
      "displayName": "Hiren Rupchandani",
      "photoUrl": "https://lh3.googleusercontent.com/a-/AOh14GhgU4n1VRWoxNACyzwiLFFnL3xL6qH1xJchHFekUbI=s64",
      "userId": "16888644812809569435"
     },
     "user_tz": -330
    },
    "id": "fQeMHeSHT7Ss"
   },
   "outputs": [],
   "source": [
    "#-------------------------------------------------------------------------------------------------------------------------------\n",
    "import pandas as pd                                                               # Importing for panel data analysis\n",
    "from pandas_profiling import ProfileReport                                        # Import Pandas Profiling (To generate Univariate Analysis) \n",
    "pd.set_option('display.max_columns', None)                                        # Unfolding hidden features if the cardinality is high      \n",
    "pd.set_option('display.max_colwidth', None)                                       # Unfolding the max feature width for better clearity      \n",
    "pd.set_option('display.max_rows', None)                                           # Unfolding hidden data points if the cardinality is high\n",
    "pd.set_option('display.float_format', lambda x: '%.5f' % x)                       # To suppress scientific notation over exponential values\n",
    "#-------------------------------------------------------------------------------------------------------------------------------\n",
    "import numpy as np                                                                # Importing package numpys (For Numerical Python)\n",
    "#-------------------------------------------------------------------------------------------------------------------------------\n",
    "import matplotlib.pyplot as plt                                                   # Importing pyplot interface using matplotlib                                              \n",
    "import seaborn as sns                                                             # Importing seaborm library for interactive visualization\n",
    "%matplotlib inline\n",
    "#-------------------------------------------------------------------------------------------------------------------------------\n",
    "from sklearn.model_selection import train_test_split              # To split the data in training and testing part \n",
    "from sklearn.model_selection import KFold \n",
    "from sklearn.model_selection import cross_val_score \n",
    "from sklearn.preprocessing import StandardScaler         # Importing Standard Scaler library from preprocessing. \n",
    "from sklearn.preprocessing import LabelEncoder \n",
    "from sklearn.linear_model import LinearRegression                                 # Importing Linear Regression model\n",
    "from sklearn.metrics import mean_squared_error                                    # To calculate the MSE of a regression model\n",
    "from sklearn.metrics import mean_absolute_error                                   # To calculate the MAE of a regression model\n",
    "from sklearn.metrics import r2_score                                  # To calculate the R-squared score of a regression model\n",
    "#Modelin Library\n",
    "from sklearn.preprocessing import MinMaxScaler\n",
    "from sklearn.model_selection import RandomizedSearchCV\n",
    "from sklearn.linear_model import Ridge, Lasso, ElasticNet\n",
    "from sklearn.tree import DecisionTreeRegressor\n",
    "from sklearn.ensemble import RandomForestRegressor\n",
    "from sklearn.svm import SVR\n",
    "from scipy import stats\n",
    "from statsmodels.tools.eval_measures import rmse\n",
    "import statsmodels.formula.api as smf\n",
    "from mpl_toolkits.mplot3d import Axes3D\n",
    "\n",
    "#-------------------------------------------------------------------------------------------------------------------------------\n",
    "import warnings                                                                   # Importing warning to disable runtime warnings\n",
    "warnings.filterwarnings(\"ignore\")     "
   ]
  },
  {
   "cell_type": "markdown",
   "metadata": {
    "id": "uoDc1_F9q2hD"
   },
   "source": [
    "---\n",
    "<a name = Section4></a>\n",
    "# **4. Data Acquisition & Description**\n",
    "---\n",
    "\n",
    "- This data set is being taken from the **INSAID Project Library** for the purpose of **prediction**.\n",
    "\n",
    "\n",
    "</br>\n",
    "\n",
    "| Records | Features | Dataset Size |\n",
    "| :-- | :-- | :-- |\n",
    "| 11003 | 8 | 45.0 KB | \n",
    "\n",
    "</br>\n",
    "\t\t\t\t\t\t\t\t\t\t\t\t\t\n",
    "\n",
    "|Id|Feature|Description|\n",
    "|:--|:--|:--|\n",
    "|01|**Age**| Age of the Customer |\n",
    "|02|**Sex**| Sex of the Customer |\n",
    "|03|**BMI**| Body Mass Index of the Customer |\n",
    "|04|**Children**| Number of Childerns of the Customer |\n",
    "|05|**Smoker**| Smoker indication |\n",
    "|06|**region**| geographical region |\n",
    "|07|**id**| Id of the customer |\n",
    "|08|**charges**| Medical expense charges from insurance |\n",
    "|\n",
    "\n",
    "**NOTE**: You can use this **[link](https://www.insaid.co/wp-content/uploads/2021/10/Medical-Cost-Prediction.zip)** to download the zip file for data.\n"
   ]
  },
  {
   "cell_type": "code",
   "execution_count": 138,
   "metadata": {
    "colab": {
     "base_uri": "https://localhost:8080/",
     "height": 243
    },
    "executionInfo": {
     "elapsed": 25,
     "status": "ok",
     "timestamp": 1625569239239,
     "user": {
      "displayName": "Hiren Rupchandani",
      "photoUrl": "https://lh3.googleusercontent.com/a-/AOh14GhgU4n1VRWoxNACyzwiLFFnL3xL6qH1xJchHFekUbI=s64",
      "userId": "16888644812809569435"
     },
     "user_tz": -330
    },
    "id": "RtHhyz5Xbb72",
    "outputId": "2c1c9f32-2421-489d-cf03-e50b20d25a92"
   },
   "outputs": [
    {
     "name": "stdout",
     "output_type": "stream",
     "text": [
      "Data Shape: (1003, 8)\n"
     ]
    },
    {
     "data": {
      "text/html": [
       "<div>\n",
       "<style scoped>\n",
       "    .dataframe tbody tr th:only-of-type {\n",
       "        vertical-align: middle;\n",
       "    }\n",
       "\n",
       "    .dataframe tbody tr th {\n",
       "        vertical-align: top;\n",
       "    }\n",
       "\n",
       "    .dataframe thead th {\n",
       "        text-align: right;\n",
       "    }\n",
       "</style>\n",
       "<table border=\"1\" class=\"dataframe\">\n",
       "  <thead>\n",
       "    <tr style=\"text-align: right;\">\n",
       "      <th></th>\n",
       "      <th>age</th>\n",
       "      <th>sex</th>\n",
       "      <th>bmi</th>\n",
       "      <th>children</th>\n",
       "      <th>smoker</th>\n",
       "      <th>region</th>\n",
       "      <th>id</th>\n",
       "      <th>charges</th>\n",
       "    </tr>\n",
       "  </thead>\n",
       "  <tbody>\n",
       "    <tr>\n",
       "      <th>0</th>\n",
       "      <td>24</td>\n",
       "      <td>male</td>\n",
       "      <td>23.65500</td>\n",
       "      <td>0</td>\n",
       "      <td>no</td>\n",
       "      <td>northwest</td>\n",
       "      <td>693</td>\n",
       "      <td>2352.96845</td>\n",
       "    </tr>\n",
       "    <tr>\n",
       "      <th>1</th>\n",
       "      <td>28</td>\n",
       "      <td>female</td>\n",
       "      <td>26.51000</td>\n",
       "      <td>2</td>\n",
       "      <td>no</td>\n",
       "      <td>southeast</td>\n",
       "      <td>1297</td>\n",
       "      <td>4340.44090</td>\n",
       "    </tr>\n",
       "    <tr>\n",
       "      <th>2</th>\n",
       "      <td>51</td>\n",
       "      <td>male</td>\n",
       "      <td>39.70000</td>\n",
       "      <td>1</td>\n",
       "      <td>no</td>\n",
       "      <td>southwest</td>\n",
       "      <td>634</td>\n",
       "      <td>9391.34600</td>\n",
       "    </tr>\n",
       "    <tr>\n",
       "      <th>3</th>\n",
       "      <td>47</td>\n",
       "      <td>male</td>\n",
       "      <td>36.08000</td>\n",
       "      <td>1</td>\n",
       "      <td>yes</td>\n",
       "      <td>southeast</td>\n",
       "      <td>1022</td>\n",
       "      <td>42211.13820</td>\n",
       "    </tr>\n",
       "    <tr>\n",
       "      <th>4</th>\n",
       "      <td>46</td>\n",
       "      <td>female</td>\n",
       "      <td>28.90000</td>\n",
       "      <td>2</td>\n",
       "      <td>no</td>\n",
       "      <td>southwest</td>\n",
       "      <td>178</td>\n",
       "      <td>8823.27900</td>\n",
       "    </tr>\n",
       "  </tbody>\n",
       "</table>\n",
       "</div>"
      ],
      "text/plain": [
       "   age     sex      bmi  children smoker     region    id     charges\n",
       "0   24    male 23.65500         0     no  northwest   693  2352.96845\n",
       "1   28  female 26.51000         2     no  southeast  1297  4340.44090\n",
       "2   51    male 39.70000         1     no  southwest   634  9391.34600\n",
       "3   47    male 36.08000         1    yes  southeast  1022 42211.13820\n",
       "4   46  female 28.90000         2     no  southwest   178  8823.27900"
      ]
     },
     "execution_count": 138,
     "metadata": {},
     "output_type": "execute_result"
    }
   ],
   "source": [
    "df = pd.read_csv(filepath_or_buffer=\"C:/Users/Mani/Desktop/GCDAI/MACHINE LEARNING/Term 4/Medical-Cost-Prediction/train_data.csv\")\n",
    "print('Data Shape:', df.shape)\n",
    "df.head()"
   ]
  },
  {
   "cell_type": "markdown",
   "metadata": {
    "id": "77Yn2IRBUXu3"
   },
   "source": [
    "<a name = Section41></a>\n",
    "### **4.1 Data Description**\n",
    "\n",
    "- In this section we will get **description** and **statistics** about the data."
   ]
  },
  {
   "cell_type": "code",
   "execution_count": 82,
   "metadata": {
    "colab": {
     "base_uri": "https://localhost:8080/",
     "height": 300
    },
    "executionInfo": {
     "elapsed": 24,
     "status": "ok",
     "timestamp": 1625569239239,
     "user": {
      "displayName": "Hiren Rupchandani",
      "photoUrl": "https://lh3.googleusercontent.com/a-/AOh14GhgU4n1VRWoxNACyzwiLFFnL3xL6qH1xJchHFekUbI=s64",
      "userId": "16888644812809569435"
     },
     "user_tz": -330
    },
    "id": "WEjgRiopUS78",
    "outputId": "4af6f05f-96cf-4668-d88a-8a8d41d32bb3"
   },
   "outputs": [
    {
     "data": {
      "text/html": [
       "<div>\n",
       "<style scoped>\n",
       "    .dataframe tbody tr th:only-of-type {\n",
       "        vertical-align: middle;\n",
       "    }\n",
       "\n",
       "    .dataframe tbody tr th {\n",
       "        vertical-align: top;\n",
       "    }\n",
       "\n",
       "    .dataframe thead th {\n",
       "        text-align: right;\n",
       "    }\n",
       "</style>\n",
       "<table border=\"1\" class=\"dataframe\">\n",
       "  <thead>\n",
       "    <tr style=\"text-align: right;\">\n",
       "      <th></th>\n",
       "      <th>count</th>\n",
       "      <th>mean</th>\n",
       "      <th>std</th>\n",
       "      <th>min</th>\n",
       "      <th>25%</th>\n",
       "      <th>50%</th>\n",
       "      <th>75%</th>\n",
       "      <th>max</th>\n",
       "    </tr>\n",
       "  </thead>\n",
       "  <tbody>\n",
       "    <tr>\n",
       "      <th>age</th>\n",
       "      <td>1003.00000</td>\n",
       "      <td>39.25523</td>\n",
       "      <td>14.03910</td>\n",
       "      <td>18.00000</td>\n",
       "      <td>27.00000</td>\n",
       "      <td>39.00000</td>\n",
       "      <td>51.00000</td>\n",
       "      <td>64.00000</td>\n",
       "    </tr>\n",
       "    <tr>\n",
       "      <th>bmi</th>\n",
       "      <td>1003.00000</td>\n",
       "      <td>30.51178</td>\n",
       "      <td>6.01311</td>\n",
       "      <td>15.96000</td>\n",
       "      <td>26.21000</td>\n",
       "      <td>30.20000</td>\n",
       "      <td>34.43000</td>\n",
       "      <td>53.13000</td>\n",
       "    </tr>\n",
       "    <tr>\n",
       "      <th>children</th>\n",
       "      <td>1003.00000</td>\n",
       "      <td>1.10469</td>\n",
       "      <td>1.20462</td>\n",
       "      <td>0.00000</td>\n",
       "      <td>0.00000</td>\n",
       "      <td>1.00000</td>\n",
       "      <td>2.00000</td>\n",
       "      <td>5.00000</td>\n",
       "    </tr>\n",
       "    <tr>\n",
       "      <th>id</th>\n",
       "      <td>1003.00000</td>\n",
       "      <td>666.87438</td>\n",
       "      <td>386.57044</td>\n",
       "      <td>0.00000</td>\n",
       "      <td>329.50000</td>\n",
       "      <td>675.00000</td>\n",
       "      <td>1001.50000</td>\n",
       "      <td>1337.00000</td>\n",
       "    </tr>\n",
       "    <tr>\n",
       "      <th>charges</th>\n",
       "      <td>1003.00000</td>\n",
       "      <td>13267.93582</td>\n",
       "      <td>12051.35655</td>\n",
       "      <td>1121.87390</td>\n",
       "      <td>4780.83940</td>\n",
       "      <td>9447.38240</td>\n",
       "      <td>16840.66797</td>\n",
       "      <td>62592.87309</td>\n",
       "    </tr>\n",
       "  </tbody>\n",
       "</table>\n",
       "</div>"
      ],
      "text/plain": [
       "              count        mean         std        min        25%        50%  \\\n",
       "age      1003.00000    39.25523    14.03910   18.00000   27.00000   39.00000   \n",
       "bmi      1003.00000    30.51178     6.01311   15.96000   26.21000   30.20000   \n",
       "children 1003.00000     1.10469     1.20462    0.00000    0.00000    1.00000   \n",
       "id       1003.00000   666.87438   386.57044    0.00000  329.50000  675.00000   \n",
       "charges  1003.00000 13267.93582 12051.35655 1121.87390 4780.83940 9447.38240   \n",
       "\n",
       "                 75%         max  \n",
       "age         51.00000    64.00000  \n",
       "bmi         34.43000    53.13000  \n",
       "children     2.00000     5.00000  \n",
       "id        1001.50000  1337.00000  \n",
       "charges  16840.66797 62592.87309  "
      ]
     },
     "execution_count": 82,
     "metadata": {},
     "output_type": "execute_result"
    }
   ],
   "source": [
    "df.describe().T"
   ]
  },
  {
   "cell_type": "markdown",
   "metadata": {
    "id": "BxUdWzGJauBc"
   },
   "source": [
    "**Observations**:\n",
    "\n",
    "- **Charges** for some customers range from as **low** as a **\\$1121** to as **high** as **\\$62592**.\n",
    "\n",
    "- **25% of customers** have charges around **4 to 5 k**.\n",
    "\n",
    "- **50% of customers** have their charges **more than 9k**.\n",
    "\n",
    "- **75% of customers** have their charges **less than 17k units**.\n",
    "- Max BMI value **53.13** appears to be an outlier.\n",
    "- Age of the customers is in the range of **18 to 64** years.\n",
    "- On an average, it apppears that, each customer has one child, where\n",
    "\n",
    "\n",
    "- **More than 50%** of customers have their **charges lower than the average** charges i.e. **\\$13267.94**."
   ]
  },
  {
   "cell_type": "markdown",
   "metadata": {
    "id": "krgIYFUVUhU-"
   },
   "source": [
    "<a name = Section42></a>\n",
    "### **4.2 Data Information**\n",
    "\n",
    " - In this section, we will get **information about the data** and see some observations.\n"
   ]
  },
  {
   "cell_type": "code",
   "execution_count": 5,
   "metadata": {
    "colab": {
     "base_uri": "https://localhost:8080/"
    },
    "executionInfo": {
     "elapsed": 23,
     "status": "ok",
     "timestamp": 1625569239239,
     "user": {
      "displayName": "Hiren Rupchandani",
      "photoUrl": "https://lh3.googleusercontent.com/a-/AOh14GhgU4n1VRWoxNACyzwiLFFnL3xL6qH1xJchHFekUbI=s64",
      "userId": "16888644812809569435"
     },
     "user_tz": -330
    },
    "id": "HrRrBwQjUaiK",
    "outputId": "d7af5c7c-ba99-4ae3-c626-c642e6bd1150"
   },
   "outputs": [
    {
     "name": "stdout",
     "output_type": "stream",
     "text": [
      "<class 'pandas.core.frame.DataFrame'>\n",
      "RangeIndex: 1003 entries, 0 to 1002\n",
      "Data columns (total 8 columns):\n",
      " #   Column    Non-Null Count  Dtype  \n",
      "---  ------    --------------  -----  \n",
      " 0   age       1003 non-null   int64  \n",
      " 1   sex       1003 non-null   object \n",
      " 2   bmi       1003 non-null   float64\n",
      " 3   children  1003 non-null   int64  \n",
      " 4   smoker    1003 non-null   object \n",
      " 5   region    1003 non-null   object \n",
      " 6   id        1003 non-null   int64  \n",
      " 7   charges   1003 non-null   float64\n",
      "dtypes: float64(2), int64(3), object(3)\n",
      "memory usage: 62.8+ KB\n"
     ]
    }
   ],
   "source": [
    "df.info()"
   ]
  },
  {
   "cell_type": "markdown",
   "metadata": {
    "id": "sZH2DlsS3L0n"
   },
   "source": [
    "**Observations**:\n",
    "\n",
    "- Out of 8 features, we have **3 int64 datatype** features(Age, Number of Childern and Id), **3 object type** features (sex, smoker and region), and the **rest are of float64** datatype features.\n",
    "\n",
    "- We may have to **convert some variables** like BMI into appropriate forms so we can use them for training purposes."
   ]
  },
  {
   "cell_type": "markdown",
   "metadata": {
    "id": "t_2bYwbAUpF-"
   },
   "source": [
    "<a name = Section5></a>\n",
    "\n",
    "---\n",
    "# **5. Data Pre-Processing**\n",
    "---"
   ]
  },
  {
   "cell_type": "markdown",
   "metadata": {
    "id": "rsJXKcnyUsNV"
   },
   "source": [
    "<a name = Section51></a>\n",
    "### **5.1 Pre Profiling Report**"
   ]
  },
  {
   "cell_type": "code",
   "execution_count": 6,
   "metadata": {
    "executionInfo": {
     "elapsed": 21,
     "status": "ok",
     "timestamp": 1625569239240,
     "user": {
      "displayName": "Hiren Rupchandani",
      "photoUrl": "https://lh3.googleusercontent.com/a-/AOh14GhgU4n1VRWoxNACyzwiLFFnL3xL6qH1xJchHFekUbI=s64",
      "userId": "16888644812809569435"
     },
     "user_tz": -330
    },
    "id": "nK5rgQppUjhp"
   },
   "outputs": [
    {
     "data": {
      "application/vnd.jupyter.widget-view+json": {
       "model_id": "8207a64484a3495d9c19d6afd78efefb",
       "version_major": 2,
       "version_minor": 0
      },
      "text/plain": [
       "Summarize dataset:   0%|          | 0/5 [00:00<?, ?it/s]"
      ]
     },
     "metadata": {},
     "output_type": "display_data"
    },
    {
     "data": {
      "application/vnd.jupyter.widget-view+json": {
       "model_id": "db46c2c6fa334e93b54485cc26c9a13c",
       "version_major": 2,
       "version_minor": 0
      },
      "text/plain": [
       "Generate report structure:   0%|          | 0/1 [00:00<?, ?it/s]"
      ]
     },
     "metadata": {},
     "output_type": "display_data"
    },
    {
     "data": {
      "application/vnd.jupyter.widget-view+json": {
       "model_id": "892ad267da0e4a2fa8d7061a1bfd9390",
       "version_major": 2,
       "version_minor": 0
      },
      "text/plain": [
       "Render HTML:   0%|          | 0/1 [00:00<?, ?it/s]"
      ]
     },
     "metadata": {},
     "output_type": "display_data"
    },
    {
     "data": {
      "application/vnd.jupyter.widget-view+json": {
       "model_id": "b8b294d1a21a4814af7c1684c199091a",
       "version_major": 2,
       "version_minor": 0
      },
      "text/plain": [
       "Export report to file:   0%|          | 0/1 [00:00<?, ?it/s]"
      ]
     },
     "metadata": {},
     "output_type": "display_data"
    },
    {
     "name": "stdout",
     "output_type": "stream",
     "text": [
      "<bound method ProfileReport.to_file of >\n"
     ]
    }
   ],
   "source": [
    "#profile = ProfileReport(df=df)\n",
    "#profile.to_file(output_file='Pre Profiling Report.html')\n",
    "#print(profile.to_file)"
   ]
  },
  {
   "cell_type": "code",
   "execution_count": 9,
   "metadata": {},
   "outputs": [
    {
     "data": {
      "application/vnd.jupyter.widget-view+json": {
       "model_id": "bdcc4e9d721d49bf85ea5b4de06601a4",
       "version_major": 2,
       "version_minor": 0
      },
      "text/plain": [
       "                                             |          | [  0%]   00:00 -> (? left)"
      ]
     },
     "metadata": {},
     "output_type": "display_data"
    },
    {
     "name": "stdout",
     "output_type": "stream",
     "text": [
      "Report sweet_report.html was generated! NOTEBOOK/COLAB USERS: the web browser MAY not pop up, regardless, the report IS saved in your notebook/colab files.\n"
     ]
    }
   ],
   "source": [
    "import sweetviz as svz\n",
    "sweet_report = svz.analyze(df)\n",
    "sweet_report.show_html('sweet_report.html')"
   ]
  },
  {
   "cell_type": "markdown",
   "metadata": {
    "id": "LqqVuHS4bftI"
   },
   "source": [
    "**Observations**:\n",
    "\n",
    "- The report shows 8 features with 1003 observations.\n",
    "\n",
    "- There are 3 categorical and 5 numeric features.\n",
    "\n",
    "- Age and BMI are **uniform** and have a **high cardinality**.\n",
    "\n",
    "- Age has a high correlation with charges.\n",
    "\n",
    "- 0 cells (0.0%) have missing information."
   ]
  },
  {
   "cell_type": "markdown",
   "metadata": {
    "id": "DRzbd1ICKlQq"
   },
   "source": [
    "#### **Performing Operations**"
   ]
  },
  {
   "cell_type": "markdown",
   "metadata": {
    "id": "Vy9TXw5PdAnl"
   },
   "source": [
    "\n",
    "---\n",
    "**<h4>Question 1:** Define a function to create the bins according to the charges</h4>\n",
    "\n",
    "---\n",
    "\n",
    "- We can see that the lowest line has a 'charges' that ranges from 0 up to about 15,000 \n",
    "- The middle from 15,000 up to 30,000\n",
    "- The highest line from 30k onwards.\n",
    "\n",
    "- Use if else condition to create the bins."
   ]
  },
  {
   "cell_type": "code",
   "execution_count": 54,
   "metadata": {},
   "outputs": [
    {
     "data": {
      "text/plain": [
       "<AxesSubplot:xlabel='age', ylabel='charges'>"
      ]
     },
     "execution_count": 54,
     "metadata": {},
     "output_type": "execute_result"
    },
    {
     "data": {
      "image/png": "[encoded data removed]",
      "text/plain": [
       "<Figure size 432x288 with 1 Axes>"
      ]
     },
     "metadata": {
      "needs_background": "light"
     },
     "output_type": "display_data"
    }
   ],
   "source": [
    "sns.scatterplot(x = 'age', y = 'charges', data = df, hue = 'region')"
   ]
  },
  {
   "cell_type": "code",
   "execution_count": 53,
   "metadata": {},
   "outputs": [
    {
     "data": {
      "text/plain": [
       "<AxesSubplot:xlabel='age', ylabel='charges'>"
      ]
     },
     "execution_count": 53,
     "metadata": {},
     "output_type": "execute_result"
    },
    {
     "data": {
      "image/png": "[encoded data removed]",
      "text/plain": [
       "<Figure size 432x288 with 1 Axes>"
      ]
     },
     "metadata": {
      "needs_background": "light"
     },
     "output_type": "display_data"
    }
   ],
   "source": [
    "sns.scatterplot(x = 'age', y = 'charges', data = df, hue = 'smoker')"
   ]
  },
  {
   "cell_type": "code",
   "execution_count": 21,
   "metadata": {},
   "outputs": [
    {
     "data": {
      "text/plain": [
       "<seaborn.axisgrid.FacetGrid at 0x2735c5e4d30>"
      ]
     },
     "execution_count": 21,
     "metadata": {},
     "output_type": "execute_result"
    },
    {
     "data": {
      "image/png": "[encoded data removed]",
      "text/plain": [
       "<Figure size 360x360 with 1 Axes>"
      ]
     },
     "metadata": {
      "needs_background": "light"
     },
     "output_type": "display_data"
    }
   ],
   "source": [
    "# Distribution of the response\n",
    "sns.displot(x='charges', data = df, kde = True)"
   ]
  },
  {
   "cell_type": "markdown",
   "metadata": {},
   "source": [
    "- We can see that the lowest line has a 'charges' that ranges from 0 up to about 15,000 \n",
    "- The middle from 15,000 up to 30,000\n",
    "- The highest line from 30k onwards.\n",
    "\n",
    "- Use if else condition to create the bins."
   ]
  },
  {
   "cell_type": "code",
   "execution_count": 83,
   "metadata": {
    "executionInfo": {
     "elapsed": 20,
     "status": "ok",
     "timestamp": 1625569239240,
     "user": {
      "displayName": "Hiren Rupchandani",
      "photoUrl": "https://lh3.googleusercontent.com/a-/AOh14GhgU4n1VRWoxNACyzwiLFFnL3xL6qH1xJchHFekUbI=s64",
      "userId": "16888644812809569435"
     },
     "user_tz": -330
    },
    "id": "k-gqKktddAnn"
   },
   "outputs": [],
   "source": [
    "def cluster(x):\n",
    "    if x < 15000:\n",
    "        return 'low'\n",
    "    elif x < 30000:\n",
    "        return 'middle'\n",
    "    else:\n",
    "        return 'high'\n",
    "### apply the function to the dataframe\n",
    "df['charges_bins'] = df['charges'].map(cluster)"
   ]
  },
  {
   "cell_type": "code",
   "execution_count": 84,
   "metadata": {
    "colab": {
     "base_uri": "https://localhost:8080/"
    },
    "executionInfo": {
     "elapsed": 21,
     "status": "ok",
     "timestamp": 1625569239241,
     "user": {
      "displayName": "Hiren Rupchandani",
      "photoUrl": "https://lh3.googleusercontent.com/a-/AOh14GhgU4n1VRWoxNACyzwiLFFnL3xL6qH1xJchHFekUbI=s64",
      "userId": "16888644812809569435"
     },
     "user_tz": -330
    },
    "id": "PCUn4C6CiTlP",
    "outputId": "c6e7c3a3-a8cb-4044-a2d2-7030a2374194"
   },
   "outputs": [
    {
     "name": "stdout",
     "output_type": "stream",
     "text": [
      "(1003, 9)\n"
     ]
    },
    {
     "data": {
      "text/plain": [
       "low       734\n",
       "middle    149\n",
       "high      120\n",
       "Name: charges_bins, dtype: int64"
      ]
     },
     "execution_count": 84,
     "metadata": {},
     "output_type": "execute_result"
    }
   ],
   "source": [
    "print(df.shape)\n",
    "df['charges_bins'].value_counts()"
   ]
  },
  {
   "cell_type": "markdown",
   "metadata": {
    "id": "wpUUyhKGdAnx"
   },
   "source": [
    "---\n",
    "**<h4>Question 2:** Create a function to classify BMI and Age into bins to understand the correlation.</h4>"
   ]
  },
  {
   "cell_type": "code",
   "execution_count": 85,
   "metadata": {},
   "outputs": [],
   "source": [
    "def bmi_category(bmi):\n",
    "    if bmi < 18.5:\n",
    "        return 'under-weight'\n",
    "    elif bmi >= 18.5 and bmi < 25:\n",
    "        return 'normal-weight'\n",
    "    elif bmi >= 25 and bmi <= 30:\n",
    "        return 'over-weight'\n",
    "    elif bmi > 30.0:\n",
    "        return \"obese\"\n",
    "    \n",
    "def age_category(age):\n",
    "    age_dict = {\n",
    "        0: '0-9',\n",
    "        1: '10-19',\n",
    "        2: '20-29',\n",
    "        3: '30-39',\n",
    "        4: '40-49',\n",
    "        5: '50-59',\n",
    "        6: '60-69',\n",
    "        7: '70-79',\n",
    "        8: '80-89',\n",
    "        9: '90-99',\n",
    "        10: '100-200'\n",
    "    }\n",
    "    return age_dict[age//10]"
   ]
  },
  {
   "cell_type": "code",
   "execution_count": 86,
   "metadata": {},
   "outputs": [],
   "source": [
    "df['cbmi'] = df['bmi'].apply(lambda x: \"none\")\n",
    "df['cage'] = df['age'].apply(lambda x: \"none\")"
   ]
  },
  {
   "cell_type": "code",
   "execution_count": 87,
   "metadata": {},
   "outputs": [],
   "source": [
    "for idx, row in df.iterrows():\n",
    "    df.at[idx, 'cbmi'] = bmi_category(row['bmi'])\n",
    "    df.at[idx, 'cage'] = age_category(row['age'])"
   ]
  },
  {
   "cell_type": "code",
   "execution_count": 88,
   "metadata": {
    "scrolled": true
   },
   "outputs": [
    {
     "name": "stdout",
     "output_type": "stream",
     "text": [
      "cbmi\n",
      "normal-weight    175\n",
      "obese            518\n",
      "over-weight      298\n",
      "under-weight      12\n",
      "dtype: int64\n",
      "--------------------------------------------------------------------------------\n",
      "cage\n",
      "10-19    106\n",
      "20-29    206\n",
      "30-39    192\n",
      "40-49    208\n",
      "50-59    208\n",
      "60-69     83\n",
      "dtype: int64\n",
      "--------------------------------------------------------------------------------\n"
     ]
    }
   ],
   "source": [
    "by_bmi = df.groupby(by='cbmi').size()\n",
    "print (by_bmi)\n",
    "print ('-'*80)\n",
    "\n",
    "by_age = df.groupby(by='cage').size()\n",
    "print (by_age)\n",
    "print ('-'*80)"
   ]
  },
  {
   "cell_type": "code",
   "execution_count": 89,
   "metadata": {},
   "outputs": [
    {
     "name": "stdout",
     "output_type": "stream",
     "text": [
      "<class 'pandas.core.frame.DataFrame'>\n",
      "RangeIndex: 1003 entries, 0 to 1002\n",
      "Data columns (total 11 columns):\n",
      " #   Column        Non-Null Count  Dtype  \n",
      "---  ------        --------------  -----  \n",
      " 0   age           1003 non-null   int64  \n",
      " 1   sex           1003 non-null   object \n",
      " 2   bmi           1003 non-null   float64\n",
      " 3   children      1003 non-null   int64  \n",
      " 4   smoker        1003 non-null   object \n",
      " 5   region        1003 non-null   object \n",
      " 6   id            1003 non-null   int64  \n",
      " 7   charges       1003 non-null   float64\n",
      " 8   charges_bins  1003 non-null   object \n",
      " 9   cbmi          1003 non-null   object \n",
      " 10  cage          1003 non-null   object \n",
      "dtypes: float64(2), int64(3), object(6)\n",
      "memory usage: 86.3+ KB\n"
     ]
    }
   ],
   "source": [
    "df.info()"
   ]
  },
  {
   "cell_type": "code",
   "execution_count": 58,
   "metadata": {
    "scrolled": true
   },
   "outputs": [],
   "source": [
    "#sns.pairplot(df, size=2)"
   ]
  },
  {
   "cell_type": "code",
   "execution_count": 86,
   "metadata": {
    "scrolled": true
   },
   "outputs": [],
   "source": [
    "#df.cbmi.notnull()"
   ]
  },
  {
   "cell_type": "code",
   "execution_count": 102,
   "metadata": {},
   "outputs": [],
   "source": [
    "#df[df.cbmi.notnull()]\n",
    "#nan_in_col  = df[df['cbmi'].isnull()]\n",
    "#nan_in_col"
   ]
  },
  {
   "cell_type": "markdown",
   "metadata": {},
   "source": [
    "\n",
    "---\n",
    "**<h4>Question 3:** Create a function that performs dummification of 'categorical variables' feature and replaces the original feature with its dummy features. </h4>\n",
    "\n",
    "---\n",
    "- we will use `.get_dummies` to dummify 'categorical variables'.\n",
    "\n",
    "- Keep `drop_first=True` parameter."
   ]
  },
  {
   "cell_type": "code",
   "execution_count": 90,
   "metadata": {},
   "outputs": [],
   "source": [
    "def dummy_cat_creator(data=None):\n",
    "  # Create a dummy variable for categorical variables\n",
    "  dummies = pd.get_dummies(data=df, columns=['smoker', 'sex', 'region'], drop_first=True)\n",
    "  # Return the dummy variable\n",
    "  return dummies"
   ]
  },
  {
   "cell_type": "code",
   "execution_count": 91,
   "metadata": {},
   "outputs": [
    {
     "data": {
      "text/html": [
       "<div>\n",
       "<style scoped>\n",
       "    .dataframe tbody tr th:only-of-type {\n",
       "        vertical-align: middle;\n",
       "    }\n",
       "\n",
       "    .dataframe tbody tr th {\n",
       "        vertical-align: top;\n",
       "    }\n",
       "\n",
       "    .dataframe thead th {\n",
       "        text-align: right;\n",
       "    }\n",
       "</style>\n",
       "<table border=\"1\" class=\"dataframe\">\n",
       "  <thead>\n",
       "    <tr style=\"text-align: right;\">\n",
       "      <th></th>\n",
       "      <th>age</th>\n",
       "      <th>bmi</th>\n",
       "      <th>children</th>\n",
       "      <th>id</th>\n",
       "      <th>charges</th>\n",
       "      <th>charges_bins</th>\n",
       "      <th>cbmi</th>\n",
       "      <th>cage</th>\n",
       "      <th>smoker_yes</th>\n",
       "      <th>sex_male</th>\n",
       "      <th>region_northwest</th>\n",
       "      <th>region_southeast</th>\n",
       "      <th>region_southwest</th>\n",
       "    </tr>\n",
       "  </thead>\n",
       "  <tbody>\n",
       "    <tr>\n",
       "      <th>0</th>\n",
       "      <td>24</td>\n",
       "      <td>23.65500</td>\n",
       "      <td>0</td>\n",
       "      <td>693</td>\n",
       "      <td>2352.96845</td>\n",
       "      <td>low</td>\n",
       "      <td>normal-weight</td>\n",
       "      <td>20-29</td>\n",
       "      <td>0</td>\n",
       "      <td>1</td>\n",
       "      <td>1</td>\n",
       "      <td>0</td>\n",
       "      <td>0</td>\n",
       "    </tr>\n",
       "    <tr>\n",
       "      <th>1</th>\n",
       "      <td>28</td>\n",
       "      <td>26.51000</td>\n",
       "      <td>2</td>\n",
       "      <td>1297</td>\n",
       "      <td>4340.44090</td>\n",
       "      <td>low</td>\n",
       "      <td>over-weight</td>\n",
       "      <td>20-29</td>\n",
       "      <td>0</td>\n",
       "      <td>0</td>\n",
       "      <td>0</td>\n",
       "      <td>1</td>\n",
       "      <td>0</td>\n",
       "    </tr>\n",
       "    <tr>\n",
       "      <th>2</th>\n",
       "      <td>51</td>\n",
       "      <td>39.70000</td>\n",
       "      <td>1</td>\n",
       "      <td>634</td>\n",
       "      <td>9391.34600</td>\n",
       "      <td>low</td>\n",
       "      <td>obese</td>\n",
       "      <td>50-59</td>\n",
       "      <td>0</td>\n",
       "      <td>1</td>\n",
       "      <td>0</td>\n",
       "      <td>0</td>\n",
       "      <td>1</td>\n",
       "    </tr>\n",
       "    <tr>\n",
       "      <th>3</th>\n",
       "      <td>47</td>\n",
       "      <td>36.08000</td>\n",
       "      <td>1</td>\n",
       "      <td>1022</td>\n",
       "      <td>42211.13820</td>\n",
       "      <td>high</td>\n",
       "      <td>obese</td>\n",
       "      <td>40-49</td>\n",
       "      <td>1</td>\n",
       "      <td>1</td>\n",
       "      <td>0</td>\n",
       "      <td>1</td>\n",
       "      <td>0</td>\n",
       "    </tr>\n",
       "    <tr>\n",
       "      <th>4</th>\n",
       "      <td>46</td>\n",
       "      <td>28.90000</td>\n",
       "      <td>2</td>\n",
       "      <td>178</td>\n",
       "      <td>8823.27900</td>\n",
       "      <td>low</td>\n",
       "      <td>over-weight</td>\n",
       "      <td>40-49</td>\n",
       "      <td>0</td>\n",
       "      <td>0</td>\n",
       "      <td>0</td>\n",
       "      <td>0</td>\n",
       "      <td>1</td>\n",
       "    </tr>\n",
       "  </tbody>\n",
       "</table>\n",
       "</div>"
      ],
      "text/plain": [
       "   age      bmi  children    id     charges charges_bins           cbmi  \\\n",
       "0   24 23.65500         0   693  2352.96845          low  normal-weight   \n",
       "1   28 26.51000         2  1297  4340.44090          low    over-weight   \n",
       "2   51 39.70000         1   634  9391.34600          low          obese   \n",
       "3   47 36.08000         1  1022 42211.13820         high          obese   \n",
       "4   46 28.90000         2   178  8823.27900          low    over-weight   \n",
       "\n",
       "    cage  smoker_yes  sex_male  region_northwest  region_southeast  \\\n",
       "0  20-29           0         1                 1                 0   \n",
       "1  20-29           0         0                 0                 1   \n",
       "2  50-59           0         1                 0                 0   \n",
       "3  40-49           1         1                 0                 1   \n",
       "4  40-49           0         0                 0                 0   \n",
       "\n",
       "   region_southwest  \n",
       "0                 0  \n",
       "1                 0  \n",
       "2                 1  \n",
       "3                 0  \n",
       "4                 1  "
      ]
     },
     "execution_count": 91,
     "metadata": {},
     "output_type": "execute_result"
    }
   ],
   "source": [
    "train_dummy_v = dummy_cat_creator(data=df)\n",
    "train_dummy_v.head()"
   ]
  },
  {
   "cell_type": "code",
   "execution_count": 92,
   "metadata": {
    "executionInfo": {
     "elapsed": 19,
     "status": "ok",
     "timestamp": 1625569239242,
     "user": {
      "displayName": "Hiren Rupchandani",
      "photoUrl": "https://lh3.googleusercontent.com/a-/AOh14GhgU4n1VRWoxNACyzwiLFFnL3xL6qH1xJchHFekUbI=s64",
      "userId": "16888644812809569435"
     },
     "user_tz": -330
    },
    "id": "pHdav9-KdAny"
   },
   "outputs": [],
   "source": [
    "def drop_vars(data=None):\n",
    "  # Drop the mentioned columns\n",
    "  col_drop = data.drop(data[['charges_bins', 'cbmi', 'cage']], axis=1)\n",
    "\n",
    "  # Return the modified dataframe\n",
    "  return col_drop"
   ]
  },
  {
   "cell_type": "code",
   "execution_count": 139,
   "metadata": {},
   "outputs": [],
   "source": [
    "le = LabelEncoder()\n",
    "df['sex'] = le.fit_transform(df['sex'])\n",
    "df['smoker'] = le.fit_transform(df['smoker'])\n",
    "df['region'] = le.fit_transform(df['region'])"
   ]
  },
  {
   "cell_type": "code",
   "execution_count": 140,
   "metadata": {},
   "outputs": [
    {
     "name": "stdout",
     "output_type": "stream",
     "text": [
      "[]\n",
      "Shape Before:  (1003, 8)\n",
      "Shape After:  (1003, 8)\n"
     ]
    }
   ],
   "source": [
    "dupl = list(df[df.duplicated()==True].index)\n",
    "print(dupl)\n",
    "print(\"Shape Before: \", df.shape)\n",
    "df.drop(df.index[dupl], inplace=True)\n",
    "print(\"Shape After: \", df.shape)"
   ]
  },
  {
   "cell_type": "code",
   "execution_count": 142,
   "metadata": {
    "scrolled": true
   },
   "outputs": [
    {
     "data": {
      "text/plain": [
       "'\\ndf[\\'z_bmi\\'] = np.abs(stats.zscore(df[\\'bmi\\']))\\noutlBmi = list(np.where(np.abs(df[\\'z_bmi\\']) > 3)[0])\\nprint(\"BMI Outliers: \", outlBmi)\\nprint(\"Total outlier BMI: \", len(outlBmi), \"\\n\")\\ndf[\\'z_charges\\'] = np.abs(stats.zscore(df[\\'charges\\']))\\noutlCharges = list(np.where(np.abs(df[\\'z_charges\\']) > 3)[0])\\nprint(\"Charges Outliers: \", outlCharges)\\nprint(\"Total outlier Charges: \", len(outlCharges))\\n\\n'"
      ]
     },
     "execution_count": 142,
     "metadata": {},
     "output_type": "execute_result"
    }
   ],
   "source": [
    "\n",
    "\"\"\"\n",
    "df['z_bmi'] = np.abs(stats.zscore(df['bmi']))\n",
    "outlBmi = list(np.where(np.abs(df['z_bmi']) > 3)[0])\n",
    "print(\"BMI Outliers: \", outlBmi)\n",
    "print(\"Total outlier BMI: \", len(outlBmi), \"\\n\")\n",
    "df['z_charges'] = np.abs(stats.zscore(df['charges']))\n",
    "outlCharges = list(np.where(np.abs(df['z_charges']) > 3)[0])\n",
    "print(\"Charges Outliers: \", outlCharges)\n",
    "print(\"Total outlier Charges: \", len(outlCharges))\n",
    "\n",
    "\"\"\"\n"
   ]
  },
  {
   "cell_type": "code",
   "execution_count": 110,
   "metadata": {
    "scrolled": true
   },
   "outputs": [],
   "source": [
    "outl = list(set(outlBmi + outlCharges))"
   ]
  },
  {
   "cell_type": "code",
   "execution_count": 143,
   "metadata": {
    "scrolled": true
   },
   "outputs": [
    {
     "name": "stdout",
     "output_type": "stream",
     "text": [
      "(1003, 8)\n"
     ]
    }
   ],
   "source": [
    "print(df.shape)\n",
    "#df1=df.drop(df.index[list(outl)], inplace=True)\n",
    "#print(df1.shape)"
   ]
  },
  {
   "cell_type": "code",
   "execution_count": 144,
   "metadata": {
    "scrolled": false
   },
   "outputs": [
    {
     "name": "stdout",
     "output_type": "stream",
     "text": [
      "<class 'pandas.core.frame.DataFrame'>\n",
      "Int64Index: 1003 entries, 0 to 1002\n",
      "Data columns (total 8 columns):\n",
      " #   Column    Non-Null Count  Dtype  \n",
      "---  ------    --------------  -----  \n",
      " 0   age       1003 non-null   int64  \n",
      " 1   sex       1003 non-null   int32  \n",
      " 2   bmi       1003 non-null   float64\n",
      " 3   children  1003 non-null   int64  \n",
      " 4   smoker    1003 non-null   int32  \n",
      " 5   region    1003 non-null   int32  \n",
      " 6   id        1003 non-null   int64  \n",
      " 7   charges   1003 non-null   float64\n",
      "dtypes: float64(2), int32(3), int64(3)\n",
      "memory usage: 58.8 KB\n"
     ]
    }
   ],
   "source": [
    "df.info()"
   ]
  },
  {
   "cell_type": "code",
   "execution_count": 153,
   "metadata": {},
   "outputs": [],
   "source": [
    "df2=df[['age', 'bmi', 'smoker', 'charges']]"
   ]
  },
  {
   "cell_type": "code",
   "execution_count": 209,
   "metadata": {},
   "outputs": [],
   "source": [
    "df3=df[['age', 'bmi', 'smoker', 'charges']]"
   ]
  },
  {
   "cell_type": "code",
   "execution_count": 145,
   "metadata": {},
   "outputs": [],
   "source": [
    "df1 = df[['age', 'bmi', 'smoker', 'charges']]"
   ]
  },
  {
   "cell_type": "code",
   "execution_count": 146,
   "metadata": {
    "scrolled": true
   },
   "outputs": [
    {
     "data": {
      "text/plain": [
       "<seaborn.axisgrid.PairGrid at 0x2c50b361f40>"
      ]
     },
     "execution_count": 146,
     "metadata": {},
     "output_type": "execute_result"
    },
    {
     "data": {
      "image/png": "[encoded data removed]",
      "text/plain": [
       "<Figure size 1000x1000 with 20 Axes>"
      ]
     },
     "metadata": {},
     "output_type": "display_data"
    }
   ],
   "source": [
    "sns.pairplot(df1)"
   ]
  },
  {
   "cell_type": "code",
   "execution_count": 155,
   "metadata": {},
   "outputs": [],
   "source": [
    "dfUsed = np.log10(df2[['age', 'charges']])\n",
    "dfUsed = dfUsed.join(df2[['smoker', 'bmi']])\n",
    "dfUsed = dfUsed[['age', 'bmi', 'smoker', 'charges']]"
   ]
  },
  {
   "cell_type": "code",
   "execution_count": 156,
   "metadata": {},
   "outputs": [],
   "source": [
    "X = dfUsed.iloc[:, :-1].values\n",
    "y = dfUsed.iloc[:, -1].values"
   ]
  },
  {
   "cell_type": "code",
   "execution_count": 210,
   "metadata": {},
   "outputs": [],
   "source": [
    "X = df3.iloc[:, :-1].values\n",
    "y = df3.iloc[:, -1].values"
   ]
  },
  {
   "cell_type": "code",
   "execution_count": null,
   "metadata": {},
   "outputs": [],
   "source": []
  },
  {
   "cell_type": "code",
   "execution_count": 211,
   "metadata": {},
   "outputs": [],
   "source": [
    "scores=[] #to store r squared\n",
    "rmse_list=[] #to store RMSE\n",
    "lrmodel = LinearRegression()\n",
    "cv = KFold(n_splits=10, random_state=42, shuffle=True)\n",
    "for train_index, test_index in cv.split(X):\n",
    "    X_train, X_test, y_train, y_test = X[train_index], X[test_index], y[train_index], y[test_index]\n",
    "    lrmodel.fit(X_train, y_train)\n",
    "    y_predict = lrmodel.predict(X_test)\n",
    "    scores.append(lrmodel.score(X_test, y_test))\n",
    "    rmse_fold = rmse(y_test, y_predict)\n",
    "    rmse_list.append(rmse_fold)"
   ]
  },
  {
   "cell_type": "code",
   "execution_count": 157,
   "metadata": {},
   "outputs": [],
   "source": [
    "scores=[] #to store r squared\n",
    "rmse_list=[] #to store RMSE\n",
    "lrmodel = LinearRegression()\n",
    "cv = KFold(n_splits=10, random_state=42, shuffle=True)\n",
    "for train_index, test_index in cv.split(X):\n",
    "    X_train, X_test, y_train, y_test = X[train_index], X[test_index], y[train_index], y[test_index]\n",
    "    lrmodel.fit(X_train, y_train)\n",
    "    y_predict = lrmodel.predict(X_test)\n",
    "    scores.append(lrmodel.score(X_test, y_test))\n",
    "    rmse_fold = rmse(y_test, y_predict)\n",
    "    rmse_list.append(rmse_fold)"
   ]
  },
  {
   "cell_type": "code",
   "execution_count": 215,
   "metadata": {},
   "outputs": [],
   "source": [
    " prediction = lrmodel.predict(df2)"
   ]
  },
  {
   "cell_type": "code",
   "execution_count": 221,
   "metadata": {},
   "outputs": [],
   "source": [
    "res = pd.DataFrame(prediction)\n",
    "res.index = df2.index\n",
    "res.index = df2['id']\n",
    "res.columns = [\"charges\"]\n",
    "res.to_csv(\"medical_cost_prediction_results\", index = True, header = False)"
   ]
  },
  {
   "cell_type": "code",
   "execution_count": null,
   "metadata": {},
   "outputs": [],
   "source": []
  },
  {
   "cell_type": "code",
   "execution_count": null,
   "metadata": {},
   "outputs": [],
   "source": []
  },
  {
   "cell_type": "code",
   "execution_count": null,
   "metadata": {},
   "outputs": [],
   "source": []
  },
  {
   "cell_type": "code",
   "execution_count": 212,
   "metadata": {
    "scrolled": true
   },
   "outputs": [
    {
     "ename": "PatsyError",
     "evalue": "Error evaluating factor: NameError: name 'charges' is not defined\n    charges ~ age + bmi + smoker\n    ^^^^^^^",
     "output_type": "error",
     "traceback": [
      "\u001b[1;31m---------------------------------------------------------------------------\u001b[0m",
      "\u001b[1;31mNameError\u001b[0m                                 Traceback (most recent call last)",
      "\u001b[1;32m~\\anaconda3\\lib\\site-packages\\patsy\\compat.py\u001b[0m in \u001b[0;36mcall_and_wrap_exc\u001b[1;34m(msg, origin, f, *args, **kwargs)\u001b[0m\n\u001b[0;32m     35\u001b[0m     \u001b[1;32mtry\u001b[0m\u001b[1;33m:\u001b[0m\u001b[1;33m\u001b[0m\u001b[1;33m\u001b[0m\u001b[0m\n\u001b[1;32m---> 36\u001b[1;33m         \u001b[1;32mreturn\u001b[0m \u001b[0mf\u001b[0m\u001b[1;33m(\u001b[0m\u001b[1;33m*\u001b[0m\u001b[0margs\u001b[0m\u001b[1;33m,\u001b[0m \u001b[1;33m**\u001b[0m\u001b[0mkwargs\u001b[0m\u001b[1;33m)\u001b[0m\u001b[1;33m\u001b[0m\u001b[1;33m\u001b[0m\u001b[0m\n\u001b[0m\u001b[0;32m     37\u001b[0m     \u001b[1;32mexcept\u001b[0m \u001b[0mException\u001b[0m \u001b[1;32mas\u001b[0m \u001b[0me\u001b[0m\u001b[1;33m:\u001b[0m\u001b[1;33m\u001b[0m\u001b[1;33m\u001b[0m\u001b[0m\n",
      "\u001b[1;32m~\\anaconda3\\lib\\site-packages\\patsy\\eval.py\u001b[0m in \u001b[0;36meval\u001b[1;34m(self, expr, source_name, inner_namespace)\u001b[0m\n\u001b[0;32m    164\u001b[0m         \u001b[0mcode\u001b[0m \u001b[1;33m=\u001b[0m \u001b[0mcompile\u001b[0m\u001b[1;33m(\u001b[0m\u001b[0mexpr\u001b[0m\u001b[1;33m,\u001b[0m \u001b[0msource_name\u001b[0m\u001b[1;33m,\u001b[0m \u001b[1;34m\"eval\"\u001b[0m\u001b[1;33m,\u001b[0m \u001b[0mself\u001b[0m\u001b[1;33m.\u001b[0m\u001b[0mflags\u001b[0m\u001b[1;33m,\u001b[0m \u001b[1;32mFalse\u001b[0m\u001b[1;33m)\u001b[0m\u001b[1;33m\u001b[0m\u001b[1;33m\u001b[0m\u001b[0m\n\u001b[1;32m--> 165\u001b[1;33m         return eval(code, {}, VarLookupDict([inner_namespace]\n\u001b[0m\u001b[0;32m    166\u001b[0m                                             + self._namespaces))\n",
      "\u001b[1;32m<string>\u001b[0m in \u001b[0;36m<module>\u001b[1;34m\u001b[0m\n",
      "\u001b[1;31mNameError\u001b[0m: name 'charges' is not defined",
      "\nThe above exception was the direct cause of the following exception:\n",
      "\u001b[1;31mPatsyError\u001b[0m                                Traceback (most recent call last)",
      "\u001b[1;32m<ipython-input-212-5cd6c20a69b7>\u001b[0m in \u001b[0;36m<module>\u001b[1;34m\u001b[0m\n\u001b[1;32m----> 1\u001b[1;33m \u001b[0mlm\u001b[0m \u001b[1;33m=\u001b[0m \u001b[0msmf\u001b[0m\u001b[1;33m.\u001b[0m\u001b[0mols\u001b[0m\u001b[1;33m(\u001b[0m\u001b[0mformula\u001b[0m\u001b[1;33m=\u001b[0m\u001b[1;34m'charges ~ age + bmi + smoker'\u001b[0m\u001b[1;33m,\u001b[0m \u001b[0mdata\u001b[0m \u001b[1;33m=\u001b[0m \u001b[0mdf2\u001b[0m\u001b[1;33m)\u001b[0m\u001b[1;33m.\u001b[0m\u001b[0mfit\u001b[0m\u001b[1;33m(\u001b[0m\u001b[1;33m)\u001b[0m\u001b[1;33m\u001b[0m\u001b[1;33m\u001b[0m\u001b[0m\n\u001b[0m\u001b[0;32m      2\u001b[0m \u001b[0mcomparison\u001b[0m \u001b[1;33m=\u001b[0m \u001b[0mpd\u001b[0m\u001b[1;33m.\u001b[0m\u001b[0mDataFrame\u001b[0m\u001b[1;33m(\u001b[0m\u001b[1;33m{\u001b[0m\u001b[1;34m\"y_test\"\u001b[0m\u001b[1;33m:\u001b[0m \u001b[0my_test\u001b[0m\u001b[1;33m,\u001b[0m \u001b[1;34m\"y_predict\"\u001b[0m\u001b[1;33m:\u001b[0m \u001b[0my_predict\u001b[0m\u001b[1;33m}\u001b[0m\u001b[1;33m)\u001b[0m\u001b[1;33m\u001b[0m\u001b[1;33m\u001b[0m\u001b[0m\n\u001b[0;32m      3\u001b[0m \u001b[0mprint\u001b[0m\u001b[1;33m(\u001b[0m\u001b[1;34m\"Summary: \"\u001b[0m\u001b[1;33m,\u001b[0m \u001b[0mlm\u001b[0m\u001b[1;33m.\u001b[0m\u001b[0msummary\u001b[0m\u001b[1;33m(\u001b[0m\u001b[1;33m)\u001b[0m\u001b[1;33m)\u001b[0m\u001b[1;33m\u001b[0m\u001b[1;33m\u001b[0m\u001b[0m\n\u001b[0;32m      4\u001b[0m \u001b[0mprint\u001b[0m\u001b[1;33m(\u001b[0m\u001b[1;34m\"R Squared Mean: \"\u001b[0m\u001b[1;33m,\u001b[0m \u001b[0mnp\u001b[0m\u001b[1;33m.\u001b[0m\u001b[0mmean\u001b[0m\u001b[1;33m(\u001b[0m\u001b[0mscores\u001b[0m\u001b[1;33m)\u001b[0m\u001b[1;33m)\u001b[0m\u001b[1;33m\u001b[0m\u001b[1;33m\u001b[0m\u001b[0m\n\u001b[0;32m      5\u001b[0m \u001b[0mprint\u001b[0m\u001b[1;33m(\u001b[0m\u001b[1;34m\"RMSE mean: \"\u001b[0m\u001b[1;33m,\u001b[0m \u001b[0mnp\u001b[0m\u001b[1;33m.\u001b[0m\u001b[0mmean\u001b[0m\u001b[1;33m(\u001b[0m\u001b[0mrmse_list\u001b[0m\u001b[1;33m)\u001b[0m\u001b[1;33m)\u001b[0m\u001b[1;33m\u001b[0m\u001b[1;33m\u001b[0m\u001b[0m\n",
      "\u001b[1;32m~\\anaconda3\\lib\\site-packages\\statsmodels\\base\\model.py\u001b[0m in \u001b[0;36mfrom_formula\u001b[1;34m(cls, formula, data, subset, drop_cols, *args, **kwargs)\u001b[0m\n\u001b[0;32m    167\u001b[0m             \u001b[0mmissing\u001b[0m \u001b[1;33m=\u001b[0m \u001b[1;34m'raise'\u001b[0m\u001b[1;33m\u001b[0m\u001b[1;33m\u001b[0m\u001b[0m\n\u001b[0;32m    168\u001b[0m \u001b[1;33m\u001b[0m\u001b[0m\n\u001b[1;32m--> 169\u001b[1;33m         tmp = handle_formula_data(data, None, formula, depth=eval_env,\n\u001b[0m\u001b[0;32m    170\u001b[0m                                   missing=missing)\n\u001b[0;32m    171\u001b[0m         \u001b[1;33m(\u001b[0m\u001b[1;33m(\u001b[0m\u001b[0mendog\u001b[0m\u001b[1;33m,\u001b[0m \u001b[0mexog\u001b[0m\u001b[1;33m)\u001b[0m\u001b[1;33m,\u001b[0m \u001b[0mmissing_idx\u001b[0m\u001b[1;33m,\u001b[0m \u001b[0mdesign_info\u001b[0m\u001b[1;33m)\u001b[0m \u001b[1;33m=\u001b[0m \u001b[0mtmp\u001b[0m\u001b[1;33m\u001b[0m\u001b[1;33m\u001b[0m\u001b[0m\n",
      "\u001b[1;32m~\\anaconda3\\lib\\site-packages\\statsmodels\\formula\\formulatools.py\u001b[0m in \u001b[0;36mhandle_formula_data\u001b[1;34m(Y, X, formula, depth, missing)\u001b[0m\n\u001b[0;32m     61\u001b[0m     \u001b[1;32melse\u001b[0m\u001b[1;33m:\u001b[0m\u001b[1;33m\u001b[0m\u001b[1;33m\u001b[0m\u001b[0m\n\u001b[0;32m     62\u001b[0m         \u001b[1;32mif\u001b[0m \u001b[0mdata_util\u001b[0m\u001b[1;33m.\u001b[0m\u001b[0m_is_using_pandas\u001b[0m\u001b[1;33m(\u001b[0m\u001b[0mY\u001b[0m\u001b[1;33m,\u001b[0m \u001b[1;32mNone\u001b[0m\u001b[1;33m)\u001b[0m\u001b[1;33m:\u001b[0m\u001b[1;33m\u001b[0m\u001b[1;33m\u001b[0m\u001b[0m\n\u001b[1;32m---> 63\u001b[1;33m             result = dmatrices(formula, Y, depth, return_type='dataframe',\n\u001b[0m\u001b[0;32m     64\u001b[0m                                NA_action=na_action)\n\u001b[0;32m     65\u001b[0m         \u001b[1;32melse\u001b[0m\u001b[1;33m:\u001b[0m\u001b[1;33m\u001b[0m\u001b[1;33m\u001b[0m\u001b[0m\n",
      "\u001b[1;32m~\\anaconda3\\lib\\site-packages\\patsy\\highlevel.py\u001b[0m in \u001b[0;36mdmatrices\u001b[1;34m(formula_like, data, eval_env, NA_action, return_type)\u001b[0m\n\u001b[0;32m    307\u001b[0m     \"\"\"\n\u001b[0;32m    308\u001b[0m     \u001b[0meval_env\u001b[0m \u001b[1;33m=\u001b[0m \u001b[0mEvalEnvironment\u001b[0m\u001b[1;33m.\u001b[0m\u001b[0mcapture\u001b[0m\u001b[1;33m(\u001b[0m\u001b[0meval_env\u001b[0m\u001b[1;33m,\u001b[0m \u001b[0mreference\u001b[0m\u001b[1;33m=\u001b[0m\u001b[1;36m1\u001b[0m\u001b[1;33m)\u001b[0m\u001b[1;33m\u001b[0m\u001b[1;33m\u001b[0m\u001b[0m\n\u001b[1;32m--> 309\u001b[1;33m     (lhs, rhs) = _do_highlevel_design(formula_like, data, eval_env,\n\u001b[0m\u001b[0;32m    310\u001b[0m                                       NA_action, return_type)\n\u001b[0;32m    311\u001b[0m     \u001b[1;32mif\u001b[0m \u001b[0mlhs\u001b[0m\u001b[1;33m.\u001b[0m\u001b[0mshape\u001b[0m\u001b[1;33m[\u001b[0m\u001b[1;36m1\u001b[0m\u001b[1;33m]\u001b[0m \u001b[1;33m==\u001b[0m \u001b[1;36m0\u001b[0m\u001b[1;33m:\u001b[0m\u001b[1;33m\u001b[0m\u001b[1;33m\u001b[0m\u001b[0m\n",
      "\u001b[1;32m~\\anaconda3\\lib\\site-packages\\patsy\\highlevel.py\u001b[0m in \u001b[0;36m_do_highlevel_design\u001b[1;34m(formula_like, data, eval_env, NA_action, return_type)\u001b[0m\n\u001b[0;32m    162\u001b[0m     \u001b[1;32mdef\u001b[0m \u001b[0mdata_iter_maker\u001b[0m\u001b[1;33m(\u001b[0m\u001b[1;33m)\u001b[0m\u001b[1;33m:\u001b[0m\u001b[1;33m\u001b[0m\u001b[1;33m\u001b[0m\u001b[0m\n\u001b[0;32m    163\u001b[0m         \u001b[1;32mreturn\u001b[0m \u001b[0miter\u001b[0m\u001b[1;33m(\u001b[0m\u001b[1;33m[\u001b[0m\u001b[0mdata\u001b[0m\u001b[1;33m]\u001b[0m\u001b[1;33m)\u001b[0m\u001b[1;33m\u001b[0m\u001b[1;33m\u001b[0m\u001b[0m\n\u001b[1;32m--> 164\u001b[1;33m     design_infos = _try_incr_builders(formula_like, data_iter_maker, eval_env,\n\u001b[0m\u001b[0;32m    165\u001b[0m                                       NA_action)\n\u001b[0;32m    166\u001b[0m     \u001b[1;32mif\u001b[0m \u001b[0mdesign_infos\u001b[0m \u001b[1;32mis\u001b[0m \u001b[1;32mnot\u001b[0m \u001b[1;32mNone\u001b[0m\u001b[1;33m:\u001b[0m\u001b[1;33m\u001b[0m\u001b[1;33m\u001b[0m\u001b[0m\n",
      "\u001b[1;32m~\\anaconda3\\lib\\site-packages\\patsy\\highlevel.py\u001b[0m in \u001b[0;36m_try_incr_builders\u001b[1;34m(formula_like, data_iter_maker, eval_env, NA_action)\u001b[0m\n\u001b[0;32m     64\u001b[0m     \u001b[1;32mif\u001b[0m \u001b[0misinstance\u001b[0m\u001b[1;33m(\u001b[0m\u001b[0mformula_like\u001b[0m\u001b[1;33m,\u001b[0m \u001b[0mModelDesc\u001b[0m\u001b[1;33m)\u001b[0m\u001b[1;33m:\u001b[0m\u001b[1;33m\u001b[0m\u001b[1;33m\u001b[0m\u001b[0m\n\u001b[0;32m     65\u001b[0m         \u001b[1;32massert\u001b[0m \u001b[0misinstance\u001b[0m\u001b[1;33m(\u001b[0m\u001b[0meval_env\u001b[0m\u001b[1;33m,\u001b[0m \u001b[0mEvalEnvironment\u001b[0m\u001b[1;33m)\u001b[0m\u001b[1;33m\u001b[0m\u001b[1;33m\u001b[0m\u001b[0m\n\u001b[1;32m---> 66\u001b[1;33m         return design_matrix_builders([formula_like.lhs_termlist,\n\u001b[0m\u001b[0;32m     67\u001b[0m                                        formula_like.rhs_termlist],\n\u001b[0;32m     68\u001b[0m                                       \u001b[0mdata_iter_maker\u001b[0m\u001b[1;33m,\u001b[0m\u001b[1;33m\u001b[0m\u001b[1;33m\u001b[0m\u001b[0m\n",
      "\u001b[1;32m~\\anaconda3\\lib\\site-packages\\patsy\\build.py\u001b[0m in \u001b[0;36mdesign_matrix_builders\u001b[1;34m(termlists, data_iter_maker, eval_env, NA_action)\u001b[0m\n\u001b[0;32m    691\u001b[0m     \u001b[1;31m# on some data to find out what type of data they return.\u001b[0m\u001b[1;33m\u001b[0m\u001b[1;33m\u001b[0m\u001b[1;33m\u001b[0m\u001b[0m\n\u001b[0;32m    692\u001b[0m     (num_column_counts,\n\u001b[1;32m--> 693\u001b[1;33m      \u001b[0mcat_levels_contrasts\u001b[0m\u001b[1;33m)\u001b[0m \u001b[1;33m=\u001b[0m \u001b[0m_examine_factor_types\u001b[0m\u001b[1;33m(\u001b[0m\u001b[0mall_factors\u001b[0m\u001b[1;33m,\u001b[0m\u001b[1;33m\u001b[0m\u001b[1;33m\u001b[0m\u001b[0m\n\u001b[0m\u001b[0;32m    694\u001b[0m                                                    \u001b[0mfactor_states\u001b[0m\u001b[1;33m,\u001b[0m\u001b[1;33m\u001b[0m\u001b[1;33m\u001b[0m\u001b[0m\n\u001b[0;32m    695\u001b[0m                                                    \u001b[0mdata_iter_maker\u001b[0m\u001b[1;33m,\u001b[0m\u001b[1;33m\u001b[0m\u001b[1;33m\u001b[0m\u001b[0m\n",
      "\u001b[1;32m~\\anaconda3\\lib\\site-packages\\patsy\\build.py\u001b[0m in \u001b[0;36m_examine_factor_types\u001b[1;34m(factors, factor_states, data_iter_maker, NA_action)\u001b[0m\n\u001b[0;32m    441\u001b[0m     \u001b[1;32mfor\u001b[0m \u001b[0mdata\u001b[0m \u001b[1;32min\u001b[0m \u001b[0mdata_iter_maker\u001b[0m\u001b[1;33m(\u001b[0m\u001b[1;33m)\u001b[0m\u001b[1;33m:\u001b[0m\u001b[1;33m\u001b[0m\u001b[1;33m\u001b[0m\u001b[0m\n\u001b[0;32m    442\u001b[0m         \u001b[1;32mfor\u001b[0m \u001b[0mfactor\u001b[0m \u001b[1;32min\u001b[0m \u001b[0mlist\u001b[0m\u001b[1;33m(\u001b[0m\u001b[0mexamine_needed\u001b[0m\u001b[1;33m)\u001b[0m\u001b[1;33m:\u001b[0m\u001b[1;33m\u001b[0m\u001b[1;33m\u001b[0m\u001b[0m\n\u001b[1;32m--> 443\u001b[1;33m             \u001b[0mvalue\u001b[0m \u001b[1;33m=\u001b[0m \u001b[0mfactor\u001b[0m\u001b[1;33m.\u001b[0m\u001b[0meval\u001b[0m\u001b[1;33m(\u001b[0m\u001b[0mfactor_states\u001b[0m\u001b[1;33m[\u001b[0m\u001b[0mfactor\u001b[0m\u001b[1;33m]\u001b[0m\u001b[1;33m,\u001b[0m \u001b[0mdata\u001b[0m\u001b[1;33m)\u001b[0m\u001b[1;33m\u001b[0m\u001b[1;33m\u001b[0m\u001b[0m\n\u001b[0m\u001b[0;32m    444\u001b[0m             \u001b[1;32mif\u001b[0m \u001b[0mfactor\u001b[0m \u001b[1;32min\u001b[0m \u001b[0mcat_sniffers\u001b[0m \u001b[1;32mor\u001b[0m \u001b[0mguess_categorical\u001b[0m\u001b[1;33m(\u001b[0m\u001b[0mvalue\u001b[0m\u001b[1;33m)\u001b[0m\u001b[1;33m:\u001b[0m\u001b[1;33m\u001b[0m\u001b[1;33m\u001b[0m\u001b[0m\n\u001b[0;32m    445\u001b[0m                 \u001b[1;32mif\u001b[0m \u001b[0mfactor\u001b[0m \u001b[1;32mnot\u001b[0m \u001b[1;32min\u001b[0m \u001b[0mcat_sniffers\u001b[0m\u001b[1;33m:\u001b[0m\u001b[1;33m\u001b[0m\u001b[1;33m\u001b[0m\u001b[0m\n",
      "\u001b[1;32m~\\anaconda3\\lib\\site-packages\\patsy\\eval.py\u001b[0m in \u001b[0;36meval\u001b[1;34m(self, memorize_state, data)\u001b[0m\n\u001b[0;32m    562\u001b[0m \u001b[1;33m\u001b[0m\u001b[0m\n\u001b[0;32m    563\u001b[0m     \u001b[1;32mdef\u001b[0m \u001b[0meval\u001b[0m\u001b[1;33m(\u001b[0m\u001b[0mself\u001b[0m\u001b[1;33m,\u001b[0m \u001b[0mmemorize_state\u001b[0m\u001b[1;33m,\u001b[0m \u001b[0mdata\u001b[0m\u001b[1;33m)\u001b[0m\u001b[1;33m:\u001b[0m\u001b[1;33m\u001b[0m\u001b[1;33m\u001b[0m\u001b[0m\n\u001b[1;32m--> 564\u001b[1;33m         return self._eval(memorize_state[\"eval_code\"],\n\u001b[0m\u001b[0;32m    565\u001b[0m                           \u001b[0mmemorize_state\u001b[0m\u001b[1;33m,\u001b[0m\u001b[1;33m\u001b[0m\u001b[1;33m\u001b[0m\u001b[0m\n\u001b[0;32m    566\u001b[0m                           data)\n",
      "\u001b[1;32m~\\anaconda3\\lib\\site-packages\\patsy\\eval.py\u001b[0m in \u001b[0;36m_eval\u001b[1;34m(self, code, memorize_state, data)\u001b[0m\n\u001b[0;32m    545\u001b[0m     \u001b[1;32mdef\u001b[0m \u001b[0m_eval\u001b[0m\u001b[1;33m(\u001b[0m\u001b[0mself\u001b[0m\u001b[1;33m,\u001b[0m \u001b[0mcode\u001b[0m\u001b[1;33m,\u001b[0m \u001b[0mmemorize_state\u001b[0m\u001b[1;33m,\u001b[0m \u001b[0mdata\u001b[0m\u001b[1;33m)\u001b[0m\u001b[1;33m:\u001b[0m\u001b[1;33m\u001b[0m\u001b[1;33m\u001b[0m\u001b[0m\n\u001b[0;32m    546\u001b[0m         \u001b[0minner_namespace\u001b[0m \u001b[1;33m=\u001b[0m \u001b[0mVarLookupDict\u001b[0m\u001b[1;33m(\u001b[0m\u001b[1;33m[\u001b[0m\u001b[0mdata\u001b[0m\u001b[1;33m,\u001b[0m \u001b[0mmemorize_state\u001b[0m\u001b[1;33m[\u001b[0m\u001b[1;34m\"transforms\"\u001b[0m\u001b[1;33m]\u001b[0m\u001b[1;33m]\u001b[0m\u001b[1;33m)\u001b[0m\u001b[1;33m\u001b[0m\u001b[1;33m\u001b[0m\u001b[0m\n\u001b[1;32m--> 547\u001b[1;33m         return call_and_wrap_exc(\"Error evaluating factor\",\n\u001b[0m\u001b[0;32m    548\u001b[0m                                  \u001b[0mself\u001b[0m\u001b[1;33m,\u001b[0m\u001b[1;33m\u001b[0m\u001b[1;33m\u001b[0m\u001b[0m\n\u001b[0;32m    549\u001b[0m                                  \u001b[0mmemorize_state\u001b[0m\u001b[1;33m[\u001b[0m\u001b[1;34m\"eval_env\"\u001b[0m\u001b[1;33m]\u001b[0m\u001b[1;33m.\u001b[0m\u001b[0meval\u001b[0m\u001b[1;33m,\u001b[0m\u001b[1;33m\u001b[0m\u001b[1;33m\u001b[0m\u001b[0m\n",
      "\u001b[1;32m~\\anaconda3\\lib\\site-packages\\patsy\\compat.py\u001b[0m in \u001b[0;36mcall_and_wrap_exc\u001b[1;34m(msg, origin, f, *args, **kwargs)\u001b[0m\n\u001b[0;32m     41\u001b[0m                                  origin)\n\u001b[0;32m     42\u001b[0m             \u001b[1;31m# Use 'exec' to hide this syntax from the Python 2 parser:\u001b[0m\u001b[1;33m\u001b[0m\u001b[1;33m\u001b[0m\u001b[1;33m\u001b[0m\u001b[0m\n\u001b[1;32m---> 43\u001b[1;33m             \u001b[0mexec\u001b[0m\u001b[1;33m(\u001b[0m\u001b[1;34m\"raise new_exc from e\"\u001b[0m\u001b[1;33m)\u001b[0m\u001b[1;33m\u001b[0m\u001b[1;33m\u001b[0m\u001b[0m\n\u001b[0m\u001b[0;32m     44\u001b[0m         \u001b[1;32melse\u001b[0m\u001b[1;33m:\u001b[0m\u001b[1;33m\u001b[0m\u001b[1;33m\u001b[0m\u001b[0m\n\u001b[0;32m     45\u001b[0m             \u001b[1;31m# In python 2, we just let the original exception escape -- better\u001b[0m\u001b[1;33m\u001b[0m\u001b[1;33m\u001b[0m\u001b[1;33m\u001b[0m\u001b[0m\n",
      "\u001b[1;32m~\\anaconda3\\lib\\site-packages\\patsy\\compat.py\u001b[0m in \u001b[0;36m<module>\u001b[1;34m\u001b[0m\n",
      "\u001b[1;31mPatsyError\u001b[0m: Error evaluating factor: NameError: name 'charges' is not defined\n    charges ~ age + bmi + smoker\n    ^^^^^^^"
     ]
    }
   ],
   "source": [
    "lm = smf.ols(formula='charges ~ age + bmi + smoker', data = df2).fit()\n",
    "comparison = pd.DataFrame({\"y_test\": y_test, \"y_predict\": y_predict})\n",
    "print(\"Summary: \", lm.summary())\n",
    "print(\"R Squared Mean: \", np.mean(scores))\n",
    "print(\"RMSE mean: \", np.mean(rmse_list))"
   ]
  },
  {
   "cell_type": "code",
   "execution_count": 158,
   "metadata": {},
   "outputs": [
    {
     "name": "stdout",
     "output_type": "stream",
     "text": [
      "Summary:                              OLS Regression Results                            \n",
      "==============================================================================\n",
      "Dep. Variable:                charges   R-squared:                       0.750\n",
      "Model:                            OLS   Adj. R-squared:                  0.749\n",
      "Method:                 Least Squares   F-statistic:                     997.9\n",
      "Date:                Sun, 27 Mar 2022   Prob (F-statistic):          6.08e-300\n",
      "Time:                        23:47:15   Log-Likelihood:                 196.52\n",
      "No. Observations:                1003   AIC:                            -385.0\n",
      "Df Residuals:                     999   BIC:                            -365.4\n",
      "Df Model:                           3                                         \n",
      "Covariance Type:            nonrobust                                         \n",
      "==============================================================================\n",
      "                 coef    std err          t      P>|t|      [0.025      0.975]\n",
      "------------------------------------------------------------------------------\n",
      "Intercept      1.6613      0.064     25.882      0.000       1.535       1.787\n",
      "age            1.2765      0.037     34.280      0.000       1.203       1.350\n",
      "bmi            0.0052      0.001      4.951      0.000       0.003       0.007\n",
      "smoker         0.6719      0.016     43.097      0.000       0.641       0.702\n",
      "==============================================================================\n",
      "Omnibus:                      321.642   Durbin-Watson:                   2.051\n",
      "Prob(Omnibus):                  0.000   Jarque-Bera (JB):             1027.770\n",
      "Skew:                           1.574   Prob(JB):                    6.65e-224\n",
      "Kurtosis:                       6.832   Cond. No.                         358.\n",
      "==============================================================================\n",
      "\n",
      "Notes:\n",
      "[1] Standard Errors assume that the covariance matrix of the errors is correctly specified.\n",
      "R Squared Mean:  0.7501957544262525\n",
      "RMSE mean:  0.1979348286546742\n"
     ]
    }
   ],
   "source": [
    "lm = smf.ols(formula='charges ~ age + bmi + smoker', data = dfUsed).fit()\n",
    "comparison = pd.DataFrame({\"y_test\": y_test, \"y_predict\": y_predict})\n",
    "print(\"Summary: \", lm.summary())\n",
    "print(\"R Squared Mean: \", np.mean(scores))\n",
    "print(\"RMSE mean: \", np.mean(rmse_list))"
   ]
  },
  {
   "cell_type": "code",
   "execution_count": 182,
   "metadata": {},
   "outputs": [],
   "source": [
    "def prediction(age, bmi, smoker):\n",
    "    whatif = np.log10(np.array([[age]]))\n",
    "    whatif = np.append(whatif, [bmi, smoker]) #status smoker, 0: non smoker, 1: smoker\n",
    "    status = \"smoker\" if smoker==1 else \"non-smoker\"\n",
    "    print(\"Health insurance cost prediction for age:\", age, \"y.o., BMI:\", bmi,\", and\", status, np.power(10, lrmodel.predict(df2[whatif])))"
   ]
  },
  {
   "cell_type": "code",
   "execution_count": 193,
   "metadata": {
    "scrolled": false
   },
   "outputs": [
    {
     "ename": "TypeError",
     "evalue": "prediction() missing 2 required positional arguments: 'bmi' and 'smoker'",
     "output_type": "error",
     "traceback": [
      "\u001b[1;31m---------------------------------------------------------------------------\u001b[0m",
      "\u001b[1;31mTypeError\u001b[0m                                 Traceback (most recent call last)",
      "\u001b[1;32m<ipython-input-193-e9811555920b>\u001b[0m in \u001b[0;36m<module>\u001b[1;34m\u001b[0m\n\u001b[0;32m      1\u001b[0m \u001b[1;31m#prediction(df2.age([1, 2, 3]).array)\u001b[0m\u001b[1;33m\u001b[0m\u001b[1;33m\u001b[0m\u001b[1;33m\u001b[0m\u001b[0m\n\u001b[1;32m----> 2\u001b[1;33m \u001b[0mprediction\u001b[0m\u001b[1;33m(\u001b[0m\u001b[0mdf2\u001b[0m\u001b[1;33m.\u001b[0m\u001b[0miloc\u001b[0m\u001b[1;33m[\u001b[0m\u001b[1;36m1\u001b[0m\u001b[1;33m]\u001b[0m\u001b[1;33m)\u001b[0m\u001b[1;33m\u001b[0m\u001b[1;33m\u001b[0m\u001b[0m\n\u001b[0m",
      "\u001b[1;31mTypeError\u001b[0m: prediction() missing 2 required positional arguments: 'bmi' and 'smoker'"
     ]
    }
   ],
   "source": [
    "#prediction(df2.age([1, 2, 3]).array)\n",
    "prediction(df2.iloc[1])"
   ]
  },
  {
   "cell_type": "code",
   "execution_count": 205,
   "metadata": {},
   "outputs": [
    {
     "ename": "KeyError",
     "evalue": "\"None of [Float64Index([1.7853298350107671, 35.0, 1.0], dtype='float64')] are in the [columns]\"",
     "output_type": "error",
     "traceback": [
      "\u001b[1;31m---------------------------------------------------------------------------\u001b[0m",
      "\u001b[1;31mKeyError\u001b[0m                                  Traceback (most recent call last)",
      "\u001b[1;32m<ipython-input-205-c3906ceb3c4e>\u001b[0m in \u001b[0;36m<module>\u001b[1;34m\u001b[0m\n\u001b[0;32m      1\u001b[0m \u001b[1;31m#data = [61,35,1]\u001b[0m\u001b[1;33m\u001b[0m\u001b[1;33m\u001b[0m\u001b[1;33m\u001b[0m\u001b[0m\n\u001b[0;32m      2\u001b[0m \u001b[1;31m#new_data = pd.DataFrame([data],columns=['age', 'bmi', 'smoker'])\u001b[0m\u001b[1;33m\u001b[0m\u001b[1;33m\u001b[0m\u001b[1;33m\u001b[0m\u001b[0m\n\u001b[1;32m----> 3\u001b[1;33m \u001b[0mprediction\u001b[0m\u001b[1;33m(\u001b[0m\u001b[1;36m61\u001b[0m\u001b[1;33m,\u001b[0m\u001b[1;36m35\u001b[0m\u001b[1;33m,\u001b[0m\u001b[1;36m1\u001b[0m\u001b[1;33m)\u001b[0m\u001b[1;33m\u001b[0m\u001b[1;33m\u001b[0m\u001b[0m\n\u001b[0m",
      "\u001b[1;32m<ipython-input-182-153031db9653>\u001b[0m in \u001b[0;36mprediction\u001b[1;34m(age, bmi, smoker)\u001b[0m\n\u001b[0;32m      3\u001b[0m     \u001b[0mwhatif\u001b[0m \u001b[1;33m=\u001b[0m \u001b[0mnp\u001b[0m\u001b[1;33m.\u001b[0m\u001b[0mappend\u001b[0m\u001b[1;33m(\u001b[0m\u001b[0mwhatif\u001b[0m\u001b[1;33m,\u001b[0m \u001b[1;33m[\u001b[0m\u001b[0mbmi\u001b[0m\u001b[1;33m,\u001b[0m \u001b[0msmoker\u001b[0m\u001b[1;33m]\u001b[0m\u001b[1;33m)\u001b[0m \u001b[1;31m#status smoker, 0: non smoker, 1: smoker\u001b[0m\u001b[1;33m\u001b[0m\u001b[1;33m\u001b[0m\u001b[0m\n\u001b[0;32m      4\u001b[0m     \u001b[0mstatus\u001b[0m \u001b[1;33m=\u001b[0m \u001b[1;34m\"smoker\"\u001b[0m \u001b[1;32mif\u001b[0m \u001b[0msmoker\u001b[0m\u001b[1;33m==\u001b[0m\u001b[1;36m1\u001b[0m \u001b[1;32melse\u001b[0m \u001b[1;34m\"non-smoker\"\u001b[0m\u001b[1;33m\u001b[0m\u001b[1;33m\u001b[0m\u001b[0m\n\u001b[1;32m----> 5\u001b[1;33m     \u001b[0mprint\u001b[0m\u001b[1;33m(\u001b[0m\u001b[1;34m\"Health insurance cost prediction for age:\"\u001b[0m\u001b[1;33m,\u001b[0m \u001b[0mage\u001b[0m\u001b[1;33m,\u001b[0m \u001b[1;34m\"y.o., BMI:\"\u001b[0m\u001b[1;33m,\u001b[0m \u001b[0mbmi\u001b[0m\u001b[1;33m,\u001b[0m\u001b[1;34m\", and\"\u001b[0m\u001b[1;33m,\u001b[0m \u001b[0mstatus\u001b[0m\u001b[1;33m,\u001b[0m \u001b[0mnp\u001b[0m\u001b[1;33m.\u001b[0m\u001b[0mpower\u001b[0m\u001b[1;33m(\u001b[0m\u001b[1;36m10\u001b[0m\u001b[1;33m,\u001b[0m \u001b[0mlrmodel\u001b[0m\u001b[1;33m.\u001b[0m\u001b[0mpredict\u001b[0m\u001b[1;33m(\u001b[0m\u001b[0mdf2\u001b[0m\u001b[1;33m[\u001b[0m\u001b[0mwhatif\u001b[0m\u001b[1;33m]\u001b[0m\u001b[1;33m)\u001b[0m\u001b[1;33m)\u001b[0m\u001b[1;33m)\u001b[0m\u001b[1;33m\u001b[0m\u001b[1;33m\u001b[0m\u001b[0m\n\u001b[0m",
      "\u001b[1;32m~\\anaconda3\\lib\\site-packages\\pandas\\core\\frame.py\u001b[0m in \u001b[0;36m__getitem__\u001b[1;34m(self, key)\u001b[0m\n\u001b[0;32m   3028\u001b[0m             \u001b[1;32mif\u001b[0m \u001b[0mis_iterator\u001b[0m\u001b[1;33m(\u001b[0m\u001b[0mkey\u001b[0m\u001b[1;33m)\u001b[0m\u001b[1;33m:\u001b[0m\u001b[1;33m\u001b[0m\u001b[1;33m\u001b[0m\u001b[0m\n\u001b[0;32m   3029\u001b[0m                 \u001b[0mkey\u001b[0m \u001b[1;33m=\u001b[0m \u001b[0mlist\u001b[0m\u001b[1;33m(\u001b[0m\u001b[0mkey\u001b[0m\u001b[1;33m)\u001b[0m\u001b[1;33m\u001b[0m\u001b[1;33m\u001b[0m\u001b[0m\n\u001b[1;32m-> 3030\u001b[1;33m             \u001b[0mindexer\u001b[0m \u001b[1;33m=\u001b[0m \u001b[0mself\u001b[0m\u001b[1;33m.\u001b[0m\u001b[0mloc\u001b[0m\u001b[1;33m.\u001b[0m\u001b[0m_get_listlike_indexer\u001b[0m\u001b[1;33m(\u001b[0m\u001b[0mkey\u001b[0m\u001b[1;33m,\u001b[0m \u001b[0maxis\u001b[0m\u001b[1;33m=\u001b[0m\u001b[1;36m1\u001b[0m\u001b[1;33m,\u001b[0m \u001b[0mraise_missing\u001b[0m\u001b[1;33m=\u001b[0m\u001b[1;32mTrue\u001b[0m\u001b[1;33m)\u001b[0m\u001b[1;33m[\u001b[0m\u001b[1;36m1\u001b[0m\u001b[1;33m]\u001b[0m\u001b[1;33m\u001b[0m\u001b[1;33m\u001b[0m\u001b[0m\n\u001b[0m\u001b[0;32m   3031\u001b[0m \u001b[1;33m\u001b[0m\u001b[0m\n\u001b[0;32m   3032\u001b[0m         \u001b[1;31m# take() does not accept boolean indexers\u001b[0m\u001b[1;33m\u001b[0m\u001b[1;33m\u001b[0m\u001b[1;33m\u001b[0m\u001b[0m\n",
      "\u001b[1;32m~\\anaconda3\\lib\\site-packages\\pandas\\core\\indexing.py\u001b[0m in \u001b[0;36m_get_listlike_indexer\u001b[1;34m(self, key, axis, raise_missing)\u001b[0m\n\u001b[0;32m   1264\u001b[0m             \u001b[0mkeyarr\u001b[0m\u001b[1;33m,\u001b[0m \u001b[0mindexer\u001b[0m\u001b[1;33m,\u001b[0m \u001b[0mnew_indexer\u001b[0m \u001b[1;33m=\u001b[0m \u001b[0max\u001b[0m\u001b[1;33m.\u001b[0m\u001b[0m_reindex_non_unique\u001b[0m\u001b[1;33m(\u001b[0m\u001b[0mkeyarr\u001b[0m\u001b[1;33m)\u001b[0m\u001b[1;33m\u001b[0m\u001b[1;33m\u001b[0m\u001b[0m\n\u001b[0;32m   1265\u001b[0m \u001b[1;33m\u001b[0m\u001b[0m\n\u001b[1;32m-> 1266\u001b[1;33m         \u001b[0mself\u001b[0m\u001b[1;33m.\u001b[0m\u001b[0m_validate_read_indexer\u001b[0m\u001b[1;33m(\u001b[0m\u001b[0mkeyarr\u001b[0m\u001b[1;33m,\u001b[0m \u001b[0mindexer\u001b[0m\u001b[1;33m,\u001b[0m \u001b[0maxis\u001b[0m\u001b[1;33m,\u001b[0m \u001b[0mraise_missing\u001b[0m\u001b[1;33m=\u001b[0m\u001b[0mraise_missing\u001b[0m\u001b[1;33m)\u001b[0m\u001b[1;33m\u001b[0m\u001b[1;33m\u001b[0m\u001b[0m\n\u001b[0m\u001b[0;32m   1267\u001b[0m         \u001b[1;32mreturn\u001b[0m \u001b[0mkeyarr\u001b[0m\u001b[1;33m,\u001b[0m \u001b[0mindexer\u001b[0m\u001b[1;33m\u001b[0m\u001b[1;33m\u001b[0m\u001b[0m\n\u001b[0;32m   1268\u001b[0m \u001b[1;33m\u001b[0m\u001b[0m\n",
      "\u001b[1;32m~\\anaconda3\\lib\\site-packages\\pandas\\core\\indexing.py\u001b[0m in \u001b[0;36m_validate_read_indexer\u001b[1;34m(self, key, indexer, axis, raise_missing)\u001b[0m\n\u001b[0;32m   1306\u001b[0m             \u001b[1;32mif\u001b[0m \u001b[0mmissing\u001b[0m \u001b[1;33m==\u001b[0m \u001b[0mlen\u001b[0m\u001b[1;33m(\u001b[0m\u001b[0mindexer\u001b[0m\u001b[1;33m)\u001b[0m\u001b[1;33m:\u001b[0m\u001b[1;33m\u001b[0m\u001b[1;33m\u001b[0m\u001b[0m\n\u001b[0;32m   1307\u001b[0m                 \u001b[0maxis_name\u001b[0m \u001b[1;33m=\u001b[0m \u001b[0mself\u001b[0m\u001b[1;33m.\u001b[0m\u001b[0mobj\u001b[0m\u001b[1;33m.\u001b[0m\u001b[0m_get_axis_name\u001b[0m\u001b[1;33m(\u001b[0m\u001b[0maxis\u001b[0m\u001b[1;33m)\u001b[0m\u001b[1;33m\u001b[0m\u001b[1;33m\u001b[0m\u001b[0m\n\u001b[1;32m-> 1308\u001b[1;33m                 \u001b[1;32mraise\u001b[0m \u001b[0mKeyError\u001b[0m\u001b[1;33m(\u001b[0m\u001b[1;34mf\"None of [{key}] are in the [{axis_name}]\"\u001b[0m\u001b[1;33m)\u001b[0m\u001b[1;33m\u001b[0m\u001b[1;33m\u001b[0m\u001b[0m\n\u001b[0m\u001b[0;32m   1309\u001b[0m \u001b[1;33m\u001b[0m\u001b[0m\n\u001b[0;32m   1310\u001b[0m             \u001b[0max\u001b[0m \u001b[1;33m=\u001b[0m \u001b[0mself\u001b[0m\u001b[1;33m.\u001b[0m\u001b[0mobj\u001b[0m\u001b[1;33m.\u001b[0m\u001b[0m_get_axis\u001b[0m\u001b[1;33m(\u001b[0m\u001b[0maxis\u001b[0m\u001b[1;33m)\u001b[0m\u001b[1;33m\u001b[0m\u001b[1;33m\u001b[0m\u001b[0m\n",
      "\u001b[1;31mKeyError\u001b[0m: \"None of [Float64Index([1.7853298350107671, 35.0, 1.0], dtype='float64')] are in the [columns]\""
     ]
    }
   ],
   "source": [
    "#data = [61,35,1]\n",
    "#new_data = pd.DataFrame([data],columns=['age', 'bmi', 'smoker'])\n",
    "prediction(61,35,1)"
   ]
  },
  {
   "cell_type": "code",
   "execution_count": 201,
   "metadata": {},
   "outputs": [
    {
     "data": {
      "text/plain": [
       "1"
      ]
     },
     "execution_count": 201,
     "metadata": {},
     "output_type": "execute_result"
    }
   ],
   "source": [
    "df2.index[1]"
   ]
  },
  {
   "cell_type": "code",
   "execution_count": 162,
   "metadata": {},
   "outputs": [
    {
     "name": "stdout",
     "output_type": "stream",
     "text": [
      "<class 'pandas.core.frame.DataFrame'>\n",
      "RangeIndex: 335 entries, 0 to 334\n",
      "Data columns (total 7 columns):\n",
      " #   Column    Non-Null Count  Dtype  \n",
      "---  ------    --------------  -----  \n",
      " 0   age       335 non-null    int64  \n",
      " 1   sex       335 non-null    object \n",
      " 2   bmi       335 non-null    float64\n",
      " 3   children  335 non-null    int64  \n",
      " 4   smoker    335 non-null    object \n",
      " 5   region    335 non-null    object \n",
      " 6   id        335 non-null    int64  \n",
      "dtypes: float64(1), int64(3), object(3)\n",
      "memory usage: 18.4+ KB\n"
     ]
    }
   ],
   "source": [
    "test.info()"
   ]
  },
  {
   "cell_type": "code",
   "execution_count": 217,
   "metadata": {},
   "outputs": [],
   "source": [
    "le = LabelEncoder()\n",
    "test['sex'] = le.fit_transform(test['sex'])\n",
    "test['smoker'] = le.fit_transform(test['smoker'])\n",
    "test['region'] = le.fit_transform(test['region'])\n",
    "\n",
    "\n",
    "df2=test[['age', 'bmi', 'id', 'smoker']]"
   ]
  },
  {
   "cell_type": "code",
   "execution_count": 218,
   "metadata": {
    "scrolled": true
   },
   "outputs": [
    {
     "data": {
      "text/plain": [
       "array([[4.5000e+01, 2.5175e+01, 7.6400e+02, 0.0000e+00],\n",
       "       [3.6000e+01, 3.0020e+01, 8.8700e+02, 0.0000e+00],\n",
       "       [6.4000e+01, 2.6885e+01, 8.9000e+02, 1.0000e+00],\n",
       "       ...,\n",
       "       [3.4000e+01, 3.2800e+01, 1.1280e+03, 0.0000e+00],\n",
       "       [1.9000e+01, 3.0250e+01, 5.0300e+02, 1.0000e+00],\n",
       "       [4.1000e+01, 3.3550e+01, 1.1970e+03, 0.0000e+00]])"
      ]
     },
     "execution_count": 218,
     "metadata": {},
     "output_type": "execute_result"
    }
   ],
   "source": [
    "df2.to_numpy()"
   ]
  },
  {
   "cell_type": "code",
   "execution_count": 180,
   "metadata": {},
   "outputs": [
    {
     "data": {
      "text/plain": [
       "array([1.77252893e+59, 6.02900672e+47, 1.50366265e+84, 3.37239290e+60,\n",
       "       5.58967910e+26, 1.93137543e+45, 1.10003455e+26, 3.67164421e+83,\n",
       "       3.22114894e+37, 2.35308540e+64, 5.71379256e+40, 1.46727472e+54,\n",
       "       6.93684308e+38, 1.84903683e+61, 1.36335509e+79, 3.37313630e+62,\n",
       "       2.72778840e+64, 3.29183288e+62, 3.45550355e+60, 2.32175308e+57,\n",
       "       5.10670365e+33, 5.36033395e+56, 1.19557081e+26, 8.93114710e+29,\n",
       "       4.42337004e+65, 5.93732890e+70, 2.78658983e+78, 1.95621675e+36,\n",
       "       6.43561882e+61, 6.30452627e+24, 7.65356752e+52, 3.97978669e+74,\n",
       "       4.48270217e+28, 1.18487574e+40, 1.03003490e+35, 2.06872157e+59,\n",
       "       4.09909020e+28, 5.20962881e+56, 6.97831474e+68, 2.92985404e+48,\n",
       "       1.17305559e+26, 8.16814875e+29, 2.19463932e+73, 1.33083302e+77,\n",
       "       9.46976068e+43, 1.35981921e+77, 4.42437500e+28, 5.12832430e+33,\n",
       "       2.55558001e+57, 2.72262876e+41, 1.90883394e+82, 6.25346065e+24,\n",
       "       8.69879513e+52, 6.04276085e+24, 2.16311138e+73, 4.61376688e+65,\n",
       "       1.25587818e+40, 1.20082417e+42, 7.62848871e+75, 3.15846104e+69,\n",
       "       1.82023043e+82, 1.51340450e+40, 5.32586702e+79, 2.61535812e+55,\n",
       "       1.62873731e+68, 3.52911615e+37, 1.87204279e+29, 1.55354538e+68,\n",
       "       5.03254395e+33, 8.90242224e+29, 2.32248665e+50, 3.61415151e+60,\n",
       "       1.30674680e+63, 4.17905778e+51, 1.07390882e+58, 6.02264218e+47,\n",
       "       2.00188766e+36, 1.97153496e+73, 3.80253781e+37, 1.78238509e+59,\n",
       "       2.33209159e+27, 4.19583550e+81, 4.70235897e+42, 7.51789494e+31,\n",
       "       4.70268827e+30, 2.11635040e+66, 1.33959791e+40, 1.12397613e+72,\n",
       "       5.25300270e+56, 3.27221762e+69, 1.02865967e+81, 1.44305807e+84,\n",
       "       2.94612180e+62, 2.43052702e+41, 4.35690653e+44, 1.49243905e+54,\n",
       "       2.14370132e+43, 2.32397725e+27, 5.66900850e+40, 2.97472875e+46,\n",
       "       1.29555666e+40, 1.17677846e+26, 1.62505596e+54, 2.20160435e+73,\n",
       "       4.66986513e+79, 6.65063310e+24, 9.93483751e+57, 1.27545328e+70,\n",
       "       5.75284451e+24, 1.30240764e+70, 1.23015651e+26, 1.22652404e+35,\n",
       "       7.57189581e+75, 7.91297887e+45, 2.40560682e+64, 2.32397725e+27,\n",
       "       2.60156220e+78, 2.31722083e+57, 1.14961887e+49, 1.48098777e+31,\n",
       "       1.74422119e+45, 1.52430098e+54, 1.76309998e+68, 3.06387965e+32,\n",
       "       3.45206523e+37, 1.50605724e+54, 5.53524074e+56, 2.38158967e+64,\n",
       "       1.47503235e+77, 1.72700349e+31, 4.65934679e+42, 3.33610663e+46,\n",
       "       3.39081424e+46, 2.03577468e+59, 4.19941142e+51, 1.50493230e+77,\n",
       "       9.41938477e+43, 1.26874551e+56, 4.98757150e+58, 5.28812098e+49,\n",
       "       5.83264212e+47, 8.89335241e+66, 1.09072135e+35, 1.74724981e+68,\n",
       "       5.20691933e+33, 1.04785914e+65, 8.67539642e+43, 2.46816749e+41,\n",
       "       9.12841853e+66, 3.20418327e+46, 1.50964229e+70, 1.49292379e+31,\n",
       "       7.08125338e+24, 2.25280429e+43, 2.41033134e+50, 1.77067201e+45,\n",
       "       9.65646457e+80, 6.62668723e+61, 5.66037858e+26, 3.65294552e+53,\n",
       "       7.52644694e+75, 1.13821036e+26, 3.22416158e+83, 1.43707140e+31,\n",
       "       1.56691840e+31, 2.97488635e+55, 8.91311013e+82, 1.81822925e+75,\n",
       "       4.60285684e+58, 5.46383844e+33, 2.17640294e+64, 4.18612609e+51,\n",
       "       4.66008582e+51, 2.38702286e+41, 7.80959706e+29, 2.92395678e+62,\n",
       "       5.34600643e+26, 3.77287375e+83, 1.90524019e+43, 3.63249186e+74,\n",
       "       8.02309881e+82, 3.70442231e+28, 5.97507376e+61, 1.75253111e+45,\n",
       "       6.43736910e+38, 2.98356321e+32, 6.94050743e+38, 1.28594541e+40,\n",
       "       7.84260069e+61, 1.06469561e+72, 1.64145677e+31, 6.23993512e+24,\n",
       "       7.49285530e+29, 1.22529513e+42, 1.03667638e+81, 8.91074691e+66,\n",
       "       1.12345973e+26, 5.70374727e+70, 6.05489964e+24, 4.30718849e+65,\n",
       "       9.48878207e+34, 7.22049151e+68, 1.53109024e+40, 1.15663110e+26,\n",
       "       1.00187794e+28, 8.47889612e+36, 4.34419586e+65, 7.34398750e+29,\n",
       "       1.40434950e+63, 4.94220511e+33, 8.62364209e+80, 3.66331529e+74,\n",
       "       4.26917850e+60, 4.59415050e+35, 7.31142353e+52, 1.28907313e+40,\n",
       "       8.75039754e+43, 1.36456712e+77, 2.49222822e+78, 3.33223289e+46,\n",
       "       4.52312810e+28, 1.09059756e+58, 1.35740161e+49, 2.61262117e+57,\n",
       "       8.23397994e+29, 1.72527313e+38, 1.07800829e+26, 1.19797249e+26,\n",
       "       8.53581057e+66, 2.69314870e+64, 4.57743586e+28, 7.52128027e+66,\n",
       "       6.58070517e+38, 2.34430002e+57, 1.42668894e+68, 2.56488625e+64,\n",
       "       1.03959844e+35, 2.87966674e+55, 1.41560584e+56, 8.37962004e+29,\n",
       "       2.33437682e+78, 3.39711808e+39, 5.71077042e+33, 1.02916492e+35,\n",
       "       1.13137846e+26, 1.04168680e+35, 3.58793613e+37, 4.78755508e+42,\n",
       "       1.92606369e+68, 1.04306283e+26, 2.24200132e+27, 8.15429252e+52,\n",
       "       3.52408763e+37, 3.59622571e+74, 1.21370144e+26, 5.57636096e+33,\n",
       "       2.60995649e+78, 1.07352036e+35, 2.20451259e+64, 2.50480302e+41,\n",
       "       7.60441501e+52, 4.54504854e+79, 8.88223757e+36, 8.67075754e+82,\n",
       "       7.16534710e+75, 2.11132455e+50, 3.19152140e+71, 8.92016350e+66,\n",
       "       3.17216775e+60, 6.28249010e+61, 1.52848038e+68, 4.26737450e+51,\n",
       "       5.27436461e+70, 2.01596624e+82, 7.58201876e+29, 2.64946170e+25,\n",
       "       8.68135591e+52, 5.48263245e+49, 1.55569223e+45, 4.86191624e+65,\n",
       "       2.38398056e+64, 3.72732406e+83, 3.37435255e+60, 4.61839866e+65,\n",
       "       2.87467846e+48, 5.23338444e+33, 9.25902254e+66, 8.41015363e+68,\n",
       "       1.28519860e+40, 5.77994827e+33, 6.42417596e+24, 3.82624691e+74,\n",
       "       7.89169391e+36, 1.33880939e+63, 1.75640848e+59, 5.41920975e+70,\n",
       "       2.58282850e+64, 9.24834267e+34, 7.88835297e+29, 1.47499122e+33,\n",
       "       7.81992337e+45, 4.79869349e+51, 1.19797249e+26, 5.25253656e+26,\n",
       "       1.39178678e+77, 6.42655847e+40, 2.26556775e+27, 1.61896294e+84,\n",
       "       1.91573161e+45, 6.87054422e+24, 3.11081064e+46, 6.29720573e+24,\n",
       "       2.35523865e+34, 9.76827885e+80, 3.92536931e+28, 5.82059567e+70,\n",
       "       1.12665040e+72, 7.90574452e+75, 1.08377500e+51, 2.14921951e+73,\n",
       "       5.47217486e+63, 1.49875771e+54, 1.98071898e+82, 1.33719474e+40,\n",
       "       3.44348038e+60, 1.83976658e+59, 2.72863092e+78, 9.97787293e+71,\n",
       "       6.13861225e+33, 2.28451487e+73, 2.57300562e+78, 7.77203363e+75,\n",
       "       1.73595068e+45, 5.49194884e+26, 1.51387194e+54])"
      ]
     },
     "execution_count": 180,
     "metadata": {},
     "output_type": "execute_result"
    }
   ],
   "source": [
    "def prediction(age, bmi, smoker):\n",
    "    whatif = np.log10(np.array([[age]]))\n",
    "    whatif = np.append(whatif, [bmi, smoker]) #status smoker, 0: non smoker, 1: smoker\n",
    "    status = \"smoker\" if smoker==1 else \"non-smoker\"\n",
    "y_predict_new = np.power(10, lrmodel.predict(df2))\n",
    "y_predict_new"
   ]
  },
  {
   "cell_type": "code",
   "execution_count": 179,
   "metadata": {},
   "outputs": [
    {
     "data": {
      "text/plain": [
       "array([59.24859333, 47.78024577, 84.17715041, 60.52793817, 26.74738688,\n",
       "       45.2858667 , 26.04140632, 83.56486059, 37.50801081, 64.37163769,\n",
       "       40.75692447, 54.16651144, 38.84116187, 61.26694556, 79.13460898,\n",
       "       62.52803389, 64.43581068, 62.51743778, 60.53851134, 57.36581603,\n",
       "       33.70814066, 56.72919185, 26.0775753 , 29.95090724, 65.64575327,\n",
       "       70.77359111, 78.44507305, 36.29141697, 61.80859031, 24.79965246,\n",
       "       52.88386392, 74.5998598 , 28.65153989, 40.07367281, 35.01285194,\n",
       "       59.31570204, 28.61268748, 56.71680678, 68.84375055, 48.46684598,\n",
       "       26.06931859, 29.91212364, 73.34136316, 77.12412357, 43.976339  ,\n",
       "       77.13348117, 28.64585193, 33.70997548, 57.40748948, 41.43498843,\n",
       "       82.28076815, 24.79612042, 52.9394591 , 24.78123541, 73.33507888,\n",
       "       65.66405565, 40.09894752, 42.07947942, 75.88243851, 69.49947552,\n",
       "       82.26012637, 40.17995502, 79.72639032, 55.41753117, 68.21185104,\n",
       "       37.54766595, 29.27231577, 68.19132394, 33.70178758, 29.94950819,\n",
       "       50.36595323, 60.55800635, 63.11619145, 51.62107838, 58.03096741,\n",
       "       47.77978706, 36.3014397 , 73.29480448, 37.58007354, 59.25100154,\n",
       "       27.3677456 , 81.62281845, 42.67231578, 31.87609625, 30.67234619,\n",
       "       66.32558757, 40.12697446, 72.05075709, 56.72040762, 69.51484218,\n",
       "       81.01227171, 84.15928381, 62.4692507 , 41.38570045, 44.63917824,\n",
       "       54.1738966 , 43.33116427, 27.36623187, 40.75350711, 46.47344737,\n",
       "       40.11245641, 26.07069471, 54.21086832, 73.34273927, 79.66930434,\n",
       "       24.82286299, 57.99716077, 70.10566455, 24.75988264, 70.11474694,\n",
       "       26.08996037, 35.08867607, 75.87920463, 45.89834001, 64.38122465,\n",
       "       27.36623187, 78.41523421, 57.36496742, 49.06055388, 31.17055147,\n",
       "       45.24160156, 54.18307073, 68.24627694, 32.4862717 , 37.53807899,\n",
       "       54.17784148, 56.74313651, 64.37686694, 77.16880155, 31.23729322,\n",
       "       42.66832504, 46.52323992, 46.530304  , 59.30872971, 51.62318842,\n",
       "       77.17751696, 43.97402254, 56.10337452, 58.69788913, 49.72330138,\n",
       "       47.76586533, 66.9490655 , 35.03771381, 68.242355  , 33.71658085,\n",
       "       65.02030291, 43.93828933, 41.39237463, 66.96039554, 46.50571735,\n",
       "       70.17887405, 31.17403764, 24.85011013, 43.35272346, 50.38207675,\n",
       "       45.24813812, 80.98481815, 61.82129647, 26.75284548, 53.5626432 ,\n",
       "       75.87659   , 26.05622253, 83.5084168 , 31.15747835, 31.19504638,\n",
       "       55.47347038, 82.95002927, 75.25964864, 58.66302747, 33.73749785,\n",
       "       64.3377393 , 51.62181231, 51.66839392, 41.37785658, 29.89262863,\n",
       "       62.46597095, 26.72802948, 83.57667227, 43.27994973, 74.56020465,\n",
       "       82.90434214, 28.56872049, 61.77634327, 45.24366574, 38.80870841,\n",
       "       32.47473524, 38.84139122, 40.10922253, 61.8944601 , 72.02722546,\n",
       "       31.21522945, 24.79518007, 29.87464735, 42.08824071, 81.0156432 ,\n",
       "       66.94991411, 26.05055751, 70.75616027, 24.78210695, 65.63419388,\n",
       "       34.97721047, 68.85856676, 40.18500079, 26.06319487, 28.00081481,\n",
       "       36.92833931, 65.6379094 , 29.86593193, 63.1474752 , 33.69392077,\n",
       "       80.93569072, 74.5638743 , 60.63034431, 35.66220522, 52.86400194,\n",
       "       40.11027756, 43.94202778, 77.1349949 , 78.39658781, 46.52273535,\n",
       "       28.65543889, 58.03766452, 49.13270836, 57.41707644, 29.9156098 ,\n",
       "       38.23685786, 26.0326221 , 26.07844685, 66.93124477, 64.43026033,\n",
       "       28.66062227, 66.87629177, 38.81827243, 57.37001319, 68.15432929,\n",
       "       64.40906811, 35.01686562, 55.45934223, 56.15094234, 29.92322433,\n",
       "       78.36817096, 39.53111064, 33.7566947 , 35.01248497, 26.05360791,\n",
       "       35.01773716, 37.5548447 , 42.68011378, 68.28467064, 26.01831047,\n",
       "       27.35063586, 52.91138629, 37.5470467 , 74.55584694, 26.08411187,\n",
       "       33.74635088, 78.41663327, 35.03081029, 64.34331258, 41.39877358,\n",
       "       52.88106581, 79.65753853, 36.94852239, 82.93805704, 75.85523723,\n",
       "       50.324555  , 71.50399776, 66.95037281, 60.50135615, 61.79813181,\n",
       "       68.18425987, 51.63016076, 70.72217015, 82.30448326, 29.87978485,\n",
       "       25.42315765, 52.93858756, 49.73898913, 45.19192368, 65.68680747,\n",
       "       64.37730271, 83.57139715, 60.52819046, 65.66449142, 48.45858927,\n",
       "       33.71878264, 66.96656514, 68.92480393, 40.10897024, 33.76192395,\n",
       "       24.80781743, 74.58277299, 36.89717023, 63.12671875, 59.24462552,\n",
       "       70.73393596, 64.41209557, 34.96606391, 29.89698634, 33.16878944,\n",
       "       45.8932025 , 51.68112301, 26.07844685, 26.72036908, 77.14357271,\n",
       "       40.80797846, 27.35517705, 84.20923691, 45.28233466, 24.83699114,\n",
       "       46.49287358, 24.79914788, 34.37203492, 80.98981805, 28.59388052,\n",
       "       70.76496743, 72.05178918, 75.89794278, 51.03493913, 73.33228077,\n",
       "       63.73815997, 54.17573143, 82.29682286, 40.12619466, 60.53699761,\n",
       "       59.26476272, 78.4359448 , 71.99903797, 33.7880702 , 73.35879399,\n",
       "       78.41044073, 75.89053467, 45.23953738, 26.73972648, 54.18008914])"
      ]
     },
     "execution_count": 179,
     "metadata": {},
     "output_type": "execute_result"
    }
   ],
   "source": [
    "y_predict_new_1 = lrmodel.predict(df2)\n",
    "y_predict_new_1"
   ]
  },
  {
   "cell_type": "code",
   "execution_count": 168,
   "metadata": {
    "scrolled": true
   },
   "outputs": [
    {
     "ename": "TypeError",
     "evalue": "prediction() missing 2 required positional arguments: 'bmi' and 'smoker'",
     "output_type": "error",
     "traceback": [
      "\u001b[1;31m---------------------------------------------------------------------------\u001b[0m",
      "\u001b[1;31mTypeError\u001b[0m                                 Traceback (most recent call last)",
      "\u001b[1;32m<ipython-input-168-6d8314649cbd>\u001b[0m in \u001b[0;36m<module>\u001b[1;34m\u001b[0m\n\u001b[1;32m----> 1\u001b[1;33m \u001b[0mprediction\u001b[0m\u001b[1;33m(\u001b[0m\u001b[0mdf2\u001b[0m\u001b[1;33m)\u001b[0m\u001b[1;33m\u001b[0m\u001b[1;33m\u001b[0m\u001b[0m\n\u001b[0m",
      "\u001b[1;31mTypeError\u001b[0m: prediction() missing 2 required positional arguments: 'bmi' and 'smoker'"
     ]
    }
   ],
   "source": [
    "prediction(df2)"
   ]
  },
  {
   "cell_type": "code",
   "execution_count": 93,
   "metadata": {
    "colab": {
     "base_uri": "https://localhost:8080/",
     "height": 226
    },
    "executionInfo": {
     "elapsed": 18,
     "status": "ok",
     "timestamp": 1625569239242,
     "user": {
      "displayName": "Hiren Rupchandani",
      "photoUrl": "https://lh3.googleusercontent.com/a-/AOh14GhgU4n1VRWoxNACyzwiLFFnL3xL6qH1xJchHFekUbI=s64",
      "userId": "16888644812809569435"
     },
     "user_tz": -330
    },
    "id": "5REcXGp8m_Wp",
    "outputId": "eb8c8ff7-3f0d-46db-9a4f-cecc6cc36e45",
    "scrolled": false
   },
   "outputs": [
    {
     "data": {
      "text/html": [
       "<div>\n",
       "<style scoped>\n",
       "    .dataframe tbody tr th:only-of-type {\n",
       "        vertical-align: middle;\n",
       "    }\n",
       "\n",
       "    .dataframe tbody tr th {\n",
       "        vertical-align: top;\n",
       "    }\n",
       "\n",
       "    .dataframe thead th {\n",
       "        text-align: right;\n",
       "    }\n",
       "</style>\n",
       "<table border=\"1\" class=\"dataframe\">\n",
       "  <thead>\n",
       "    <tr style=\"text-align: right;\">\n",
       "      <th></th>\n",
       "      <th>age</th>\n",
       "      <th>bmi</th>\n",
       "      <th>children</th>\n",
       "      <th>id</th>\n",
       "      <th>charges</th>\n",
       "      <th>smoker_yes</th>\n",
       "      <th>sex_male</th>\n",
       "      <th>region_northwest</th>\n",
       "      <th>region_southeast</th>\n",
       "      <th>region_southwest</th>\n",
       "    </tr>\n",
       "  </thead>\n",
       "  <tbody>\n",
       "    <tr>\n",
       "      <th>0</th>\n",
       "      <td>24</td>\n",
       "      <td>23.65500</td>\n",
       "      <td>0</td>\n",
       "      <td>693</td>\n",
       "      <td>2352.96845</td>\n",
       "      <td>0</td>\n",
       "      <td>1</td>\n",
       "      <td>1</td>\n",
       "      <td>0</td>\n",
       "      <td>0</td>\n",
       "    </tr>\n",
       "    <tr>\n",
       "      <th>1</th>\n",
       "      <td>28</td>\n",
       "      <td>26.51000</td>\n",
       "      <td>2</td>\n",
       "      <td>1297</td>\n",
       "      <td>4340.44090</td>\n",
       "      <td>0</td>\n",
       "      <td>0</td>\n",
       "      <td>0</td>\n",
       "      <td>1</td>\n",
       "      <td>0</td>\n",
       "    </tr>\n",
       "    <tr>\n",
       "      <th>2</th>\n",
       "      <td>51</td>\n",
       "      <td>39.70000</td>\n",
       "      <td>1</td>\n",
       "      <td>634</td>\n",
       "      <td>9391.34600</td>\n",
       "      <td>0</td>\n",
       "      <td>1</td>\n",
       "      <td>0</td>\n",
       "      <td>0</td>\n",
       "      <td>1</td>\n",
       "    </tr>\n",
       "    <tr>\n",
       "      <th>3</th>\n",
       "      <td>47</td>\n",
       "      <td>36.08000</td>\n",
       "      <td>1</td>\n",
       "      <td>1022</td>\n",
       "      <td>42211.13820</td>\n",
       "      <td>1</td>\n",
       "      <td>1</td>\n",
       "      <td>0</td>\n",
       "      <td>1</td>\n",
       "      <td>0</td>\n",
       "    </tr>\n",
       "    <tr>\n",
       "      <th>4</th>\n",
       "      <td>46</td>\n",
       "      <td>28.90000</td>\n",
       "      <td>2</td>\n",
       "      <td>178</td>\n",
       "      <td>8823.27900</td>\n",
       "      <td>0</td>\n",
       "      <td>0</td>\n",
       "      <td>0</td>\n",
       "      <td>0</td>\n",
       "      <td>1</td>\n",
       "    </tr>\n",
       "  </tbody>\n",
       "</table>\n",
       "</div>"
      ],
      "text/plain": [
       "   age      bmi  children    id     charges  smoker_yes  sex_male  \\\n",
       "0   24 23.65500         0   693  2352.96845           0         1   \n",
       "1   28 26.51000         2  1297  4340.44090           0         0   \n",
       "2   51 39.70000         1   634  9391.34600           0         1   \n",
       "3   47 36.08000         1  1022 42211.13820           1         1   \n",
       "4   46 28.90000         2   178  8823.27900           0         0   \n",
       "\n",
       "   region_northwest  region_southeast  region_southwest  \n",
       "0                 1                 0                 0  \n",
       "1                 0                 1                 0  \n",
       "2                 0                 0                 1  \n",
       "3                 0                 1                 0  \n",
       "4                 0                 0                 1  "
      ]
     },
     "execution_count": 93,
     "metadata": {},
     "output_type": "execute_result"
    }
   ],
   "source": [
    "data_dummy_drop = drop_vars(data=train_dummy_v)\n",
    "data_dummy_drop.head()"
   ]
  },
  {
   "cell_type": "markdown",
   "metadata": {
    "id": "hkavvtBHdAn6"
   },
   "source": [
    "\n",
    "---\n",
    "**<h4>Question 4:** Create a function to calculates the inter quantile range and then drops off the values outside 5th to 95th quantile values.</h4>\n",
    "\n",
    "---\n",
    "\n",
    "<details>\n",
    "\n",
    "**<summary>Hint:</summary>**\n",
    "\n",
    "- Calculate Q1 and Q3 using `.quantile` method of a dataframe.\n",
    "\n",
    "- Calculate the IQR using Q1 and Q3.\n",
    "\n",
    "- Remove the rows which have values **<Q1-1.5*0IQR** or **>Q3+1.5*IQR** in their respective columns.\n",
    "\n",
    "</details>"
   ]
  },
  {
   "cell_type": "code",
   "execution_count": 23,
   "metadata": {
    "executionInfo": {
     "elapsed": 18,
     "status": "ok",
     "timestamp": 1625569239242,
     "user": {
      "displayName": "Hiren Rupchandani",
      "photoUrl": "https://lh3.googleusercontent.com/a-/AOh14GhgU4n1VRWoxNACyzwiLFFnL3xL6qH1xJchHFekUbI=s64",
      "userId": "16888644812809569435"
     },
     "user_tz": -330
    },
    "id": "J3v12VrAdAn7"
   },
   "outputs": [],
   "source": [
    "\"\"\"def iqr_checker(data=None):\n",
    "  # Calculate Q1 and Q3 as 5th and 95th percentile\n",
    "  Q1 = data.quantile(0.05)\n",
    "  Q3 = data.quantile(0.95)\n",
    "\n",
    "  # Calculate the IQR\n",
    "  IQR = Q3 - Q1\n",
    "\n",
    "  # Filter out the values outside of the IQR\n",
    "  car_out = data[~((data < (Q1 - 1.5*IQR)) | (data > (Q3 + 1.5*IQR))).any(axis=1)]\n",
    "\n",
    "  # Return the reduced dataframe\n",
    "  return car_out\"\"\""
   ]
  },
  {
   "cell_type": "code",
   "execution_count": 25,
   "metadata": {
    "colab": {
     "base_uri": "https://localhost:8080/",
     "height": 226
    },
    "executionInfo": {
     "elapsed": 17,
     "status": "ok",
     "timestamp": 1625569239242,
     "user": {
      "displayName": "Hiren Rupchandani",
      "photoUrl": "https://lh3.googleusercontent.com/a-/AOh14GhgU4n1VRWoxNACyzwiLFFnL3xL6qH1xJchHFekUbI=s64",
      "userId": "16888644812809569435"
     },
     "user_tz": -330
    },
    "id": "A2rUZoR1nfuM",
    "outputId": "b4a00a9f-57c0-4a4b-fb40-a6bcfbeb9280"
   },
   "outputs": [
    {
     "data": {
      "text/html": [
       "<div>\n",
       "<style scoped>\n",
       "    .dataframe tbody tr th:only-of-type {\n",
       "        vertical-align: middle;\n",
       "    }\n",
       "\n",
       "    .dataframe tbody tr th {\n",
       "        vertical-align: top;\n",
       "    }\n",
       "\n",
       "    .dataframe thead th {\n",
       "        text-align: right;\n",
       "    }\n",
       "</style>\n",
       "<table border=\"1\" class=\"dataframe\">\n",
       "  <thead>\n",
       "    <tr style=\"text-align: right;\">\n",
       "      <th></th>\n",
       "      <th>age</th>\n",
       "      <th>bmi</th>\n",
       "      <th>children</th>\n",
       "      <th>id</th>\n",
       "      <th>charges</th>\n",
       "      <th>smoker_yes</th>\n",
       "      <th>sex_male</th>\n",
       "      <th>region_northwest</th>\n",
       "      <th>region_southeast</th>\n",
       "      <th>region_southwest</th>\n",
       "    </tr>\n",
       "  </thead>\n",
       "  <tbody>\n",
       "    <tr>\n",
       "      <th>0</th>\n",
       "      <td>24</td>\n",
       "      <td>23.65500</td>\n",
       "      <td>0</td>\n",
       "      <td>693</td>\n",
       "      <td>2352.96845</td>\n",
       "      <td>0</td>\n",
       "      <td>1</td>\n",
       "      <td>1</td>\n",
       "      <td>0</td>\n",
       "      <td>0</td>\n",
       "    </tr>\n",
       "    <tr>\n",
       "      <th>1</th>\n",
       "      <td>28</td>\n",
       "      <td>26.51000</td>\n",
       "      <td>2</td>\n",
       "      <td>1297</td>\n",
       "      <td>4340.44090</td>\n",
       "      <td>0</td>\n",
       "      <td>0</td>\n",
       "      <td>0</td>\n",
       "      <td>1</td>\n",
       "      <td>0</td>\n",
       "    </tr>\n",
       "    <tr>\n",
       "      <th>2</th>\n",
       "      <td>51</td>\n",
       "      <td>39.70000</td>\n",
       "      <td>1</td>\n",
       "      <td>634</td>\n",
       "      <td>9391.34600</td>\n",
       "      <td>0</td>\n",
       "      <td>1</td>\n",
       "      <td>0</td>\n",
       "      <td>0</td>\n",
       "      <td>1</td>\n",
       "    </tr>\n",
       "    <tr>\n",
       "      <th>3</th>\n",
       "      <td>47</td>\n",
       "      <td>36.08000</td>\n",
       "      <td>1</td>\n",
       "      <td>1022</td>\n",
       "      <td>42211.13820</td>\n",
       "      <td>1</td>\n",
       "      <td>1</td>\n",
       "      <td>0</td>\n",
       "      <td>1</td>\n",
       "      <td>0</td>\n",
       "    </tr>\n",
       "    <tr>\n",
       "      <th>4</th>\n",
       "      <td>46</td>\n",
       "      <td>28.90000</td>\n",
       "      <td>2</td>\n",
       "      <td>178</td>\n",
       "      <td>8823.27900</td>\n",
       "      <td>0</td>\n",
       "      <td>0</td>\n",
       "      <td>0</td>\n",
       "      <td>0</td>\n",
       "      <td>1</td>\n",
       "    </tr>\n",
       "  </tbody>\n",
       "</table>\n",
       "</div>"
      ],
      "text/plain": [
       "   age      bmi  children    id     charges  smoker_yes  sex_male  \\\n",
       "0   24 23.65500         0   693  2352.96845           0         1   \n",
       "1   28 26.51000         2  1297  4340.44090           0         0   \n",
       "2   51 39.70000         1   634  9391.34600           0         1   \n",
       "3   47 36.08000         1  1022 42211.13820           1         1   \n",
       "4   46 28.90000         2   178  8823.27900           0         0   \n",
       "\n",
       "   region_northwest  region_southeast  region_southwest  \n",
       "0                 1                 0                 0  \n",
       "1                 0                 1                 0  \n",
       "2                 0                 0                 1  \n",
       "3                 0                 1                 0  \n",
       "4                 0                 0                 1  "
      ]
     },
     "execution_count": 25,
     "metadata": {},
     "output_type": "execute_result"
    }
   ],
   "source": [
    "#data_dummy_iqr = iqr_checker(data=data_dummy_drop)\n",
    "#data_dummy_iqr.head()"
   ]
  },
  {
   "cell_type": "code",
   "execution_count": 26,
   "metadata": {
    "colab": {
     "base_uri": "https://localhost:8080/",
     "height": 226
    },
    "executionInfo": {
     "elapsed": 18,
     "status": "ok",
     "timestamp": 1625569239243,
     "user": {
      "displayName": "Hiren Rupchandani",
      "photoUrl": "https://lh3.googleusercontent.com/a-/AOh14GhgU4n1VRWoxNACyzwiLFFnL3xL6qH1xJchHFekUbI=s64",
      "userId": "16888644812809569435"
     },
     "user_tz": -330
    },
    "id": "Dqf5DsgsVYHl",
    "outputId": "a0337e59-3012-41d0-9646-95637032d7b0",
    "scrolled": true
   },
   "outputs": [
    {
     "data": {
      "text/html": [
       "<div>\n",
       "<style scoped>\n",
       "    .dataframe tbody tr th:only-of-type {\n",
       "        vertical-align: middle;\n",
       "    }\n",
       "\n",
       "    .dataframe tbody tr th {\n",
       "        vertical-align: top;\n",
       "    }\n",
       "\n",
       "    .dataframe thead th {\n",
       "        text-align: right;\n",
       "    }\n",
       "</style>\n",
       "<table border=\"1\" class=\"dataframe\">\n",
       "  <thead>\n",
       "    <tr style=\"text-align: right;\">\n",
       "      <th></th>\n",
       "      <th>age</th>\n",
       "      <th>bmi</th>\n",
       "      <th>children</th>\n",
       "      <th>id</th>\n",
       "      <th>charges</th>\n",
       "      <th>smoker_yes</th>\n",
       "      <th>sex_male</th>\n",
       "      <th>region_northwest</th>\n",
       "      <th>region_southeast</th>\n",
       "      <th>region_southwest</th>\n",
       "    </tr>\n",
       "  </thead>\n",
       "  <tbody>\n",
       "    <tr>\n",
       "      <th>0</th>\n",
       "      <td>24</td>\n",
       "      <td>23.65500</td>\n",
       "      <td>0</td>\n",
       "      <td>693</td>\n",
       "      <td>2352.96845</td>\n",
       "      <td>0</td>\n",
       "      <td>1</td>\n",
       "      <td>1</td>\n",
       "      <td>0</td>\n",
       "      <td>0</td>\n",
       "    </tr>\n",
       "    <tr>\n",
       "      <th>1</th>\n",
       "      <td>28</td>\n",
       "      <td>26.51000</td>\n",
       "      <td>2</td>\n",
       "      <td>1297</td>\n",
       "      <td>4340.44090</td>\n",
       "      <td>0</td>\n",
       "      <td>0</td>\n",
       "      <td>0</td>\n",
       "      <td>1</td>\n",
       "      <td>0</td>\n",
       "    </tr>\n",
       "    <tr>\n",
       "      <th>2</th>\n",
       "      <td>51</td>\n",
       "      <td>39.70000</td>\n",
       "      <td>1</td>\n",
       "      <td>634</td>\n",
       "      <td>9391.34600</td>\n",
       "      <td>0</td>\n",
       "      <td>1</td>\n",
       "      <td>0</td>\n",
       "      <td>0</td>\n",
       "      <td>1</td>\n",
       "    </tr>\n",
       "    <tr>\n",
       "      <th>3</th>\n",
       "      <td>47</td>\n",
       "      <td>36.08000</td>\n",
       "      <td>1</td>\n",
       "      <td>1022</td>\n",
       "      <td>42211.13820</td>\n",
       "      <td>1</td>\n",
       "      <td>1</td>\n",
       "      <td>0</td>\n",
       "      <td>1</td>\n",
       "      <td>0</td>\n",
       "    </tr>\n",
       "    <tr>\n",
       "      <th>4</th>\n",
       "      <td>46</td>\n",
       "      <td>28.90000</td>\n",
       "      <td>2</td>\n",
       "      <td>178</td>\n",
       "      <td>8823.27900</td>\n",
       "      <td>0</td>\n",
       "      <td>0</td>\n",
       "      <td>0</td>\n",
       "      <td>0</td>\n",
       "      <td>1</td>\n",
       "    </tr>\n",
       "  </tbody>\n",
       "</table>\n",
       "</div>"
      ],
      "text/plain": [
       "   age      bmi  children    id     charges  smoker_yes  sex_male  \\\n",
       "0   24 23.65500         0   693  2352.96845           0         1   \n",
       "1   28 26.51000         2  1297  4340.44090           0         0   \n",
       "2   51 39.70000         1   634  9391.34600           0         1   \n",
       "3   47 36.08000         1  1022 42211.13820           1         1   \n",
       "4   46 28.90000         2   178  8823.27900           0         0   \n",
       "\n",
       "   region_northwest  region_southeast  region_southwest  \n",
       "0                 1                 0                 0  \n",
       "1                 0                 1                 0  \n",
       "2                 0                 0                 1  \n",
       "3                 0                 1                 0  \n",
       "4                 0                 0                 1  "
      ]
     },
     "execution_count": 26,
     "metadata": {},
     "output_type": "execute_result"
    }
   ],
   "source": [
    "#data_dummy_iqr.head()"
   ]
  },
  {
   "cell_type": "raw",
   "metadata": {},
   "source": []
  },
  {
   "cell_type": "code",
   "execution_count": 27,
   "metadata": {},
   "outputs": [
    {
     "name": "stdout",
     "output_type": "stream",
     "text": [
      "<class 'pandas.core.frame.DataFrame'>\n",
      "Int64Index: 1003 entries, 0 to 1002\n",
      "Data columns (total 10 columns):\n",
      " #   Column            Non-Null Count  Dtype  \n",
      "---  ------            --------------  -----  \n",
      " 0   age               1003 non-null   int64  \n",
      " 1   bmi               1003 non-null   float64\n",
      " 2   children          1003 non-null   int64  \n",
      " 3   id                1003 non-null   int64  \n",
      " 4   charges           1003 non-null   float64\n",
      " 5   smoker_yes        1003 non-null   uint8  \n",
      " 6   sex_male          1003 non-null   uint8  \n",
      " 7   region_northwest  1003 non-null   uint8  \n",
      " 8   region_southeast  1003 non-null   uint8  \n",
      " 9   region_southwest  1003 non-null   uint8  \n",
      "dtypes: float64(2), int64(3), uint8(5)\n",
      "memory usage: 51.9 KB\n"
     ]
    }
   ],
   "source": [
    "#data_dummy_iqr.info()"
   ]
  },
  {
   "cell_type": "markdown",
   "metadata": {
    "id": "P-TfPpZmcuP-"
   },
   "source": [
    "<a name = Section52></a>\n",
    "### **5.2 Post Profiling Report**"
   ]
  },
  {
   "cell_type": "code",
   "execution_count": 114,
   "metadata": {
    "executionInfo": {
     "elapsed": 17,
     "status": "ok",
     "timestamp": 1625569239243,
     "user": {
      "displayName": "Hiren Rupchandani",
      "photoUrl": "https://lh3.googleusercontent.com/a-/AOh14GhgU4n1VRWoxNACyzwiLFFnL3xL6qH1xJchHFekUbI=s64",
      "userId": "16888644812809569435"
     },
     "user_tz": -330
    },
    "id": "vcKyfMu5c15f"
   },
   "outputs": [
    {
     "data": {
      "application/vnd.jupyter.widget-view+json": {
       "model_id": "fdfa20983ee54d2aa8d265d3a9ae67a5",
       "version_major": 2,
       "version_minor": 0
      },
      "text/plain": [
       "Summarize dataset:   0%|          | 0/5 [00:00<?, ?it/s]"
      ]
     },
     "metadata": {},
     "output_type": "display_data"
    },
    {
     "data": {
      "application/vnd.jupyter.widget-view+json": {
       "model_id": "b4531f6b83cb4440bcd398d6667bf55b",
       "version_major": 2,
       "version_minor": 0
      },
      "text/plain": [
       "Generate report structure:   0%|          | 0/1 [00:00<?, ?it/s]"
      ]
     },
     "metadata": {},
     "output_type": "display_data"
    },
    {
     "data": {
      "application/vnd.jupyter.widget-view+json": {
       "model_id": "fadcc503749a444db461e68547ff668f",
       "version_major": 2,
       "version_minor": 0
      },
      "text/plain": [
       "Render HTML:   0%|          | 0/1 [00:00<?, ?it/s]"
      ]
     },
     "metadata": {},
     "output_type": "display_data"
    },
    {
     "data": {
      "application/vnd.jupyter.widget-view+json": {
       "model_id": "41def12d40614009aea178aa2505181a",
       "version_major": 2,
       "version_minor": 0
      },
      "text/plain": [
       "Export report to file:   0%|          | 0/1 [00:00<?, ?it/s]"
      ]
     },
     "metadata": {},
     "output_type": "display_data"
    },
    {
     "name": "stdout",
     "output_type": "stream",
     "text": [
      "Accomplished!\n"
     ]
    }
   ],
   "source": [
    "profile = ProfileReport(df=data_dummy_iqr)\n",
    "profile.to_file(output_file='Post Profiling Report.html')\n",
    "print('Accomplished!')"
   ]
  },
  {
   "cell_type": "markdown",
   "metadata": {
    "id": "YlnUV-UydSIl"
   },
   "source": [
    "**Observations**:\n",
    "\n",
    "- After pre-processing our data, we have **1003 observations** with **13 features** (**8 categorical + 5 numeric**)\n",
    "\n",
    "- There are **no missing values** present in the dataset.\n",
    "\n",
    "- We have our **new** binary dummy **feature** as **sex, smoker, region** with unique **values as 0 or 1**.\n",
    "\n",
    "- There is a **high correlation** among the features. We may have to **filter out** the **necessary** features for **building** our **prediction model**."
   ]
  },
  {
   "cell_type": "markdown",
   "metadata": {
    "id": "mX1Sqou1meK5"
   },
   "source": [
    "<a name = Section6></a>\n",
    "\n",
    "---\n",
    "# **6. Exploratory Data Analysis**\n",
    "---"
   ]
  },
  {
   "cell_type": "markdown",
   "metadata": {
    "id": "48w0_xLqJHKG"
   },
   "source": [
    "\n",
    "---\n",
    "**<h4>Question 5:** Create a function that checks the distribution of the target feature.\n",
    "\n",
    "---\n",
    "\n",
    "<details>\n",
    "\n",
    "**<summary>Hint:</summary>**\n",
    "\n",
    "- Plot a 10x7 inches figure\n",
    "\n",
    "- Plot a kdeplot/histplot for the `Sales_in_thousands` variable.\n",
    "\n",
    "- Add additional cosmetics like grid and title to the plot.\n",
    "\n",
    "- Set x, y labels of size 14, ticks of size 12 and title label of size 16.\n",
    "\n",
    "</details>"
   ]
  },
  {
   "cell_type": "code",
   "execution_count": 94,
   "metadata": {
    "executionInfo": {
     "elapsed": 17,
     "status": "ok",
     "timestamp": 1625569239243,
     "user": {
      "displayName": "Hiren Rupchandani",
      "photoUrl": "https://lh3.googleusercontent.com/a-/AOh14GhgU4n1VRWoxNACyzwiLFFnL3xL6qH1xJchHFekUbI=s64",
      "userId": "16888644812809569435"
     },
     "user_tz": -330
    },
    "id": "6mmfruxsJVQL"
   },
   "outputs": [],
   "source": [
    "def plot_target():\n",
    "  # Create a figure of 10 x 7 inches\n",
    "  fig = plt.figure(figsize=(10, 7))\n",
    "\n",
    "  # Plot a kde plot on Sales_in_thousands using sns.kdeplot\n",
    "  sns.kdeplot(x = (train_dummy_v['charges']), shade=True)\n",
    "\n",
    "  # Set x, y labels of size 14, ticks of size 12 and title label of size 16.\n",
    "  plt.xlabel(xlabel='Charges', size=14)\n",
    "  plt.ylabel(ylabel='Density', size=14)\n",
    "  plt.xticks(size=12)\n",
    "  plt.yticks(size=12)\n",
    "  plt.title(label='Medical Cost', size=16)\n",
    "\n",
    "  # Put a grid\n",
    "  plt.grid(b=True)\n",
    "\n",
    "  # Display the plot\n",
    "  plt.show()"
   ]
  },
  {
   "cell_type": "code",
   "execution_count": 95,
   "metadata": {
    "colab": {
     "base_uri": "https://localhost:8080/",
     "height": 468
    },
    "executionInfo": {
     "elapsed": 18,
     "status": "ok",
     "timestamp": 1625569239244,
     "user": {
      "displayName": "Hiren Rupchandani",
      "photoUrl": "https://lh3.googleusercontent.com/a-/AOh14GhgU4n1VRWoxNACyzwiLFFnL3xL6qH1xJchHFekUbI=s64",
      "userId": "16888644812809569435"
     },
     "user_tz": -330
    },
    "id": "TOngdWeA3ik6",
    "outputId": "7c39a614-b2ec-4d8a-eddc-ebda77753191"
   },
   "outputs": [
    {
     "data": {
      "image/png": "[encoded data removed]",
      "text/plain": [
       "<Figure size 1000x700 with 1 Axes>"
      ]
     },
     "metadata": {},
     "output_type": "display_data"
    }
   ],
   "source": [
    "plot_target()"
   ]
  },
  {
   "cell_type": "markdown",
   "metadata": {
    "id": "J7ncl9Wvbe3i"
   },
   "source": [
    "**Observations:**\n",
    "\n",
    "- There is **skewness** in our target variable.\n",
    "\n",
    "- We have to **transform** it so that we can use it for **model building**."
   ]
  },
  {
   "cell_type": "markdown",
   "metadata": {
    "id": "FM2dQmhikjyF"
   },
   "source": [
    "<a name = Section7></a>\n",
    "\n",
    "---\n",
    "# **7. Data Post-Processing**\n",
    "---"
   ]
  },
  {
   "cell_type": "markdown",
   "metadata": {
    "id": "Y6jwRHKWePY4"
   },
   "source": [
    "<a name = Section71></a>\n",
    "### **7.1 Feature Extraction**\n",
    "\n",
    "- In this section, we will select some of the features that will be used for model development."
   ]
  },
  {
   "cell_type": "code",
   "execution_count": 29,
   "metadata": {},
   "outputs": [
    {
     "name": "stdout",
     "output_type": "stream",
     "text": [
      "<class 'pandas.core.frame.DataFrame'>\n",
      "Int64Index: 1003 entries, 0 to 1002\n",
      "Data columns (total 10 columns):\n",
      " #   Column            Non-Null Count  Dtype  \n",
      "---  ------            --------------  -----  \n",
      " 0   age               1003 non-null   int64  \n",
      " 1   bmi               1003 non-null   float64\n",
      " 2   children          1003 non-null   int64  \n",
      " 3   id                1003 non-null   int64  \n",
      " 4   charges           1003 non-null   float64\n",
      " 5   smoker_yes        1003 non-null   uint8  \n",
      " 6   sex_male          1003 non-null   uint8  \n",
      " 7   region_northwest  1003 non-null   uint8  \n",
      " 8   region_southeast  1003 non-null   uint8  \n",
      " 9   region_southwest  1003 non-null   uint8  \n",
      "dtypes: float64(2), int64(3), uint8(5)\n",
      "memory usage: 51.9 KB\n"
     ]
    }
   ],
   "source": [
    "data_dummy_iqr.info()"
   ]
  },
  {
   "cell_type": "code",
   "execution_count": 74,
   "metadata": {
    "executionInfo": {
     "elapsed": 23,
     "status": "ok",
     "timestamp": 1625569240800,
     "user": {
      "displayName": "Hiren Rupchandani",
      "photoUrl": "https://lh3.googleusercontent.com/a-/AOh14GhgU4n1VRWoxNACyzwiLFFnL3xL6qH1xJchHFekUbI=s64",
      "userId": "16888644812809569435"
     },
     "user_tz": -330
    },
    "id": "T_UEkEPSEU0-"
   },
   "outputs": [],
   "source": [
    "def feature_extract(data=None):\n",
    "  df = data_dummy_iqr[['age', 'bmi', 'id', 'charges', 'smoker_yes', 'sex_male', 'region_northwest', 'region_southwest', 'region_southeast']]\n",
    "  return df"
   ]
  },
  {
   "cell_type": "code",
   "execution_count": 79,
   "metadata": {
    "colab": {
     "base_uri": "https://localhost:8080/",
     "height": 206
    },
    "executionInfo": {
     "elapsed": 23,
     "status": "ok",
     "timestamp": 1625569240800,
     "user": {
      "displayName": "Hiren Rupchandani",
      "photoUrl": "https://lh3.googleusercontent.com/a-/AOh14GhgU4n1VRWoxNACyzwiLFFnL3xL6qH1xJchHFekUbI=s64",
      "userId": "16888644812809569435"
     },
     "user_tz": -330
    },
    "id": "akldBYmLW0QE",
    "outputId": "fe0f0b73-4193-461a-bdf2-1f00b0506f30"
   },
   "outputs": [
    {
     "data": {
      "text/html": [
       "<div>\n",
       "<style scoped>\n",
       "    .dataframe tbody tr th:only-of-type {\n",
       "        vertical-align: middle;\n",
       "    }\n",
       "\n",
       "    .dataframe tbody tr th {\n",
       "        vertical-align: top;\n",
       "    }\n",
       "\n",
       "    .dataframe thead th {\n",
       "        text-align: right;\n",
       "    }\n",
       "</style>\n",
       "<table border=\"1\" class=\"dataframe\">\n",
       "  <thead>\n",
       "    <tr style=\"text-align: right;\">\n",
       "      <th></th>\n",
       "      <th>age</th>\n",
       "      <th>bmi</th>\n",
       "      <th>id</th>\n",
       "      <th>charges</th>\n",
       "      <th>smoker_yes</th>\n",
       "      <th>sex_male</th>\n",
       "      <th>region_northwest</th>\n",
       "      <th>region_southwest</th>\n",
       "      <th>region_southeast</th>\n",
       "    </tr>\n",
       "  </thead>\n",
       "  <tbody>\n",
       "    <tr>\n",
       "      <th>0</th>\n",
       "      <td>1.15627</td>\n",
       "      <td>1.15170</td>\n",
       "      <td>693</td>\n",
       "      <td>2.17064</td>\n",
       "      <td>0</td>\n",
       "      <td>1</td>\n",
       "      <td>1</td>\n",
       "      <td>0</td>\n",
       "      <td>0</td>\n",
       "    </tr>\n",
       "    <tr>\n",
       "      <th>1</th>\n",
       "      <td>1.20363</td>\n",
       "      <td>1.18709</td>\n",
       "      <td>1297</td>\n",
       "      <td>2.23815</td>\n",
       "      <td>0</td>\n",
       "      <td>0</td>\n",
       "      <td>0</td>\n",
       "      <td>0</td>\n",
       "      <td>1</td>\n",
       "    </tr>\n",
       "    <tr>\n",
       "      <th>2</th>\n",
       "      <td>1.36910</td>\n",
       "      <td>1.30328</td>\n",
       "      <td>634</td>\n",
       "      <td>2.31724</td>\n",
       "      <td>0</td>\n",
       "      <td>1</td>\n",
       "      <td>0</td>\n",
       "      <td>1</td>\n",
       "      <td>0</td>\n",
       "    </tr>\n",
       "    <tr>\n",
       "      <th>3</th>\n",
       "      <td>1.34811</td>\n",
       "      <td>1.27696</td>\n",
       "      <td>1022</td>\n",
       "      <td>2.45535</td>\n",
       "      <td>1</td>\n",
       "      <td>1</td>\n",
       "      <td>0</td>\n",
       "      <td>0</td>\n",
       "      <td>1</td>\n",
       "    </tr>\n",
       "    <tr>\n",
       "      <th>4</th>\n",
       "      <td>1.34251</td>\n",
       "      <td>1.21308</td>\n",
       "      <td>178</td>\n",
       "      <td>2.31108</td>\n",
       "      <td>0</td>\n",
       "      <td>0</td>\n",
       "      <td>0</td>\n",
       "      <td>1</td>\n",
       "      <td>0</td>\n",
       "    </tr>\n",
       "  </tbody>\n",
       "</table>\n",
       "</div>"
      ],
      "text/plain": [
       "      age     bmi    id  charges  smoker_yes  sex_male  region_northwest  \\\n",
       "0 1.15627 1.15170   693  2.17064           0         1                 1   \n",
       "1 1.20363 1.18709  1297  2.23815           0         0                 0   \n",
       "2 1.36910 1.30328   634  2.31724           0         1                 0   \n",
       "3 1.34811 1.27696  1022  2.45535           1         1                 0   \n",
       "4 1.34251 1.21308   178  2.31108           0         0                 0   \n",
       "\n",
       "   region_southwest  region_southeast  \n",
       "0                 0                 0  \n",
       "1                 0                 1  \n",
       "2                 1                 0  \n",
       "3                 0                 1  \n",
       "4                 1                 0  "
      ]
     },
     "execution_count": 79,
     "metadata": {},
     "output_type": "execute_result"
    }
   ],
   "source": [
    "df = feature_extract(data=train_dummy_v)\n",
    "df.head()"
   ]
  },
  {
   "cell_type": "markdown",
   "metadata": {
    "id": "NDy5rcseeZt3"
   },
   "source": [
    "<a name = Section72></a>\n",
    "### **7.2 Feature Transformation**\n",
    "\n",
    "- In this section, we will apply **transformations** to some features."
   ]
  },
  {
   "cell_type": "markdown",
   "metadata": {
    "id": "-HhAHhyQW7kh"
   },
   "source": [
    "\n",
    "---\n",
    "**<h4>Question 10:** Create a function that applies log transformation on the given features.</h4>\n",
    "\n",
    "---\n",
    "\n",
    "- Feature: `Sales_in_thousands` - log(1+x)\n",
    "\n",
    "- Feature: `_year_resale_value` - log(x)\n",
    "\n",
    "- Feature: `Price_in_thousands` - log(x)\n",
    "\n",
    "\n",
    "<details>\n",
    "\n",
    "**<summary>Hint:</summary>**\n",
    "\n",
    "- log(1+x) transformation can be applied using `np.log1p()` method.\n",
    "\n",
    "- log(x) transformation can be applied using `np.log()` method.\n",
    "\n",
    "</details>"
   ]
  },
  {
   "cell_type": "code",
   "execution_count": 118,
   "metadata": {},
   "outputs": [],
   "source": [
    ">>> import numpy as np\n",
    ">>> from sklearn.preprocessing import power_transform"
   ]
  },
  {
   "cell_type": "code",
   "execution_count": null,
   "metadata": {},
   "outputs": [],
   "source": []
  },
  {
   "cell_type": "code",
   "execution_count": 76,
   "metadata": {
    "executionInfo": {
     "elapsed": 22,
     "status": "ok",
     "timestamp": 1625569240800,
     "user": {
      "displayName": "Hiren Rupchandani",
      "photoUrl": "https://lh3.googleusercontent.com/a-/AOh14GhgU4n1VRWoxNACyzwiLFFnL3xL6qH1xJchHFekUbI=s64",
      "userId": "16888644812809569435"
     },
     "user_tz": -330
    },
    "id": "RDkSctbZNhyl"
   },
   "outputs": [],
   "source": [
    "def transform_features(df=None):\n",
    "  df['charges'] = np.log1p(df['charges'])\n",
    "  df['bmi'] = np.log(df['bmi'])\n",
    "  df['age'] = np.log(df['age'])\n",
    "  return df"
   ]
  },
  {
   "cell_type": "code",
   "execution_count": 77,
   "metadata": {
    "colab": {
     "base_uri": "https://localhost:8080/",
     "height": 206
    },
    "executionInfo": {
     "elapsed": 23,
     "status": "ok",
     "timestamp": 1625569240801,
     "user": {
      "displayName": "Hiren Rupchandani",
      "photoUrl": "https://lh3.googleusercontent.com/a-/AOh14GhgU4n1VRWoxNACyzwiLFFnL3xL6qH1xJchHFekUbI=s64",
      "userId": "16888644812809569435"
     },
     "user_tz": -330
    },
    "id": "EpRsPIFzX5aq",
    "outputId": "7293db78-ea84-4539-a334-f1e66a7c426f"
   },
   "outputs": [
    {
     "data": {
      "text/html": [
       "<div>\n",
       "<style scoped>\n",
       "    .dataframe tbody tr th:only-of-type {\n",
       "        vertical-align: middle;\n",
       "    }\n",
       "\n",
       "    .dataframe tbody tr th {\n",
       "        vertical-align: top;\n",
       "    }\n",
       "\n",
       "    .dataframe thead th {\n",
       "        text-align: right;\n",
       "    }\n",
       "</style>\n",
       "<table border=\"1\" class=\"dataframe\">\n",
       "  <thead>\n",
       "    <tr style=\"text-align: right;\">\n",
       "      <th></th>\n",
       "      <th>age</th>\n",
       "      <th>bmi</th>\n",
       "      <th>children</th>\n",
       "      <th>id</th>\n",
       "      <th>charges</th>\n",
       "      <th>smoker_yes</th>\n",
       "      <th>sex_male</th>\n",
       "      <th>region_northwest</th>\n",
       "      <th>region_southeast</th>\n",
       "      <th>region_southwest</th>\n",
       "    </tr>\n",
       "  </thead>\n",
       "  <tbody>\n",
       "    <tr>\n",
       "      <th>0</th>\n",
       "      <td>1.15627</td>\n",
       "      <td>1.15170</td>\n",
       "      <td>0</td>\n",
       "      <td>693</td>\n",
       "      <td>2.17064</td>\n",
       "      <td>0</td>\n",
       "      <td>1</td>\n",
       "      <td>1</td>\n",
       "      <td>0</td>\n",
       "      <td>0</td>\n",
       "    </tr>\n",
       "    <tr>\n",
       "      <th>1</th>\n",
       "      <td>1.20363</td>\n",
       "      <td>1.18709</td>\n",
       "      <td>2</td>\n",
       "      <td>1297</td>\n",
       "      <td>2.23815</td>\n",
       "      <td>0</td>\n",
       "      <td>0</td>\n",
       "      <td>0</td>\n",
       "      <td>1</td>\n",
       "      <td>0</td>\n",
       "    </tr>\n",
       "    <tr>\n",
       "      <th>2</th>\n",
       "      <td>1.36910</td>\n",
       "      <td>1.30328</td>\n",
       "      <td>1</td>\n",
       "      <td>634</td>\n",
       "      <td>2.31724</td>\n",
       "      <td>0</td>\n",
       "      <td>1</td>\n",
       "      <td>0</td>\n",
       "      <td>0</td>\n",
       "      <td>1</td>\n",
       "    </tr>\n",
       "    <tr>\n",
       "      <th>3</th>\n",
       "      <td>1.34811</td>\n",
       "      <td>1.27696</td>\n",
       "      <td>1</td>\n",
       "      <td>1022</td>\n",
       "      <td>2.45535</td>\n",
       "      <td>1</td>\n",
       "      <td>1</td>\n",
       "      <td>0</td>\n",
       "      <td>1</td>\n",
       "      <td>0</td>\n",
       "    </tr>\n",
       "    <tr>\n",
       "      <th>4</th>\n",
       "      <td>1.34251</td>\n",
       "      <td>1.21308</td>\n",
       "      <td>2</td>\n",
       "      <td>178</td>\n",
       "      <td>2.31108</td>\n",
       "      <td>0</td>\n",
       "      <td>0</td>\n",
       "      <td>0</td>\n",
       "      <td>0</td>\n",
       "      <td>1</td>\n",
       "    </tr>\n",
       "  </tbody>\n",
       "</table>\n",
       "</div>"
      ],
      "text/plain": [
       "      age     bmi  children    id  charges  smoker_yes  sex_male  \\\n",
       "0 1.15627 1.15170         0   693  2.17064           0         1   \n",
       "1 1.20363 1.18709         2  1297  2.23815           0         0   \n",
       "2 1.36910 1.30328         1   634  2.31724           0         1   \n",
       "3 1.34811 1.27696         1  1022  2.45535           1         1   \n",
       "4 1.34251 1.21308         2   178  2.31108           0         0   \n",
       "\n",
       "   region_northwest  region_southeast  region_southwest  \n",
       "0                 1                 0                 0  \n",
       "1                 0                 1                 0  \n",
       "2                 0                 0                 1  \n",
       "3                 0                 1                 0  \n",
       "4                 0                 0                 1  "
      ]
     },
     "execution_count": 77,
     "metadata": {},
     "output_type": "execute_result"
    }
   ],
   "source": [
    "df = transform_features(df=data_dummy_iqr)\n",
    "df.head()"
   ]
  },
  {
   "cell_type": "markdown",
   "metadata": {
    "id": "IQrdHcqBgvHJ"
   },
   "source": [
    "<a name = Section73></a>\n",
    "### **7.3 Feature Scaling**\n",
    "\n",
    "- In this section, we will perform **standard scaling** over the selected features."
   ]
  },
  {
   "cell_type": "markdown",
   "metadata": {
    "id": "G0xSNNqbo5x2"
   },
   "source": [
    "\n",
    "---\n",
    "**<h4>Question 11:** Create a function that scales the features of dataframe using a standard scaler.</h4>\n",
    "\n",
    "---\n",
    "\n",
    "<details>\n",
    "\n",
    "**<summary>Hint:</summary>**\n",
    "\n",
    "- Instantiate a scaler using StandardScaler()\n",
    "\n",
    "- Fit and transform dataframe using `.fit_transform()` method of the **StandardScaler**.\n",
    "\n",
    "- Create a new dataframe using output of scaled dataframe and column names of the input dataframe.\n",
    "\n",
    "</details>"
   ]
  },
  {
   "cell_type": "code",
   "execution_count": 34,
   "metadata": {
    "executionInfo": {
     "elapsed": 23,
     "status": "ok",
     "timestamp": 1625569240802,
     "user": {
      "displayName": "Hiren Rupchandani",
      "photoUrl": "https://lh3.googleusercontent.com/a-/AOh14GhgU4n1VRWoxNACyzwiLFFnL3xL6qH1xJchHFekUbI=s64",
      "userId": "16888644812809569435"
     },
     "user_tz": -330
    },
    "id": "Q6RYdWonmLnu"
   },
   "outputs": [],
   "source": [
    "def scale_data(data=None):\n",
    "  sc = StandardScaler()\n",
    "  scaled_data = sc.fit_transform(data_dummy_iqr)\n",
    "  scaled_dataframe = pd.DataFrame(data=scaled_data, columns=data.columns)\n",
    "  return scaled_dataframe"
   ]
  },
  {
   "cell_type": "code",
   "execution_count": 35,
   "metadata": {
    "colab": {
     "base_uri": "https://localhost:8080/",
     "height": 206
    },
    "executionInfo": {
     "elapsed": 24,
     "status": "ok",
     "timestamp": 1625569240803,
     "user": {
      "displayName": "Hiren Rupchandani",
      "photoUrl": "https://lh3.googleusercontent.com/a-/AOh14GhgU4n1VRWoxNACyzwiLFFnL3xL6qH1xJchHFekUbI=s64",
      "userId": "16888644812809569435"
     },
     "user_tz": -330
    },
    "id": "kNu6IsWgpKtz",
    "outputId": "0dbcb20a-2914-4179-dbb1-ee43ef6775b6"
   },
   "outputs": [
    {
     "data": {
      "text/html": [
       "<div>\n",
       "<style scoped>\n",
       "    .dataframe tbody tr th:only-of-type {\n",
       "        vertical-align: middle;\n",
       "    }\n",
       "\n",
       "    .dataframe tbody tr th {\n",
       "        vertical-align: top;\n",
       "    }\n",
       "\n",
       "    .dataframe thead th {\n",
       "        text-align: right;\n",
       "    }\n",
       "</style>\n",
       "<table border=\"1\" class=\"dataframe\">\n",
       "  <thead>\n",
       "    <tr style=\"text-align: right;\">\n",
       "      <th></th>\n",
       "      <th>age</th>\n",
       "      <th>bmi</th>\n",
       "      <th>children</th>\n",
       "      <th>id</th>\n",
       "      <th>charges</th>\n",
       "      <th>smoker_yes</th>\n",
       "      <th>sex_male</th>\n",
       "      <th>region_northwest</th>\n",
       "      <th>region_southeast</th>\n",
       "      <th>region_southwest</th>\n",
       "    </tr>\n",
       "  </thead>\n",
       "  <tbody>\n",
       "    <tr>\n",
       "      <th>0</th>\n",
       "      <td>-1.07433</td>\n",
       "      <td>-1.17252</td>\n",
       "      <td>-0.91750</td>\n",
       "      <td>0.06762</td>\n",
       "      <td>-1.46232</td>\n",
       "      <td>-0.50840</td>\n",
       "      <td>0.99107</td>\n",
       "      <td>1.75421</td>\n",
       "      <td>-0.59002</td>\n",
       "      <td>-0.57159</td>\n",
       "    </tr>\n",
       "    <tr>\n",
       "      <th>1</th>\n",
       "      <td>-0.68032</td>\n",
       "      <td>-0.60354</td>\n",
       "      <td>0.74361</td>\n",
       "      <td>1.63085</td>\n",
       "      <td>-0.79374</td>\n",
       "      <td>-0.50840</td>\n",
       "      <td>-1.00901</td>\n",
       "      <td>-0.57006</td>\n",
       "      <td>1.69487</td>\n",
       "      <td>-0.57159</td>\n",
       "    </tr>\n",
       "    <tr>\n",
       "      <th>2</th>\n",
       "      <td>0.85229</td>\n",
       "      <td>1.41292</td>\n",
       "      <td>-0.08695</td>\n",
       "      <td>-0.08508</td>\n",
       "      <td>0.04915</td>\n",
       "      <td>-0.50840</td>\n",
       "      <td>0.99107</td>\n",
       "      <td>-0.57006</td>\n",
       "      <td>-0.59002</td>\n",
       "      <td>1.74949</td>\n",
       "    </tr>\n",
       "    <tr>\n",
       "      <th>3</th>\n",
       "      <td>0.64353</td>\n",
       "      <td>0.93549</td>\n",
       "      <td>-0.08695</td>\n",
       "      <td>0.91912</td>\n",
       "      <td>1.69063</td>\n",
       "      <td>1.96696</td>\n",
       "      <td>0.99107</td>\n",
       "      <td>-0.57006</td>\n",
       "      <td>1.69487</td>\n",
       "      <td>-0.57159</td>\n",
       "    </tr>\n",
       "    <tr>\n",
       "      <th>4</th>\n",
       "      <td>0.58856</td>\n",
       "      <td>-0.17252</td>\n",
       "      <td>0.74361</td>\n",
       "      <td>-1.26528</td>\n",
       "      <td>-0.01899</td>\n",
       "      <td>-0.50840</td>\n",
       "      <td>-1.00901</td>\n",
       "      <td>-0.57006</td>\n",
       "      <td>-0.59002</td>\n",
       "      <td>1.74949</td>\n",
       "    </tr>\n",
       "  </tbody>\n",
       "</table>\n",
       "</div>"
      ],
      "text/plain": [
       "       age      bmi  children       id  charges  smoker_yes  sex_male  \\\n",
       "0 -1.07433 -1.17252  -0.91750  0.06762 -1.46232    -0.50840   0.99107   \n",
       "1 -0.68032 -0.60354   0.74361  1.63085 -0.79374    -0.50840  -1.00901   \n",
       "2  0.85229  1.41292  -0.08695 -0.08508  0.04915    -0.50840   0.99107   \n",
       "3  0.64353  0.93549  -0.08695  0.91912  1.69063     1.96696   0.99107   \n",
       "4  0.58856 -0.17252   0.74361 -1.26528 -0.01899    -0.50840  -1.00901   \n",
       "\n",
       "   region_northwest  region_southeast  region_southwest  \n",
       "0           1.75421          -0.59002          -0.57159  \n",
       "1          -0.57006           1.69487          -0.57159  \n",
       "2          -0.57006          -0.59002           1.74949  \n",
       "3          -0.57006           1.69487          -0.57159  \n",
       "4          -0.57006          -0.59002           1.74949  "
      ]
     },
     "execution_count": 35,
     "metadata": {},
     "output_type": "execute_result"
    }
   ],
   "source": [
    "scaled_data = scale_data(data=data_dummy_iqr)\n",
    "scaled_data.head()"
   ]
  },
  {
   "cell_type": "markdown",
   "metadata": {
    "id": "H3ThcctJnrMH"
   },
   "source": [
    "---\n",
    "**<h4>Question 12:** Create a function that creates two dataframes for dependent and independent features.</h4>\n",
    "\n",
    "---\n",
    "\n",
    "<details>\n",
    "\n",
    "**<summary>Hint:</summary>**\n",
    "\n",
    "- Create input dataframe X by dropping only \"Sales_in_thousands\" feature from axis 1.\n",
    "\n",
    "- Create target series by using \"Sales_in_thousands\" as value.\n",
    "\n",
    "</details>\n"
   ]
  },
  {
   "cell_type": "code",
   "execution_count": 72,
   "metadata": {
    "executionInfo": {
     "elapsed": 24,
     "status": "ok",
     "timestamp": 1625569240803,
     "user": {
      "displayName": "Hiren Rupchandani",
      "photoUrl": "https://lh3.googleusercontent.com/a-/AOh14GhgU4n1VRWoxNACyzwiLFFnL3xL6qH1xJchHFekUbI=s64",
      "userId": "16888644812809569435"
     },
     "user_tz": -330
    },
    "id": "NmV_PvKMobxn"
   },
   "outputs": [],
   "source": [
    "def seperate_Xy(data=None):\n",
    "  X = df.drop(labels=['charges'], axis=1)\n",
    "  y = df['charges']\n",
    "  return X, y"
   ]
  },
  {
   "cell_type": "code",
   "execution_count": 73,
   "metadata": {
    "colab": {
     "base_uri": "https://localhost:8080/",
     "height": 206
    },
    "executionInfo": {
     "elapsed": 23,
     "status": "ok",
     "timestamp": 1625569240803,
     "user": {
      "displayName": "Hiren Rupchandani",
      "photoUrl": "https://lh3.googleusercontent.com/a-/AOh14GhgU4n1VRWoxNACyzwiLFFnL3xL6qH1xJchHFekUbI=s64",
      "userId": "16888644812809569435"
     },
     "user_tz": -330
    },
    "id": "vHdxyGC2gqvC",
    "outputId": "ecca8aac-2389-47c3-a9ea-5170c256e2a8"
   },
   "outputs": [
    {
     "data": {
      "text/html": [
       "<div>\n",
       "<style scoped>\n",
       "    .dataframe tbody tr th:only-of-type {\n",
       "        vertical-align: middle;\n",
       "    }\n",
       "\n",
       "    .dataframe tbody tr th {\n",
       "        vertical-align: top;\n",
       "    }\n",
       "\n",
       "    .dataframe thead th {\n",
       "        text-align: right;\n",
       "    }\n",
       "</style>\n",
       "<table border=\"1\" class=\"dataframe\">\n",
       "  <thead>\n",
       "    <tr style=\"text-align: right;\">\n",
       "      <th></th>\n",
       "    </tr>\n",
       "  </thead>\n",
       "  <tbody>\n",
       "    <tr>\n",
       "      <th>0</th>\n",
       "    </tr>\n",
       "    <tr>\n",
       "      <th>1</th>\n",
       "    </tr>\n",
       "    <tr>\n",
       "      <th>2</th>\n",
       "    </tr>\n",
       "    <tr>\n",
       "      <th>3</th>\n",
       "    </tr>\n",
       "    <tr>\n",
       "      <th>4</th>\n",
       "    </tr>\n",
       "  </tbody>\n",
       "</table>\n",
       "</div>"
      ],
      "text/plain": [
       "Empty DataFrame\n",
       "Columns: []\n",
       "Index: [0, 1, 2, 3, 4]"
      ]
     },
     "execution_count": 73,
     "metadata": {},
     "output_type": "execute_result"
    }
   ],
   "source": [
    "X, y = seperate_Xy(data=scaled_data)\n",
    "X.head()"
   ]
  },
  {
   "cell_type": "markdown",
   "metadata": {
    "id": "aHC_XfX7g_WZ"
   },
   "source": [
    "<a name = Section74></a>\n",
    "### **7.4 Data Preparation**\n",
    "\n",
    "- Now we will **split** our **data** in **training** and **testing** part for further development."
   ]
  },
  {
   "cell_type": "markdown",
   "metadata": {
    "id": "YAysVX6qqHKD"
   },
   "source": [
    "---\n",
    "**<h4>Question 13:** Create a function that splits the data into train and test datasets while keeping random state as 42.</h4>\n",
    "\n",
    "---\n",
    "\n",
    "<details>\n",
    "\n",
    "**<summary>Hint:</summary>**\n",
    "\n",
    "- Use `train_test_split()` to split the dataset.\n",
    "\n",
    "- Use `test_size` of **0.25**\n",
    "\n",
    "- Use `random_state` equal to **42**.\n",
    "\n",
    "</details>"
   ]
  },
  {
   "cell_type": "code",
   "execution_count": 42,
   "metadata": {},
   "outputs": [],
   "source": [
    "from sklearn.model_selection import train_test_split\n",
    "\n",
    "def split(X,y):\n",
    "    return train_test_split(X, y, test_size=0.20, random_state=1)"
   ]
  },
  {
   "cell_type": "code",
   "execution_count": 43,
   "metadata": {},
   "outputs": [
    {
     "name": "stdout",
     "output_type": "stream",
     "text": [
      "Train cases as below\n",
      "X_train shape:  (802, 9)\n",
      "y_train shape:  (802,)\n",
      "\n",
      "Test cases as below\n",
      "X_test shape:  (201, 9)\n",
      "y_test shape:  (201,)\n"
     ]
    }
   ],
   "source": [
    "X_train, X_test, y_train, y_test=split(X,y)\n",
    "print('Train cases as below')\n",
    "print('X_train shape: ',X_train.shape)\n",
    "print('y_train shape: ',y_train.shape)\n",
    "print('\\nTest cases as below')\n",
    "print('X_test shape: ',X_test.shape)\n",
    "print('y_test shape: ',y_test.shape)"
   ]
  },
  {
   "cell_type": "markdown",
   "metadata": {
    "id": "coaGUA33hDGK"
   },
   "source": [
    "<a name = Section8></a>\n",
    "\n",
    "---\n",
    "# **8. Model Development & Evaluation**\n",
    "---\n",
    "\n",
    "- In this section we will develop a Linear Regression model, check it's performance using various performance metrics."
   ]
  },
  {
   "cell_type": "markdown",
   "metadata": {
    "id": "qAcKac_eqkLk"
   },
   "source": [
    "---\n",
    "**<h4>Question 14:** Create a function that instantiates a Linear Regression model.</h4>\n",
    "\n",
    "---\n",
    "\n",
    "<details>\n",
    "\n",
    "**<summary>Hint:</summary>**\n",
    "\n",
    "- Instantiate a Linear Regression model using LinearRegression().\n",
    "\n",
    "</details>"
   ]
  },
  {
   "cell_type": "code",
   "execution_count": 44,
   "metadata": {
    "executionInfo": {
     "elapsed": 19,
     "status": "ok",
     "timestamp": 1625569240804,
     "user": {
      "displayName": "Hiren Rupchandani",
      "photoUrl": "https://lh3.googleusercontent.com/a-/AOh14GhgU4n1VRWoxNACyzwiLFFnL3xL6qH1xJchHFekUbI=s64",
      "userId": "16888644812809569435"
     },
     "user_tz": -330
    },
    "id": "sWMgZV6Cgqoa"
   },
   "outputs": [],
   "source": [
    "def model_generator_lr():\n",
    "  return LinearRegression()"
   ]
  },
  {
   "cell_type": "code",
   "execution_count": 45,
   "metadata": {
    "executionInfo": {
     "elapsed": 19,
     "status": "ok",
     "timestamp": 1625569240804,
     "user": {
      "displayName": "Hiren Rupchandani",
      "photoUrl": "https://lh3.googleusercontent.com/a-/AOh14GhgU4n1VRWoxNACyzwiLFFnL3xL6qH1xJchHFekUbI=s64",
      "userId": "16888644812809569435"
     },
     "user_tz": -330
    },
    "id": "JPKa0lDUvFy3"
   },
   "outputs": [],
   "source": [
    "clf = model_generator_lr()"
   ]
  },
  {
   "cell_type": "code",
   "execution_count": 46,
   "metadata": {
    "executionInfo": {
     "elapsed": 28,
     "status": "ok",
     "timestamp": 1625569220343,
     "user": {
      "displayName": "Hiren Rupchandani",
      "photoUrl": "https://lh3.googleusercontent.com/a-/AOh14GhgU4n1VRWoxNACyzwiLFFnL3xL6qH1xJchHFekUbI=s64",
      "userId": "16888644812809569435"
     },
     "user_tz": -330
    },
    "id": "RQbPcrKVsCNd"
   },
   "outputs": [],
   "source": [
    "def train_n_eval(clf=None):\n",
    "\n",
    "  # Extracting model name\n",
    "  model_name = type(clf).__name__\n",
    "\n",
    "  # Fit the model on train data\n",
    "  clf.fit(X_train, y_train)\n",
    "\n",
    "  # Make predictions using test data\n",
    "  y_pred = clf.predict(X_test)\n",
    "\n",
    "    # Make predictions using train data\n",
    "  y_pred_train = clf.predict(X_train)\n",
    "\n",
    "  # Calculate test accuracy of the model\n",
    "  clf_r2 = r2_score(y_test, y_pred)\n",
    "\n",
    "  # Calculate train accuracy of the model\n",
    "  clf_r2_train = r2_score(y_train, y_pred_train)\n",
    "\n",
    "  # Display the accuracy of the model\n",
    "  print('Performance Metrics for', model_name, ':')\n",
    "  print('[R2-Score Train]:', clf_r2_train)\n",
    "  print('[R2-Score Test]:', clf_r2)"
   ]
  },
  {
   "cell_type": "code",
   "execution_count": 47,
   "metadata": {
    "colab": {
     "base_uri": "https://localhost:8080/"
    },
    "executionInfo": {
     "elapsed": 3,
     "status": "ok",
     "timestamp": 1625569242635,
     "user": {
      "displayName": "Hiren Rupchandani",
      "photoUrl": "https://lh3.googleusercontent.com/a-/AOh14GhgU4n1VRWoxNACyzwiLFFnL3xL6qH1xJchHFekUbI=s64",
      "userId": "16888644812809569435"
     },
     "user_tz": -330
    },
    "id": "-lYZi1rAsxNd",
    "outputId": "9fd4cd9a-35bd-48ae-ae5d-b49006c5465d"
   },
   "outputs": [
    {
     "name": "stdout",
     "output_type": "stream",
     "text": [
      "Performance Metrics for LinearRegression :\n",
      "[R2-Score Train]: 0.7776051119189861\n",
      "[R2-Score Test]: 0.7156656092726635\n"
     ]
    }
   ],
   "source": [
    "train_n_eval(clf=clf)"
   ]
  },
  {
   "cell_type": "code",
   "execution_count": 48,
   "metadata": {},
   "outputs": [
    {
     "name": "stdout",
     "output_type": "stream",
     "text": [
      "0.7156656092726634\n"
     ]
    }
   ],
   "source": [
    "from sklearn.linear_model import LinearRegression \n",
    "from sklearn.metrics import r2_score\n",
    "\n",
    "clf = LinearRegression(normalize=True)\n",
    "clf.fit(X_train,y_train)\n",
    "y_pred = clf.predict(X_test)\n",
    "print(r2_score(y_test,y_pred))"
   ]
  },
  {
   "cell_type": "code",
   "execution_count": null,
   "metadata": {},
   "outputs": [],
   "source": []
  },
  {
   "cell_type": "code",
   "execution_count": 66,
   "metadata": {},
   "outputs": [
    {
     "name": "stdout",
     "output_type": "stream",
     "text": [
      "Data Shape: (335, 7)\n"
     ]
    },
    {
     "data": {
      "text/html": [
       "<div>\n",
       "<style scoped>\n",
       "    .dataframe tbody tr th:only-of-type {\n",
       "        vertical-align: middle;\n",
       "    }\n",
       "\n",
       "    .dataframe tbody tr th {\n",
       "        vertical-align: top;\n",
       "    }\n",
       "\n",
       "    .dataframe thead th {\n",
       "        text-align: right;\n",
       "    }\n",
       "</style>\n",
       "<table border=\"1\" class=\"dataframe\">\n",
       "  <thead>\n",
       "    <tr style=\"text-align: right;\">\n",
       "      <th></th>\n",
       "      <th>age</th>\n",
       "      <th>bmi</th>\n",
       "      <th>children</th>\n",
       "      <th>id</th>\n",
       "      <th>smoker_yes</th>\n",
       "      <th>sex_male</th>\n",
       "      <th>region_northwest</th>\n",
       "      <th>region_southeast</th>\n",
       "      <th>region_southwest</th>\n",
       "    </tr>\n",
       "  </thead>\n",
       "  <tbody>\n",
       "    <tr>\n",
       "      <th>0</th>\n",
       "      <td>45</td>\n",
       "      <td>25.17500</td>\n",
       "      <td>2</td>\n",
       "      <td>764</td>\n",
       "      <td>0</td>\n",
       "      <td>0</td>\n",
       "      <td>0</td>\n",
       "      <td>0</td>\n",
       "      <td>0</td>\n",
       "    </tr>\n",
       "    <tr>\n",
       "      <th>1</th>\n",
       "      <td>36</td>\n",
       "      <td>30.02000</td>\n",
       "      <td>0</td>\n",
       "      <td>887</td>\n",
       "      <td>0</td>\n",
       "      <td>0</td>\n",
       "      <td>1</td>\n",
       "      <td>0</td>\n",
       "      <td>0</td>\n",
       "    </tr>\n",
       "    <tr>\n",
       "      <th>2</th>\n",
       "      <td>64</td>\n",
       "      <td>26.88500</td>\n",
       "      <td>0</td>\n",
       "      <td>890</td>\n",
       "      <td>1</td>\n",
       "      <td>0</td>\n",
       "      <td>1</td>\n",
       "      <td>0</td>\n",
       "      <td>0</td>\n",
       "    </tr>\n",
       "    <tr>\n",
       "      <th>3</th>\n",
       "      <td>46</td>\n",
       "      <td>25.74500</td>\n",
       "      <td>3</td>\n",
       "      <td>1293</td>\n",
       "      <td>0</td>\n",
       "      <td>1</td>\n",
       "      <td>1</td>\n",
       "      <td>0</td>\n",
       "      <td>0</td>\n",
       "    </tr>\n",
       "    <tr>\n",
       "      <th>4</th>\n",
       "      <td>19</td>\n",
       "      <td>31.92000</td>\n",
       "      <td>0</td>\n",
       "      <td>259</td>\n",
       "      <td>1</td>\n",
       "      <td>1</td>\n",
       "      <td>1</td>\n",
       "      <td>0</td>\n",
       "      <td>0</td>\n",
       "    </tr>\n",
       "  </tbody>\n",
       "</table>\n",
       "</div>"
      ],
      "text/plain": [
       "   age      bmi  children    id  smoker_yes  sex_male  region_northwest  \\\n",
       "0   45 25.17500         2   764           0         0                 0   \n",
       "1   36 30.02000         0   887           0         0                 1   \n",
       "2   64 26.88500         0   890           1         0                 1   \n",
       "3   46 25.74500         3  1293           0         1                 1   \n",
       "4   19 31.92000         0   259           1         1                 1   \n",
       "\n",
       "   region_southeast  region_southwest  \n",
       "0                 0                 0  \n",
       "1                 0                 0  \n",
       "2                 0                 0  \n",
       "3                 0                 0  \n",
       "4                 0                 0  "
      ]
     },
     "execution_count": 66,
     "metadata": {},
     "output_type": "execute_result"
    }
   ],
   "source": [
    "test = pd.read_csv(filepath_or_buffer=\"C:/Users/Mani/Desktop/GCDAI/MACHINE LEARNING/Term 4/Medical-Cost-Prediction/test_data.csv\")\n",
    "print('Data Shape:', test.shape)\n",
    "\n",
    "def dummy_test_creator(data=None):\n",
    "  # Create a dummy variable for categorical variables\n",
    "  dummies = pd.get_dummies(data=test, columns=['smoker', 'sex', 'region'], drop_first=True)\n",
    "  # Return the dummy variable\n",
    "  return dummies\n",
    "\n",
    "test_dummy_v = dummy_test_creator(data=test)\n",
    "test_dummy_v.head()"
   ]
  },
  {
   "cell_type": "code",
   "execution_count": 67,
   "metadata": {},
   "outputs": [
    {
     "data": {
      "text/html": [
       "<div>\n",
       "<style scoped>\n",
       "    .dataframe tbody tr th:only-of-type {\n",
       "        vertical-align: middle;\n",
       "    }\n",
       "\n",
       "    .dataframe tbody tr th {\n",
       "        vertical-align: top;\n",
       "    }\n",
       "\n",
       "    .dataframe thead th {\n",
       "        text-align: right;\n",
       "    }\n",
       "</style>\n",
       "<table border=\"1\" class=\"dataframe\">\n",
       "  <thead>\n",
       "    <tr style=\"text-align: right;\">\n",
       "      <th></th>\n",
       "      <th>age</th>\n",
       "      <th>bmi</th>\n",
       "      <th>children</th>\n",
       "      <th>id</th>\n",
       "      <th>smoker_yes</th>\n",
       "      <th>sex_male</th>\n",
       "      <th>region_northwest</th>\n",
       "      <th>region_southeast</th>\n",
       "      <th>region_southwest</th>\n",
       "    </tr>\n",
       "  </thead>\n",
       "  <tbody>\n",
       "    <tr>\n",
       "      <th>0</th>\n",
       "      <td>45</td>\n",
       "      <td>25.17500</td>\n",
       "      <td>2</td>\n",
       "      <td>764</td>\n",
       "      <td>0</td>\n",
       "      <td>0</td>\n",
       "      <td>0</td>\n",
       "      <td>0</td>\n",
       "      <td>0</td>\n",
       "    </tr>\n",
       "    <tr>\n",
       "      <th>1</th>\n",
       "      <td>36</td>\n",
       "      <td>30.02000</td>\n",
       "      <td>0</td>\n",
       "      <td>887</td>\n",
       "      <td>0</td>\n",
       "      <td>0</td>\n",
       "      <td>1</td>\n",
       "      <td>0</td>\n",
       "      <td>0</td>\n",
       "    </tr>\n",
       "    <tr>\n",
       "      <th>2</th>\n",
       "      <td>64</td>\n",
       "      <td>26.88500</td>\n",
       "      <td>0</td>\n",
       "      <td>890</td>\n",
       "      <td>1</td>\n",
       "      <td>0</td>\n",
       "      <td>1</td>\n",
       "      <td>0</td>\n",
       "      <td>0</td>\n",
       "    </tr>\n",
       "    <tr>\n",
       "      <th>3</th>\n",
       "      <td>46</td>\n",
       "      <td>25.74500</td>\n",
       "      <td>3</td>\n",
       "      <td>1293</td>\n",
       "      <td>0</td>\n",
       "      <td>1</td>\n",
       "      <td>1</td>\n",
       "      <td>0</td>\n",
       "      <td>0</td>\n",
       "    </tr>\n",
       "    <tr>\n",
       "      <th>4</th>\n",
       "      <td>19</td>\n",
       "      <td>31.92000</td>\n",
       "      <td>0</td>\n",
       "      <td>259</td>\n",
       "      <td>1</td>\n",
       "      <td>1</td>\n",
       "      <td>1</td>\n",
       "      <td>0</td>\n",
       "      <td>0</td>\n",
       "    </tr>\n",
       "  </tbody>\n",
       "</table>\n",
       "</div>"
      ],
      "text/plain": [
       "   age      bmi  children    id  smoker_yes  sex_male  region_northwest  \\\n",
       "0   45 25.17500         2   764           0         0                 0   \n",
       "1   36 30.02000         0   887           0         0                 1   \n",
       "2   64 26.88500         0   890           1         0                 1   \n",
       "3   46 25.74500         3  1293           0         1                 1   \n",
       "4   19 31.92000         0   259           1         1                 1   \n",
       "\n",
       "   region_southeast  region_southwest  \n",
       "0                 0                 0  \n",
       "1                 0                 0  \n",
       "2                 0                 0  \n",
       "3                 0                 0  \n",
       "4                 0                 0  "
      ]
     },
     "execution_count": 67,
     "metadata": {},
     "output_type": "execute_result"
    }
   ],
   "source": [
    "def scale_data(data=None):\n",
    "  sc = StandardScaler()\n",
    "  scaled_data = sc.fit_transform(test_dummy_v)\n",
    "  scaled_dataframe = pd.DataFrame(data=test_dummy_v, columns=data.columns)\n",
    "  return scaled_dataframe\n",
    "\n",
    "scaled_data_1 = scale_data(data=test_dummy_v)\n",
    "scaled_data_1.head()"
   ]
  },
  {
   "cell_type": "code",
   "execution_count": 68,
   "metadata": {},
   "outputs": [],
   "source": [
    "y_pred_new = clf.predict(scaled_data_1)"
   ]
  },
  {
   "cell_type": "code",
   "execution_count": 69,
   "metadata": {},
   "outputs": [],
   "source": [
    "y_pred = clf.predict(X_test)"
   ]
  },
  {
   "cell_type": "code",
   "execution_count": 55,
   "metadata": {
    "scrolled": true
   },
   "outputs": [
    {
     "name": "stdout",
     "output_type": "stream",
     "text": [
      "<class 'pandas.core.frame.DataFrame'>\n",
      "RangeIndex: 335 entries, 0 to 334\n",
      "Data columns (total 9 columns):\n",
      " #   Column            Non-Null Count  Dtype  \n",
      "---  ------            --------------  -----  \n",
      " 0   age               335 non-null    int64  \n",
      " 1   bmi               335 non-null    float64\n",
      " 2   children          335 non-null    int64  \n",
      " 3   id                335 non-null    int64  \n",
      " 4   smoker_yes        335 non-null    uint8  \n",
      " 5   sex_male          335 non-null    uint8  \n",
      " 6   region_northwest  335 non-null    uint8  \n",
      " 7   region_southeast  335 non-null    uint8  \n",
      " 8   region_southwest  335 non-null    uint8  \n",
      "dtypes: float64(1), int64(3), uint8(5)\n",
      "memory usage: 12.2 KB\n"
     ]
    }
   ],
   "source": [
    "test_dummy_v.info()"
   ]
  },
  {
   "cell_type": "code",
   "execution_count": 70,
   "metadata": {
    "scrolled": true
   },
   "outputs": [
    {
     "name": "stdout",
     "output_type": "stream",
     "text": [
      "      charges\n",
      "0    73.97706\n",
      "1    64.84295\n",
      "2   100.51948\n",
      "3    75.51529\n",
      "4    45.53359\n",
      "5    69.38697\n",
      "6    38.95306\n",
      "7   104.94403\n",
      "8    47.74608\n",
      "9    80.92927\n",
      "10   55.77874\n",
      "11   71.63117\n",
      "12   55.61318\n",
      "13   86.04074\n",
      "14  102.97559\n",
      "15   85.41140\n",
      "16   88.54168\n",
      "17   84.11095\n",
      "18   76.57328\n",
      "19   73.62871\n",
      "20   47.70407\n",
      "21   75.28860\n",
      "22   43.16825\n",
      "23   52.33163\n",
      "24   82.00435\n",
      "25   89.43611\n",
      "26   98.35821\n",
      "27   53.74825\n",
      "28   77.28331\n",
      "29   41.72391\n",
      "30   69.93113\n",
      "31   92.71740\n",
      "32   48.22915\n",
      "33   51.90539\n",
      "34   52.04403\n",
      "35   81.76424\n",
      "36   43.68233\n",
      "37   73.84603\n",
      "38   83.74715\n",
      "39   69.12119\n",
      "40   42.64652\n",
      "41   47.62653\n",
      "42   93.70893\n",
      "43   91.72838\n",
      "44   64.14922\n",
      "45   92.86469\n",
      "46   47.72341\n",
      "47   47.86184\n",
      "48   78.69969\n",
      "49   63.02913\n",
      "50  102.78772\n",
      "51   41.34578\n",
      "52   76.30386\n",
      "53   39.71671\n",
      "54   92.77442\n",
      "55   84.12519\n",
      "56   54.62766\n",
      "57   62.51707\n",
      "58   94.69083\n",
      "59   88.44249\n",
      "60  100.33508\n",
      "61   64.44575\n",
      "62  100.35998\n",
      "63   69.89393\n",
      "64   85.92489\n",
      "65   52.37809\n",
      "66   45.03088\n",
      "67   83.42867\n",
      "68   46.73379\n",
      "69   52.03489\n",
      "70   71.31714\n",
      "71   79.14127\n",
      "72   82.00433\n",
      "73   70.02153\n",
      "74   79.41029\n",
      "75   64.74186\n",
      "76   55.01625\n",
      "77   88.02224\n",
      "78   56.30780\n",
      "79   74.27142\n",
      "80   46.00340\n",
      "81   97.91880\n",
      "82   59.70615\n",
      "83   53.61529\n",
      "84   60.81105\n",
      "85   85.28657\n",
      "86   58.12289\n",
      "87   90.60944\n",
      "88   74.33036\n",
      "89   90.38589\n",
      "90  102.81782\n",
      "91   98.31053\n",
      "92   78.51878\n",
      "93   57.32924\n",
      "94   65.66296\n",
      "95   72.56206\n",
      "96   60.62017\n",
      "97   45.91528\n",
      "98   55.49493\n",
      "99   60.23780\n",
      "100  56.36329\n",
      "101  42.38524\n",
      "102  76.71774\n",
      "103  93.94992\n",
      "104  93.39406\n",
      "105  44.58023\n",
      "106  75.44544\n",
      "107  83.01148\n",
      "108  37.15456\n",
      "109  84.20289\n",
      "110  44.64430\n",
      "111  61.06241\n",
      "112  94.53595\n",
      "113  64.99181\n",
      "114  82.06065\n",
      "115  45.93891\n",
      "116  94.76817\n",
      "117  73.70830\n",
      "118  66.60555\n",
      "119  46.74514\n",
      "120  64.22535\n",
      "121  73.62898\n",
      "122  90.16386\n",
      "123  52.50518\n",
      "124  51.37503\n",
      "125  73.04232\n",
      "126  76.88921\n",
      "127  81.51678\n",
      "128  97.06990\n",
      "129  54.55469\n",
      "130  59.04321\n",
      "131  66.04401\n",
      "132  66.90520\n",
      "133  80.95131\n",
      "134  70.14861\n",
      "135  98.20991\n",
      "136  63.86099\n",
      "137  73.93914\n",
      "138  81.51146\n",
      "139  68.18518\n",
      "140  63.13029\n",
      "141  86.26936\n",
      "142  54.88033\n",
      "143  89.60257\n",
      "144  48.22539\n",
      "145  80.67097\n",
      "146  59.72091\n",
      "147  57.90089\n",
      "148  87.83193\n",
      "149  63.78697\n",
      "150  92.18420\n",
      "151  47.15098\n",
      "152  47.76119\n",
      "153  63.38831\n",
      "154  73.25490\n",
      "155  64.87714\n",
      "156  99.31871\n",
      "157  78.58410\n",
      "158  46.23587\n",
      "159  73.10060\n",
      "160  94.22196\n",
      "161  40.84268\n",
      "162  98.32287\n",
      "163  45.21917\n",
      "164  49.85477\n",
      "165  76.52707\n",
      "166 105.11234\n",
      "167  93.84095\n",
      "168  77.41783\n",
      "169  50.92282\n",
      "170  76.75906\n",
      "171  70.12573\n",
      "172  75.66747\n",
      "173  56.24145\n",
      "174  45.32356\n",
      "175  77.85180\n",
      "176  43.20979\n",
      "177 106.28792\n",
      "178  54.64609\n",
      "179  87.93934\n",
      "180  99.76565\n",
      "181  38.54122\n",
      "182  73.18063\n",
      "183  64.32724\n",
      "184  52.03972\n",
      "185  51.24675\n",
      "186  55.74221\n",
      "187  55.83500\n",
      "188  87.37276\n",
      "189  87.80864\n",
      "190  52.24951\n",
      "191  41.39416\n",
      "192  43.25851\n",
      "193  63.44977\n",
      "194 102.88098\n",
      "195  86.21737\n",
      "196  40.11400\n",
      "197  87.56029\n",
      "198  39.79918\n",
      "199  80.29411\n",
      "200  47.77901\n",
      "201  85.29556\n",
      "202  64.99205\n",
      "203  41.66832\n",
      "204  44.13250\n",
      "205  51.84899\n",
      "206  80.70380\n",
      "207  42.40013\n",
      "208  85.65077\n",
      "209  45.80189\n",
      "210  93.29608\n",
      "211  88.43480\n",
      "212  87.79124\n",
      "213  51.85384\n",
      "214  67.26173\n",
      "215  56.12959\n",
      "216  60.04975\n",
      "217  93.24835\n",
      "218  92.44608\n",
      "219  65.89772\n",
      "220  48.70422\n",
      "221  80.17298\n",
      "222  75.29988\n",
      "223  79.78841\n",
      "224  48.01124\n",
      "225  56.93661\n",
      "226  37.92380\n",
      "227  43.28747\n",
      "228  84.04890\n",
      "229  88.02539\n",
      "230  49.22454\n",
      "231  77.42756\n",
      "232  53.08603\n",
      "233  74.07617\n",
      "234  78.93603\n",
      "235  85.11400\n",
      "236  52.54341\n",
      "237  74.70220\n",
      "238  79.90105\n",
      "239  48.86139\n",
      "240  89.28307\n",
      "241  60.50354\n",
      "242  53.23702\n",
      "243  51.96338\n",
      "244  40.30553\n",
      "245  52.56245\n",
      "246  53.33187\n",
      "247  60.54931\n",
      "248  94.85898\n",
      "249  36.07661\n",
      "250  44.11049\n",
      "251  72.98776\n",
      "252  52.28339\n",
      "253  87.52605\n",
      "254  44.09443\n",
      "255  51.99990\n",
      "256  94.86504\n",
      "257  54.21556\n",
      "258  77.40331\n",
      "259  59.05083\n",
      "260  69.42868\n",
      "261  91.91582\n",
      "262  54.24122\n",
      "263 103.55608\n",
      "264  91.42776\n",
      "265  66.39962\n",
      "266  98.90256\n",
      "267  86.41988\n",
      "268  72.26672\n",
      "269  75.93723\n",
      "270  82.46593\n",
      "271  71.42717\n",
      "272  83.42616\n",
      "273 105.52306\n",
      "274  43.71770\n",
      "275  38.73355\n",
      "276  76.18590\n",
      "277  70.08124\n",
      "278  58.25541\n",
      "279  86.61920\n",
      "280  81.45542\n",
      "281 105.86560\n",
      "282  75.67962\n",
      "283  83.85276\n",
      "284  68.35057\n",
      "285  48.63493\n",
      "286  88.26108\n",
      "287  93.41116\n",
      "288  55.92681\n",
      "289  53.72755\n",
      "290  42.97599\n",
      "291  90.59499\n",
      "292  48.47330\n",
      "293  83.62437\n",
      "294  73.49874\n",
      "295  84.64027\n",
      "296  85.61555\n",
      "297  46.50964\n",
      "298  45.72222\n",
      "299  56.41095\n",
      "300  64.12289\n",
      "301  77.16551\n",
      "302  43.52941\n",
      "303  42.44406\n",
      "304  94.13758\n",
      "305  61.54135\n",
      "306  44.79356\n",
      "307 104.19611\n",
      "308  68.99488\n",
      "309  46.23310\n",
      "310  62.52821\n",
      "311  41.78549\n",
      "312  48.98594\n",
      "313  99.87756\n",
      "314  41.39008\n",
      "315  88.50914\n",
      "316  90.64410\n",
      "317  96.58322\n",
      "318  73.68631\n",
      "319  92.68076\n",
      "320  78.49240\n",
      "321  72.92929\n",
      "322 104.96315\n",
      "323  57.89784\n",
      "324  76.37690\n",
      "325  75.70088\n",
      "326  97.36868\n",
      "327  84.51794\n",
      "328  57.04433\n",
      "329  95.59762\n",
      "330  94.28650\n",
      "331  95.66411\n",
      "332  63.82770\n",
      "333  44.58212\n",
      "334  73.07979\n",
      "<class 'pandas.core.frame.DataFrame'>\n"
     ]
    }
   ],
   "source": [
    "import numpy as np\n",
    "import pandas as pd\n",
    "\n",
    "my_array = y_pred_new\n",
    "\n",
    "pred1 = pd.DataFrame(my_array, columns = ['charges'])\n",
    "\n",
    "print(pred1)\n",
    "print(type(pred1))"
   ]
  },
  {
   "cell_type": "code",
   "execution_count": 62,
   "metadata": {},
   "outputs": [
    {
     "name": "stdout",
     "output_type": "stream",
     "text": [
      "     charges\n",
      "0    8.97928\n",
      "1    9.35237\n",
      "2    8.15054\n",
      "3    8.06220\n",
      "4    9.35347\n",
      "5    7.84956\n",
      "6    8.09912\n",
      "7    9.42979\n",
      "8   10.74960\n",
      "9   10.70023\n",
      "10  10.82391\n",
      "11   9.37792\n",
      "12   9.55956\n",
      "13   7.85667\n",
      "14   9.98295\n",
      "15  10.58086\n",
      "16   9.01479\n",
      "17   8.86972\n",
      "18   8.93960\n",
      "19   8.89686\n",
      "20   7.94807\n",
      "21   9.29267\n",
      "22   8.15092\n",
      "23   9.30902\n",
      "24  10.85737\n",
      "25   9.63927\n",
      "26  10.51923\n",
      "27   8.94770\n",
      "28   8.05882\n",
      "29  10.69906\n",
      "30  10.75273\n",
      "31   9.23983\n",
      "32   8.54021\n",
      "33   8.59250\n",
      "34   8.93438\n",
      "35   9.18521\n",
      "36   8.11822\n",
      "37   7.93026\n",
      "38  10.42890\n",
      "39   9.51749\n",
      "40   8.88282\n",
      "41   8.98407\n",
      "42   9.09480\n",
      "43   8.80707\n",
      "44   9.37202\n",
      "45  10.94686\n",
      "46   9.29639\n",
      "47  10.29936\n",
      "48   9.71183\n",
      "49   9.25252\n",
      "50   9.36283\n",
      "51   9.47534\n",
      "52   8.52812\n",
      "53  10.45293\n",
      "54   8.07941\n",
      "55   8.74146\n",
      "56   7.81201\n",
      "57   8.13857\n",
      "58   9.91384\n",
      "59   8.11734\n",
      "60   9.07048\n",
      "61   8.32790\n",
      "62   8.88508\n",
      "63   9.70927\n",
      "64   8.17991\n",
      "65   9.95547\n",
      "66   7.92848\n",
      "67   8.49543\n",
      "68   9.29367\n",
      "69   9.12735\n",
      "70   9.20251\n",
      "71   9.31941\n",
      "72  10.63952\n",
      "73  10.29461\n",
      "74   8.03790\n",
      "75   9.31622\n",
      "76   9.10917\n",
      "77   8.99310\n",
      "78   8.01680\n",
      "79   9.50408\n",
      "80   7.78305\n",
      "81  10.08730\n",
      "82   9.26996\n",
      "83   9.44140\n",
      "84   8.58032\n",
      "85   9.39134\n",
      "86   9.64599\n",
      "87  10.77921\n",
      "88   9.24679\n",
      "89   8.62152\n",
      "90   9.81523\n",
      "91   8.62368\n",
      "92   7.89912\n",
      "93   8.14591\n",
      "94   7.95126\n",
      "95   9.13917\n",
      "96   9.40760\n",
      "97   8.07524\n",
      "98   9.43038\n",
      "99  10.59958\n",
      "100  9.50849\n",
      "101  9.54905\n",
      "102  9.11146\n",
      "103  9.47915\n",
      "104  9.03316\n",
      "105  9.19576\n",
      "106  9.46166\n",
      "107  9.38425\n",
      "108  8.69663\n",
      "109  8.34078\n",
      "110 10.33178\n",
      "111  8.76095\n",
      "112  9.12008\n",
      "113  8.97677\n",
      "114  8.49006\n",
      "115  9.17499\n",
      "116  8.22860\n",
      "117  8.00113\n",
      "118  9.37019\n",
      "119  9.20389\n",
      "120  9.84577\n",
      "121  9.29311\n",
      "122 10.66693\n",
      "123  8.99295\n",
      "124  8.71003\n",
      "125  9.12098\n",
      "126  8.51588\n",
      "127 10.70479\n",
      "128  8.19596\n",
      "129 10.35889\n",
      "130  8.59461\n",
      "131  9.55143\n",
      "132 10.42771\n",
      "133  9.29740\n",
      "134  8.66769\n",
      "135  9.75939\n",
      "136  7.95778\n",
      "137  7.58258\n",
      "138  8.75395\n",
      "139  9.29611\n",
      "140  8.60406\n",
      "141  8.94175\n",
      "142  9.28640\n",
      "143 10.31751\n",
      "144 10.91765\n",
      "145  9.31251\n",
      "146  8.73906\n",
      "147  9.35682\n",
      "148  9.43301\n",
      "149  9.36876\n",
      "150  9.50071\n",
      "151  9.20915\n",
      "152  8.31410\n",
      "153 10.86255\n",
      "154  8.74868\n",
      "155  8.54943\n",
      "156  9.68684\n",
      "157  9.11933\n",
      "158  9.46374\n",
      "159 10.89459\n",
      "160  9.37781\n",
      "161  9.15542\n",
      "162  8.30898\n",
      "163  7.96476\n",
      "164  9.00536\n",
      "165  9.26387\n",
      "166  9.02123\n",
      "167  7.81874\n",
      "168  7.85213\n",
      "169 10.53617\n",
      "170  9.11567\n",
      "171 10.16687\n",
      "172  9.24920\n",
      "173  8.48995\n",
      "174  8.52828\n",
      "175  9.44293\n",
      "176  8.50768\n",
      "177 10.84439\n",
      "178  9.50798\n",
      "179  8.59414\n",
      "180  9.94384\n",
      "181 11.09171\n",
      "182  9.34005\n",
      "183  8.04663\n",
      "184  8.44178\n",
      "185  9.31694\n",
      "186 10.76171\n",
      "187 11.08020\n",
      "188  9.36044\n",
      "189  9.37964\n",
      "190  9.07408\n",
      "191 11.18724\n",
      "192  8.65406\n",
      "193 11.17795\n",
      "194 10.73394\n",
      "195  8.74536\n",
      "196  7.88206\n",
      "197  9.05975\n",
      "198  8.32428\n",
      "199  9.46662\n",
      "200  7.72781\n",
      "<class 'pandas.core.frame.DataFrame'>\n"
     ]
    }
   ],
   "source": [
    "import numpy as np\n",
    "import pandas as pd\n",
    "\n",
    "my_array = y_pred\n",
    "\n",
    "pred_t = pd.DataFrame(my_array, columns = ['charges'])\n",
    "\n",
    "print(pred_t)\n",
    "print(type(pred_t))"
   ]
  },
  {
   "cell_type": "code",
   "execution_count": 60,
   "metadata": {},
   "outputs": [
    {
     "data": {
      "text/html": [
       "<div>\n",
       "<style scoped>\n",
       "    .dataframe tbody tr th:only-of-type {\n",
       "        vertical-align: middle;\n",
       "    }\n",
       "\n",
       "    .dataframe tbody tr th {\n",
       "        vertical-align: top;\n",
       "    }\n",
       "\n",
       "    .dataframe thead th {\n",
       "        text-align: right;\n",
       "    }\n",
       "</style>\n",
       "<table border=\"1\" class=\"dataframe\">\n",
       "  <thead>\n",
       "    <tr style=\"text-align: right;\">\n",
       "      <th></th>\n",
       "      <th>charges</th>\n",
       "    </tr>\n",
       "  </thead>\n",
       "  <tbody>\n",
       "    <tr>\n",
       "      <th>count</th>\n",
       "      <td>335.00000</td>\n",
       "    </tr>\n",
       "    <tr>\n",
       "      <th>mean</th>\n",
       "      <td>69.72163</td>\n",
       "    </tr>\n",
       "    <tr>\n",
       "      <th>std</th>\n",
       "      <td>18.76703</td>\n",
       "    </tr>\n",
       "    <tr>\n",
       "      <th>min</th>\n",
       "      <td>36.07661</td>\n",
       "    </tr>\n",
       "    <tr>\n",
       "      <th>25%</th>\n",
       "      <td>52.52430</td>\n",
       "    </tr>\n",
       "    <tr>\n",
       "      <th>50%</th>\n",
       "      <td>71.31714</td>\n",
       "    </tr>\n",
       "    <tr>\n",
       "      <th>75%</th>\n",
       "      <td>85.35348</td>\n",
       "    </tr>\n",
       "    <tr>\n",
       "      <th>max</th>\n",
       "      <td>106.28792</td>\n",
       "    </tr>\n",
       "  </tbody>\n",
       "</table>\n",
       "</div>"
      ],
      "text/plain": [
       "        charges\n",
       "count 335.00000\n",
       "mean   69.72163\n",
       "std    18.76703\n",
       "min    36.07661\n",
       "25%    52.52430\n",
       "50%    71.31714\n",
       "75%    85.35348\n",
       "max   106.28792"
      ]
     },
     "execution_count": 60,
     "metadata": {},
     "output_type": "execute_result"
    }
   ],
   "source": [
    "pred1.describe()"
   ]
  },
  {
   "cell_type": "code",
   "execution_count": 63,
   "metadata": {},
   "outputs": [
    {
     "data": {
      "text/html": [
       "<div>\n",
       "<style scoped>\n",
       "    .dataframe tbody tr th:only-of-type {\n",
       "        vertical-align: middle;\n",
       "    }\n",
       "\n",
       "    .dataframe tbody tr th {\n",
       "        vertical-align: top;\n",
       "    }\n",
       "\n",
       "    .dataframe thead th {\n",
       "        text-align: right;\n",
       "    }\n",
       "</style>\n",
       "<table border=\"1\" class=\"dataframe\">\n",
       "  <thead>\n",
       "    <tr style=\"text-align: right;\">\n",
       "      <th></th>\n",
       "      <th>charges</th>\n",
       "    </tr>\n",
       "  </thead>\n",
       "  <tbody>\n",
       "    <tr>\n",
       "      <th>count</th>\n",
       "      <td>201.00000</td>\n",
       "    </tr>\n",
       "    <tr>\n",
       "      <th>mean</th>\n",
       "      <td>9.20292</td>\n",
       "    </tr>\n",
       "    <tr>\n",
       "      <th>std</th>\n",
       "      <td>0.86497</td>\n",
       "    </tr>\n",
       "    <tr>\n",
       "      <th>min</th>\n",
       "      <td>7.58258</td>\n",
       "    </tr>\n",
       "    <tr>\n",
       "      <th>25%</th>\n",
       "      <td>8.59250</td>\n",
       "    </tr>\n",
       "    <tr>\n",
       "      <th>50%</th>\n",
       "      <td>9.20251</td>\n",
       "    </tr>\n",
       "    <tr>\n",
       "      <th>75%</th>\n",
       "      <td>9.51749</td>\n",
       "    </tr>\n",
       "    <tr>\n",
       "      <th>max</th>\n",
       "      <td>11.18724</td>\n",
       "    </tr>\n",
       "  </tbody>\n",
       "</table>\n",
       "</div>"
      ],
      "text/plain": [
       "        charges\n",
       "count 201.00000\n",
       "mean    9.20292\n",
       "std     0.86497\n",
       "min     7.58258\n",
       "25%     8.59250\n",
       "50%     9.20251\n",
       "75%     9.51749\n",
       "max    11.18724"
      ]
     },
     "execution_count": 63,
     "metadata": {},
     "output_type": "execute_result"
    }
   ],
   "source": [
    "pred_t.describe()"
   ]
  },
  {
   "cell_type": "markdown",
   "metadata": {
    "id": "gM-lhzUWO_Ev"
   },
   "source": [
    "**Observations:**\n",
    "\n",
    "- We can see that our **R-squared score** is around **0.42**.\n",
    "\n",
    "- We have a **small dataset** so it can affect our model training as well.\n",
    "\n",
    "- This can be improved by trying **different combination** of **features** that give the **best values** for **R-squared** and **Adjusted R-squared** scores.\n",
    "\n",
    "**<h4>NOTE:**</h4>\n",
    "\n",
    "- You may try different combinations of features that affect the target variable's prediction."
   ]
  },
  {
   "cell_type": "markdown",
   "metadata": {
    "id": "VRQxc--togCt"
   },
   "source": [
    "<a name = Section9></a>\n",
    "\n",
    "---\n",
    "# **9. Conclusion**\n",
    "---\n",
    "\n",
    "- We have **analyzed** and understood the **different features** that can **influence** the **sales volume** of the **cars**.\n",
    "\n",
    "- **Price**, **resale price** and **engine size** plays an important role in **determining** the **sales volume** of the cars.\n",
    "\n",
    "- We have also built a **predictor** to **estimate** the **sales volume** based on those **influential features**.\n",
    "\n",
    "- The model **performs decently** as shown by our **evaluation metrics**.\n",
    "\n",
    "- This can help the **dealership** to **improve** their overall **sales**.\n",
    "\n",
    "- Since the data is less, **getting more records** can **improve** the model's **performance**.\n",
    "\n",
    "- We can also use other **regression** techniques and **compare** them with our trained model."
   ]
  }
 ],
 "metadata": {
  "colab": {
   "collapsed_sections": [],
   "name": "Linear Regression Assignment (Solution).ipynb",
   "provenance": []
  },
  "kernelspec": {
   "display_name": "Python 3",
   "language": "python",
   "name": "python3"
  },
  "language_info": {
   "codemirror_mode": {
    "name": "ipython",
    "version": 3
   },
   "file_extension": ".py",
   "mimetype": "text/x-python",
   "name": "python",
   "nbconvert_exporter": "python",
   "pygments_lexer": "ipython3",
   "version": "3.8.8"
  }
 },
 "nbformat": 4,
 "nbformat_minor": 1
}
